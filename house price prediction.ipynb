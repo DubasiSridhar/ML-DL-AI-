{
 "cells": [
  {
   "cell_type": "code",
   "execution_count": 192,
   "metadata": {},
   "outputs": [],
   "source": [
    "get_ipython().magic(u'matplotlib inline')\n",
    "import numpy as np\n",
    "import pandas as pd\n",
    "import matplotlib.pyplot as plt\n",
    "import os\n",
    "os.chdir(r'G:\\\\')"
   ]
  },
  {
   "cell_type": "code",
   "execution_count": 193,
   "metadata": {},
   "outputs": [],
   "source": [
    "data = pd.read_csv('House-Pricing-Data.csv')"
   ]
  },
  {
   "cell_type": "code",
   "execution_count": 5,
   "metadata": {},
   "outputs": [
    {
     "data": {
      "text/html": [
       "<div>\n",
       "<style scoped>\n",
       "    .dataframe tbody tr th:only-of-type {\n",
       "        vertical-align: middle;\n",
       "    }\n",
       "\n",
       "    .dataframe tbody tr th {\n",
       "        vertical-align: top;\n",
       "    }\n",
       "\n",
       "    .dataframe thead th {\n",
       "        text-align: right;\n",
       "    }\n",
       "</style>\n",
       "<table border=\"1\" class=\"dataframe\">\n",
       "  <thead>\n",
       "    <tr style=\"text-align: right;\">\n",
       "      <th></th>\n",
       "      <th>House_Number</th>\n",
       "      <th>Dist_Taxi</th>\n",
       "      <th>Dist_Market</th>\n",
       "      <th>Dist_Hospital</th>\n",
       "      <th>Carpet</th>\n",
       "      <th>Builtup</th>\n",
       "      <th>Parking</th>\n",
       "      <th>City_Category</th>\n",
       "      <th>Rainfall</th>\n",
       "      <th>House_Price</th>\n",
       "    </tr>\n",
       "  </thead>\n",
       "  <tbody>\n",
       "    <tr>\n",
       "      <th>0</th>\n",
       "      <td>1</td>\n",
       "      <td>9796</td>\n",
       "      <td>5250.0</td>\n",
       "      <td>10703</td>\n",
       "      <td>1659</td>\n",
       "      <td>1961.0</td>\n",
       "      <td>Open</td>\n",
       "      <td>CAT B</td>\n",
       "      <td>530</td>\n",
       "      <td>6649000</td>\n",
       "    </tr>\n",
       "    <tr>\n",
       "      <th>1</th>\n",
       "      <td>2</td>\n",
       "      <td>8294</td>\n",
       "      <td>8186.0</td>\n",
       "      <td>12694</td>\n",
       "      <td>1461</td>\n",
       "      <td>1752.0</td>\n",
       "      <td>Not Provided</td>\n",
       "      <td>CAT B</td>\n",
       "      <td>210</td>\n",
       "      <td>3982000</td>\n",
       "    </tr>\n",
       "    <tr>\n",
       "      <th>2</th>\n",
       "      <td>3</td>\n",
       "      <td>11001</td>\n",
       "      <td>14399.0</td>\n",
       "      <td>16991</td>\n",
       "      <td>1340</td>\n",
       "      <td>1609.0</td>\n",
       "      <td>Not Provided</td>\n",
       "      <td>CAT A</td>\n",
       "      <td>720</td>\n",
       "      <td>5401000</td>\n",
       "    </tr>\n",
       "    <tr>\n",
       "      <th>3</th>\n",
       "      <td>4</td>\n",
       "      <td>8301</td>\n",
       "      <td>11188.0</td>\n",
       "      <td>12289</td>\n",
       "      <td>1451</td>\n",
       "      <td>1748.0</td>\n",
       "      <td>Covered</td>\n",
       "      <td>CAT B</td>\n",
       "      <td>620</td>\n",
       "      <td>5373000</td>\n",
       "    </tr>\n",
       "    <tr>\n",
       "      <th>4</th>\n",
       "      <td>5</td>\n",
       "      <td>10510</td>\n",
       "      <td>12629.0</td>\n",
       "      <td>13921</td>\n",
       "      <td>1770</td>\n",
       "      <td>2111.0</td>\n",
       "      <td>Not Provided</td>\n",
       "      <td>CAT B</td>\n",
       "      <td>450</td>\n",
       "      <td>4662000</td>\n",
       "    </tr>\n",
       "  </tbody>\n",
       "</table>\n",
       "</div>"
      ],
      "text/plain": [
       "   House_Number  Dist_Taxi  Dist_Market  Dist_Hospital  Carpet  Builtup  \\\n",
       "0             1       9796       5250.0          10703    1659   1961.0   \n",
       "1             2       8294       8186.0          12694    1461   1752.0   \n",
       "2             3      11001      14399.0          16991    1340   1609.0   \n",
       "3             4       8301      11188.0          12289    1451   1748.0   \n",
       "4             5      10510      12629.0          13921    1770   2111.0   \n",
       "\n",
       "        Parking City_Category  Rainfall  House_Price  \n",
       "0          Open         CAT B       530      6649000  \n",
       "1  Not Provided         CAT B       210      3982000  \n",
       "2  Not Provided         CAT A       720      5401000  \n",
       "3       Covered         CAT B       620      5373000  \n",
       "4  Not Provided         CAT B       450      4662000  "
      ]
     },
     "execution_count": 5,
     "metadata": {},
     "output_type": "execute_result"
    }
   ],
   "source": [
    "data.head()"
   ]
  },
  {
   "cell_type": "code",
   "execution_count": null,
   "metadata": {},
   "outputs": [],
   "source": [
    "#house price data = pd.to_csv('house price prediction.csv')"
   ]
  },
  {
   "cell_type": "code",
   "execution_count": 6,
   "metadata": {},
   "outputs": [
    {
     "data": {
      "text/plain": [
       "(932, 10)"
      ]
     },
     "execution_count": 6,
     "metadata": {},
     "output_type": "execute_result"
    }
   ],
   "source": [
    "data.shape"
   ]
  },
  {
   "cell_type": "markdown",
   "metadata": {},
   "source": [
    "shape function is used to know the no of rows and cols in the given data"
   ]
  },
  {
   "cell_type": "code",
   "execution_count": 7,
   "metadata": {},
   "outputs": [
    {
     "data": {
      "text/plain": [
       "932"
      ]
     },
     "execution_count": 7,
     "metadata": {},
     "output_type": "execute_result"
    }
   ],
   "source": [
    "len(data)"
   ]
  },
  {
   "cell_type": "code",
   "execution_count": 8,
   "metadata": {},
   "outputs": [
    {
     "data": {
      "text/plain": [
       "['House_Number',\n",
       " 'Dist_Taxi',\n",
       " 'Dist_Market',\n",
       " 'Dist_Hospital',\n",
       " 'Carpet',\n",
       " 'Builtup',\n",
       " 'Parking',\n",
       " 'City_Category',\n",
       " 'Rainfall',\n",
       " 'House_Price']"
      ]
     },
     "execution_count": 8,
     "metadata": {},
     "output_type": "execute_result"
    }
   ],
   "source": [
    "#To know the column names\n",
    "data.columns\n",
    "list(data)"
   ]
  },
  {
   "cell_type": "markdown",
   "metadata": {},
   "source": [
    "list(data) gives the columns name in a list"
   ]
  },
  {
   "cell_type": "code",
   "execution_count": 9,
   "metadata": {},
   "outputs": [
    {
     "name": "stdout",
     "output_type": "stream",
     "text": [
      "<class 'pandas.core.frame.DataFrame'>\n",
      "RangeIndex: 932 entries, 0 to 931\n",
      "Data columns (total 10 columns):\n",
      " #   Column         Non-Null Count  Dtype  \n",
      "---  ------         --------------  -----  \n",
      " 0   House_Number   932 non-null    int64  \n",
      " 1   Dist_Taxi      932 non-null    int64  \n",
      " 2   Dist_Market    932 non-null    float64\n",
      " 3   Dist_Hospital  932 non-null    int64  \n",
      " 4   Carpet         932 non-null    int64  \n",
      " 5   Builtup        932 non-null    float64\n",
      " 6   Parking        932 non-null    object \n",
      " 7   City_Category  932 non-null    object \n",
      " 8   Rainfall       932 non-null    int64  \n",
      " 9   House_Price    932 non-null    int64  \n",
      "dtypes: float64(2), int64(6), object(2)\n",
      "memory usage: 72.9+ KB\n"
     ]
    }
   ],
   "source": [
    "data.info()"
   ]
  },
  {
   "cell_type": "markdown",
   "metadata": {},
   "source": [
    "info() is used to know the datatype and presence of the null values in data"
   ]
  },
  {
   "cell_type": "code",
   "execution_count": 10,
   "metadata": {},
   "outputs": [
    {
     "data": {
      "text/html": [
       "<div>\n",
       "<style scoped>\n",
       "    .dataframe tbody tr th:only-of-type {\n",
       "        vertical-align: middle;\n",
       "    }\n",
       "\n",
       "    .dataframe tbody tr th {\n",
       "        vertical-align: top;\n",
       "    }\n",
       "\n",
       "    .dataframe thead th {\n",
       "        text-align: right;\n",
       "    }\n",
       "</style>\n",
       "<table border=\"1\" class=\"dataframe\">\n",
       "  <thead>\n",
       "    <tr style=\"text-align: right;\">\n",
       "      <th></th>\n",
       "      <th>House_Number</th>\n",
       "      <th>Dist_Taxi</th>\n",
       "      <th>Dist_Market</th>\n",
       "      <th>Dist_Hospital</th>\n",
       "      <th>Carpet</th>\n",
       "      <th>Builtup</th>\n",
       "      <th>Parking</th>\n",
       "      <th>City_Category</th>\n",
       "      <th>Rainfall</th>\n",
       "      <th>House_Price</th>\n",
       "    </tr>\n",
       "  </thead>\n",
       "  <tbody>\n",
       "    <tr>\n",
       "      <th>0</th>\n",
       "      <td>1</td>\n",
       "      <td>9796</td>\n",
       "      <td>5250.0</td>\n",
       "      <td>10703</td>\n",
       "      <td>1659</td>\n",
       "      <td>1961.0</td>\n",
       "      <td>Open</td>\n",
       "      <td>CAT B</td>\n",
       "      <td>530</td>\n",
       "      <td>6649000</td>\n",
       "    </tr>\n",
       "    <tr>\n",
       "      <th>1</th>\n",
       "      <td>2</td>\n",
       "      <td>8294</td>\n",
       "      <td>8186.0</td>\n",
       "      <td>12694</td>\n",
       "      <td>1461</td>\n",
       "      <td>1752.0</td>\n",
       "      <td>Not Provided</td>\n",
       "      <td>CAT B</td>\n",
       "      <td>210</td>\n",
       "      <td>3982000</td>\n",
       "    </tr>\n",
       "    <tr>\n",
       "      <th>2</th>\n",
       "      <td>3</td>\n",
       "      <td>11001</td>\n",
       "      <td>14399.0</td>\n",
       "      <td>16991</td>\n",
       "      <td>1340</td>\n",
       "      <td>1609.0</td>\n",
       "      <td>Not Provided</td>\n",
       "      <td>CAT A</td>\n",
       "      <td>720</td>\n",
       "      <td>5401000</td>\n",
       "    </tr>\n",
       "    <tr>\n",
       "      <th>3</th>\n",
       "      <td>4</td>\n",
       "      <td>8301</td>\n",
       "      <td>11188.0</td>\n",
       "      <td>12289</td>\n",
       "      <td>1451</td>\n",
       "      <td>1748.0</td>\n",
       "      <td>Covered</td>\n",
       "      <td>CAT B</td>\n",
       "      <td>620</td>\n",
       "      <td>5373000</td>\n",
       "    </tr>\n",
       "    <tr>\n",
       "      <th>4</th>\n",
       "      <td>5</td>\n",
       "      <td>10510</td>\n",
       "      <td>12629.0</td>\n",
       "      <td>13921</td>\n",
       "      <td>1770</td>\n",
       "      <td>2111.0</td>\n",
       "      <td>Not Provided</td>\n",
       "      <td>CAT B</td>\n",
       "      <td>450</td>\n",
       "      <td>4662000</td>\n",
       "    </tr>\n",
       "  </tbody>\n",
       "</table>\n",
       "</div>"
      ],
      "text/plain": [
       "   House_Number  Dist_Taxi  Dist_Market  Dist_Hospital  Carpet  Builtup  \\\n",
       "0             1       9796       5250.0          10703    1659   1961.0   \n",
       "1             2       8294       8186.0          12694    1461   1752.0   \n",
       "2             3      11001      14399.0          16991    1340   1609.0   \n",
       "3             4       8301      11188.0          12289    1451   1748.0   \n",
       "4             5      10510      12629.0          13921    1770   2111.0   \n",
       "\n",
       "        Parking City_Category  Rainfall  House_Price  \n",
       "0          Open         CAT B       530      6649000  \n",
       "1  Not Provided         CAT B       210      3982000  \n",
       "2  Not Provided         CAT A       720      5401000  \n",
       "3       Covered         CAT B       620      5373000  \n",
       "4  Not Provided         CAT B       450      4662000  "
      ]
     },
     "execution_count": 10,
     "metadata": {},
     "output_type": "execute_result"
    }
   ],
   "source": [
    "data.head()"
   ]
  },
  {
   "cell_type": "markdown",
   "metadata": {},
   "source": [
    "head()is used to display the  first five rows "
   ]
  },
  {
   "cell_type": "code",
   "execution_count": 11,
   "metadata": {},
   "outputs": [
    {
     "data": {
      "text/html": [
       "<div>\n",
       "<style scoped>\n",
       "    .dataframe tbody tr th:only-of-type {\n",
       "        vertical-align: middle;\n",
       "    }\n",
       "\n",
       "    .dataframe tbody tr th {\n",
       "        vertical-align: top;\n",
       "    }\n",
       "\n",
       "    .dataframe thead th {\n",
       "        text-align: right;\n",
       "    }\n",
       "</style>\n",
       "<table border=\"1\" class=\"dataframe\">\n",
       "  <thead>\n",
       "    <tr style=\"text-align: right;\">\n",
       "      <th></th>\n",
       "      <th>House_Number</th>\n",
       "      <th>Dist_Taxi</th>\n",
       "      <th>Dist_Market</th>\n",
       "      <th>Dist_Hospital</th>\n",
       "      <th>Carpet</th>\n",
       "      <th>Builtup</th>\n",
       "      <th>Rainfall</th>\n",
       "      <th>House_Price</th>\n",
       "    </tr>\n",
       "  </thead>\n",
       "  <tbody>\n",
       "    <tr>\n",
       "      <th>count</th>\n",
       "      <td>932.000000</td>\n",
       "      <td>932.000000</td>\n",
       "      <td>932.000000</td>\n",
       "      <td>932.000000</td>\n",
       "      <td>932.000000</td>\n",
       "      <td>932.000000</td>\n",
       "      <td>932.000000</td>\n",
       "      <td>9.320000e+02</td>\n",
       "    </tr>\n",
       "    <tr>\n",
       "      <th>mean</th>\n",
       "      <td>466.500000</td>\n",
       "      <td>8229.731760</td>\n",
       "      <td>11018.752951</td>\n",
       "      <td>13072.092275</td>\n",
       "      <td>1511.863734</td>\n",
       "      <td>1804.972908</td>\n",
       "      <td>785.579399</td>\n",
       "      <td>6.084695e+06</td>\n",
       "    </tr>\n",
       "    <tr>\n",
       "      <th>std</th>\n",
       "      <td>269.189524</td>\n",
       "      <td>2544.035013</td>\n",
       "      <td>2526.097159</td>\n",
       "      <td>2585.066714</td>\n",
       "      <td>787.563962</td>\n",
       "      <td>554.009887</td>\n",
       "      <td>265.546853</td>\n",
       "      <td>5.025364e+06</td>\n",
       "    </tr>\n",
       "    <tr>\n",
       "      <th>min</th>\n",
       "      <td>1.000000</td>\n",
       "      <td>146.000000</td>\n",
       "      <td>1666.000000</td>\n",
       "      <td>3227.000000</td>\n",
       "      <td>775.000000</td>\n",
       "      <td>932.000000</td>\n",
       "      <td>-110.000000</td>\n",
       "      <td>3.000000e+04</td>\n",
       "    </tr>\n",
       "    <tr>\n",
       "      <th>25%</th>\n",
       "      <td>233.750000</td>\n",
       "      <td>6496.000000</td>\n",
       "      <td>9371.750000</td>\n",
       "      <td>11301.750000</td>\n",
       "      <td>1319.750000</td>\n",
       "      <td>1586.750000</td>\n",
       "      <td>600.000000</td>\n",
       "      <td>4.658000e+06</td>\n",
       "    </tr>\n",
       "    <tr>\n",
       "      <th>50%</th>\n",
       "      <td>466.500000</td>\n",
       "      <td>8230.000000</td>\n",
       "      <td>11112.000000</td>\n",
       "      <td>13154.500000</td>\n",
       "      <td>1484.000000</td>\n",
       "      <td>1777.500000</td>\n",
       "      <td>780.000000</td>\n",
       "      <td>5.866000e+06</td>\n",
       "    </tr>\n",
       "    <tr>\n",
       "      <th>75%</th>\n",
       "      <td>699.250000</td>\n",
       "      <td>9918.750000</td>\n",
       "      <td>12653.000000</td>\n",
       "      <td>14803.500000</td>\n",
       "      <td>1652.250000</td>\n",
       "      <td>1981.250000</td>\n",
       "      <td>970.000000</td>\n",
       "      <td>7.187250e+06</td>\n",
       "    </tr>\n",
       "    <tr>\n",
       "      <th>max</th>\n",
       "      <td>932.000000</td>\n",
       "      <td>20662.000000</td>\n",
       "      <td>20945.000000</td>\n",
       "      <td>23294.000000</td>\n",
       "      <td>24300.000000</td>\n",
       "      <td>12730.000000</td>\n",
       "      <td>1560.000000</td>\n",
       "      <td>1.500000e+08</td>\n",
       "    </tr>\n",
       "  </tbody>\n",
       "</table>\n",
       "</div>"
      ],
      "text/plain": [
       "       House_Number     Dist_Taxi   Dist_Market  Dist_Hospital        Carpet  \\\n",
       "count    932.000000    932.000000    932.000000     932.000000    932.000000   \n",
       "mean     466.500000   8229.731760  11018.752951   13072.092275   1511.863734   \n",
       "std      269.189524   2544.035013   2526.097159    2585.066714    787.563962   \n",
       "min        1.000000    146.000000   1666.000000    3227.000000    775.000000   \n",
       "25%      233.750000   6496.000000   9371.750000   11301.750000   1319.750000   \n",
       "50%      466.500000   8230.000000  11112.000000   13154.500000   1484.000000   \n",
       "75%      699.250000   9918.750000  12653.000000   14803.500000   1652.250000   \n",
       "max      932.000000  20662.000000  20945.000000   23294.000000  24300.000000   \n",
       "\n",
       "            Builtup     Rainfall   House_Price  \n",
       "count    932.000000   932.000000  9.320000e+02  \n",
       "mean    1804.972908   785.579399  6.084695e+06  \n",
       "std      554.009887   265.546853  5.025364e+06  \n",
       "min      932.000000  -110.000000  3.000000e+04  \n",
       "25%     1586.750000   600.000000  4.658000e+06  \n",
       "50%     1777.500000   780.000000  5.866000e+06  \n",
       "75%     1981.250000   970.000000  7.187250e+06  \n",
       "max    12730.000000  1560.000000  1.500000e+08  "
      ]
     },
     "execution_count": 11,
     "metadata": {},
     "output_type": "execute_result"
    }
   ],
   "source": [
    "data.describe()"
   ]
  },
  {
   "cell_type": "markdown",
   "metadata": {},
   "source": [
    "describe() function provides all the univariate analysis"
   ]
  },
  {
   "cell_type": "code",
   "execution_count": 12,
   "metadata": {
    "scrolled": true
   },
   "outputs": [
    {
     "data": {
      "text/plain": [
       "House_Number     0\n",
       "Dist_Taxi        0\n",
       "Dist_Market      0\n",
       "Dist_Hospital    0\n",
       "Carpet           0\n",
       "Builtup          0\n",
       "Parking          0\n",
       "City_Category    0\n",
       "Rainfall         0\n",
       "House_Price      0\n",
       "dtype: int64"
      ]
     },
     "execution_count": 12,
     "metadata": {},
     "output_type": "execute_result"
    }
   ],
   "source": [
    "#To check the missing values by column\n",
    "data.isnull().sum()"
   ]
  },
  {
   "cell_type": "markdown",
   "metadata": {},
   "source": [
    "gives the no of null values in the cols"
   ]
  },
  {
   "cell_type": "code",
   "execution_count": 13,
   "metadata": {},
   "outputs": [],
   "source": [
    "df = data"
   ]
  },
  {
   "cell_type": "code",
   "execution_count": 14,
   "metadata": {},
   "outputs": [
    {
     "data": {
      "text/html": [
       "<div>\n",
       "<style scoped>\n",
       "    .dataframe tbody tr th:only-of-type {\n",
       "        vertical-align: middle;\n",
       "    }\n",
       "\n",
       "    .dataframe tbody tr th {\n",
       "        vertical-align: top;\n",
       "    }\n",
       "\n",
       "    .dataframe thead th {\n",
       "        text-align: right;\n",
       "    }\n",
       "</style>\n",
       "<table border=\"1\" class=\"dataframe\">\n",
       "  <thead>\n",
       "    <tr style=\"text-align: right;\">\n",
       "      <th></th>\n",
       "      <th>House_Number</th>\n",
       "      <th>Dist_Taxi</th>\n",
       "      <th>Dist_Market</th>\n",
       "      <th>Dist_Hospital</th>\n",
       "      <th>Carpet</th>\n",
       "      <th>Builtup</th>\n",
       "      <th>Parking</th>\n",
       "      <th>City_Category</th>\n",
       "      <th>Rainfall</th>\n",
       "      <th>House_Price</th>\n",
       "    </tr>\n",
       "  </thead>\n",
       "  <tbody>\n",
       "    <tr>\n",
       "      <th>0</th>\n",
       "      <td>1</td>\n",
       "      <td>9796</td>\n",
       "      <td>5250.0</td>\n",
       "      <td>10703</td>\n",
       "      <td>1659</td>\n",
       "      <td>1961.0</td>\n",
       "      <td>Open</td>\n",
       "      <td>CAT B</td>\n",
       "      <td>530</td>\n",
       "      <td>6649000</td>\n",
       "    </tr>\n",
       "    <tr>\n",
       "      <th>1</th>\n",
       "      <td>2</td>\n",
       "      <td>8294</td>\n",
       "      <td>8186.0</td>\n",
       "      <td>12694</td>\n",
       "      <td>1461</td>\n",
       "      <td>1752.0</td>\n",
       "      <td>Not Provided</td>\n",
       "      <td>CAT B</td>\n",
       "      <td>210</td>\n",
       "      <td>3982000</td>\n",
       "    </tr>\n",
       "    <tr>\n",
       "      <th>2</th>\n",
       "      <td>3</td>\n",
       "      <td>11001</td>\n",
       "      <td>14399.0</td>\n",
       "      <td>16991</td>\n",
       "      <td>1340</td>\n",
       "      <td>1609.0</td>\n",
       "      <td>Not Provided</td>\n",
       "      <td>CAT A</td>\n",
       "      <td>720</td>\n",
       "      <td>5401000</td>\n",
       "    </tr>\n",
       "    <tr>\n",
       "      <th>3</th>\n",
       "      <td>4</td>\n",
       "      <td>8301</td>\n",
       "      <td>11188.0</td>\n",
       "      <td>12289</td>\n",
       "      <td>1451</td>\n",
       "      <td>1748.0</td>\n",
       "      <td>Covered</td>\n",
       "      <td>CAT B</td>\n",
       "      <td>620</td>\n",
       "      <td>5373000</td>\n",
       "    </tr>\n",
       "    <tr>\n",
       "      <th>4</th>\n",
       "      <td>5</td>\n",
       "      <td>10510</td>\n",
       "      <td>12629.0</td>\n",
       "      <td>13921</td>\n",
       "      <td>1770</td>\n",
       "      <td>2111.0</td>\n",
       "      <td>Not Provided</td>\n",
       "      <td>CAT B</td>\n",
       "      <td>450</td>\n",
       "      <td>4662000</td>\n",
       "    </tr>\n",
       "    <tr>\n",
       "      <th>...</th>\n",
       "      <td>...</td>\n",
       "      <td>...</td>\n",
       "      <td>...</td>\n",
       "      <td>...</td>\n",
       "      <td>...</td>\n",
       "      <td>...</td>\n",
       "      <td>...</td>\n",
       "      <td>...</td>\n",
       "      <td>...</td>\n",
       "      <td>...</td>\n",
       "    </tr>\n",
       "    <tr>\n",
       "      <th>927</th>\n",
       "      <td>928</td>\n",
       "      <td>12176</td>\n",
       "      <td>8518.0</td>\n",
       "      <td>15673</td>\n",
       "      <td>1582</td>\n",
       "      <td>1910.0</td>\n",
       "      <td>Covered</td>\n",
       "      <td>CAT C</td>\n",
       "      <td>1080</td>\n",
       "      <td>6639000</td>\n",
       "    </tr>\n",
       "    <tr>\n",
       "      <th>928</th>\n",
       "      <td>929</td>\n",
       "      <td>7214</td>\n",
       "      <td>8717.0</td>\n",
       "      <td>10553</td>\n",
       "      <td>1387</td>\n",
       "      <td>1663.0</td>\n",
       "      <td>Open</td>\n",
       "      <td>CAT A</td>\n",
       "      <td>850</td>\n",
       "      <td>8208000</td>\n",
       "    </tr>\n",
       "    <tr>\n",
       "      <th>929</th>\n",
       "      <td>930</td>\n",
       "      <td>7423</td>\n",
       "      <td>11708.0</td>\n",
       "      <td>13220</td>\n",
       "      <td>1200</td>\n",
       "      <td>1436.0</td>\n",
       "      <td>Open</td>\n",
       "      <td>CAT A</td>\n",
       "      <td>1060</td>\n",
       "      <td>7644000</td>\n",
       "    </tr>\n",
       "    <tr>\n",
       "      <th>930</th>\n",
       "      <td>931</td>\n",
       "      <td>15082</td>\n",
       "      <td>14700.0</td>\n",
       "      <td>19617</td>\n",
       "      <td>1299</td>\n",
       "      <td>1560.0</td>\n",
       "      <td>Open</td>\n",
       "      <td>CAT B</td>\n",
       "      <td>770</td>\n",
       "      <td>9661000</td>\n",
       "    </tr>\n",
       "    <tr>\n",
       "      <th>931</th>\n",
       "      <td>932</td>\n",
       "      <td>9297</td>\n",
       "      <td>12537.0</td>\n",
       "      <td>14418</td>\n",
       "      <td>1174</td>\n",
       "      <td>1429.0</td>\n",
       "      <td>Covered</td>\n",
       "      <td>CAT C</td>\n",
       "      <td>1110</td>\n",
       "      <td>5434000</td>\n",
       "    </tr>\n",
       "  </tbody>\n",
       "</table>\n",
       "<p>932 rows × 10 columns</p>\n",
       "</div>"
      ],
      "text/plain": [
       "     House_Number  Dist_Taxi  Dist_Market  Dist_Hospital  Carpet  Builtup  \\\n",
       "0               1       9796       5250.0          10703    1659   1961.0   \n",
       "1               2       8294       8186.0          12694    1461   1752.0   \n",
       "2               3      11001      14399.0          16991    1340   1609.0   \n",
       "3               4       8301      11188.0          12289    1451   1748.0   \n",
       "4               5      10510      12629.0          13921    1770   2111.0   \n",
       "..            ...        ...          ...            ...     ...      ...   \n",
       "927           928      12176       8518.0          15673    1582   1910.0   \n",
       "928           929       7214       8717.0          10553    1387   1663.0   \n",
       "929           930       7423      11708.0          13220    1200   1436.0   \n",
       "930           931      15082      14700.0          19617    1299   1560.0   \n",
       "931           932       9297      12537.0          14418    1174   1429.0   \n",
       "\n",
       "          Parking City_Category  Rainfall  House_Price  \n",
       "0            Open         CAT B       530      6649000  \n",
       "1    Not Provided         CAT B       210      3982000  \n",
       "2    Not Provided         CAT A       720      5401000  \n",
       "3         Covered         CAT B       620      5373000  \n",
       "4    Not Provided         CAT B       450      4662000  \n",
       "..            ...           ...       ...          ...  \n",
       "927       Covered         CAT C      1080      6639000  \n",
       "928          Open         CAT A       850      8208000  \n",
       "929          Open         CAT A      1060      7644000  \n",
       "930          Open         CAT B       770      9661000  \n",
       "931       Covered         CAT C      1110      5434000  \n",
       "\n",
       "[932 rows x 10 columns]"
      ]
     },
     "execution_count": 14,
     "metadata": {},
     "output_type": "execute_result"
    }
   ],
   "source": [
    "df"
   ]
  },
  {
   "cell_type": "code",
   "execution_count": 15,
   "metadata": {},
   "outputs": [
    {
     "data": {
      "text/plain": [
       "8229.731759656652"
      ]
     },
     "execution_count": 15,
     "metadata": {},
     "output_type": "execute_result"
    }
   ],
   "source": [
    "df['Dist_Taxi'].mean()"
   ]
  },
  {
   "cell_type": "markdown",
   "metadata": {},
   "source": [
    "to find the mean for the specific col"
   ]
  },
  {
   "cell_type": "code",
   "execution_count": 16,
   "metadata": {},
   "outputs": [
    {
     "data": {
      "text/html": [
       "<div>\n",
       "<style scoped>\n",
       "    .dataframe tbody tr th:only-of-type {\n",
       "        vertical-align: middle;\n",
       "    }\n",
       "\n",
       "    .dataframe tbody tr th {\n",
       "        vertical-align: top;\n",
       "    }\n",
       "\n",
       "    .dataframe thead th {\n",
       "        text-align: right;\n",
       "    }\n",
       "</style>\n",
       "<table border=\"1\" class=\"dataframe\">\n",
       "  <thead>\n",
       "    <tr style=\"text-align: right;\">\n",
       "      <th></th>\n",
       "      <th>House_Number</th>\n",
       "      <th>Dist_Taxi</th>\n",
       "      <th>Dist_Market</th>\n",
       "      <th>Dist_Hospital</th>\n",
       "      <th>Carpet</th>\n",
       "      <th>Builtup</th>\n",
       "      <th>Parking</th>\n",
       "      <th>City_Category</th>\n",
       "      <th>Rainfall</th>\n",
       "      <th>House_Price</th>\n",
       "    </tr>\n",
       "  </thead>\n",
       "  <tbody>\n",
       "    <tr>\n",
       "      <th>45</th>\n",
       "      <td>46</td>\n",
       "      <td>8794</td>\n",
       "      <td>12199.00</td>\n",
       "      <td>14275</td>\n",
       "      <td>1665</td>\n",
       "      <td>2001.0</td>\n",
       "      <td>No Parking</td>\n",
       "      <td>CAT A</td>\n",
       "      <td>730</td>\n",
       "      <td>6764000</td>\n",
       "    </tr>\n",
       "    <tr>\n",
       "      <th>46</th>\n",
       "      <td>47</td>\n",
       "      <td>6017</td>\n",
       "      <td>14147.00</td>\n",
       "      <td>12642</td>\n",
       "      <td>1780</td>\n",
       "      <td>2117.0</td>\n",
       "      <td>Open</td>\n",
       "      <td>CAT C</td>\n",
       "      <td>780</td>\n",
       "      <td>3973000</td>\n",
       "    </tr>\n",
       "    <tr>\n",
       "      <th>47</th>\n",
       "      <td>48</td>\n",
       "      <td>11265</td>\n",
       "      <td>12999.00</td>\n",
       "      <td>14621</td>\n",
       "      <td>1009</td>\n",
       "      <td>1194.0</td>\n",
       "      <td>Not Provided</td>\n",
       "      <td>CAT C</td>\n",
       "      <td>520</td>\n",
       "      <td>3580000</td>\n",
       "    </tr>\n",
       "    <tr>\n",
       "      <th>48</th>\n",
       "      <td>49</td>\n",
       "      <td>6407</td>\n",
       "      <td>10134.00</td>\n",
       "      <td>13433</td>\n",
       "      <td>1227</td>\n",
       "      <td>1471.0</td>\n",
       "      <td>No Parking</td>\n",
       "      <td>CAT A</td>\n",
       "      <td>870</td>\n",
       "      <td>4927000</td>\n",
       "    </tr>\n",
       "    <tr>\n",
       "      <th>49</th>\n",
       "      <td>50</td>\n",
       "      <td>8230</td>\n",
       "      <td>11018.75</td>\n",
       "      <td>10643</td>\n",
       "      <td>1565</td>\n",
       "      <td>1885.0</td>\n",
       "      <td>Not Provided</td>\n",
       "      <td>CAT A</td>\n",
       "      <td>660</td>\n",
       "      <td>6707000</td>\n",
       "    </tr>\n",
       "    <tr>\n",
       "      <th>...</th>\n",
       "      <td>...</td>\n",
       "      <td>...</td>\n",
       "      <td>...</td>\n",
       "      <td>...</td>\n",
       "      <td>...</td>\n",
       "      <td>...</td>\n",
       "      <td>...</td>\n",
       "      <td>...</td>\n",
       "      <td>...</td>\n",
       "      <td>...</td>\n",
       "    </tr>\n",
       "    <tr>\n",
       "      <th>927</th>\n",
       "      <td>928</td>\n",
       "      <td>12176</td>\n",
       "      <td>8518.00</td>\n",
       "      <td>15673</td>\n",
       "      <td>1582</td>\n",
       "      <td>1910.0</td>\n",
       "      <td>Covered</td>\n",
       "      <td>CAT C</td>\n",
       "      <td>1080</td>\n",
       "      <td>6639000</td>\n",
       "    </tr>\n",
       "    <tr>\n",
       "      <th>928</th>\n",
       "      <td>929</td>\n",
       "      <td>7214</td>\n",
       "      <td>8717.00</td>\n",
       "      <td>10553</td>\n",
       "      <td>1387</td>\n",
       "      <td>1663.0</td>\n",
       "      <td>Open</td>\n",
       "      <td>CAT A</td>\n",
       "      <td>850</td>\n",
       "      <td>8208000</td>\n",
       "    </tr>\n",
       "    <tr>\n",
       "      <th>929</th>\n",
       "      <td>930</td>\n",
       "      <td>7423</td>\n",
       "      <td>11708.00</td>\n",
       "      <td>13220</td>\n",
       "      <td>1200</td>\n",
       "      <td>1436.0</td>\n",
       "      <td>Open</td>\n",
       "      <td>CAT A</td>\n",
       "      <td>1060</td>\n",
       "      <td>7644000</td>\n",
       "    </tr>\n",
       "    <tr>\n",
       "      <th>930</th>\n",
       "      <td>931</td>\n",
       "      <td>15082</td>\n",
       "      <td>14700.00</td>\n",
       "      <td>19617</td>\n",
       "      <td>1299</td>\n",
       "      <td>1560.0</td>\n",
       "      <td>Open</td>\n",
       "      <td>CAT B</td>\n",
       "      <td>770</td>\n",
       "      <td>9661000</td>\n",
       "    </tr>\n",
       "    <tr>\n",
       "      <th>931</th>\n",
       "      <td>932</td>\n",
       "      <td>9297</td>\n",
       "      <td>12537.00</td>\n",
       "      <td>14418</td>\n",
       "      <td>1174</td>\n",
       "      <td>1429.0</td>\n",
       "      <td>Covered</td>\n",
       "      <td>CAT C</td>\n",
       "      <td>1110</td>\n",
       "      <td>5434000</td>\n",
       "    </tr>\n",
       "  </tbody>\n",
       "</table>\n",
       "<p>887 rows × 10 columns</p>\n",
       "</div>"
      ],
      "text/plain": [
       "     House_Number  Dist_Taxi  Dist_Market  Dist_Hospital  Carpet  Builtup  \\\n",
       "45             46       8794     12199.00          14275    1665   2001.0   \n",
       "46             47       6017     14147.00          12642    1780   2117.0   \n",
       "47             48      11265     12999.00          14621    1009   1194.0   \n",
       "48             49       6407     10134.00          13433    1227   1471.0   \n",
       "49             50       8230     11018.75          10643    1565   1885.0   \n",
       "..            ...        ...          ...            ...     ...      ...   \n",
       "927           928      12176      8518.00          15673    1582   1910.0   \n",
       "928           929       7214      8717.00          10553    1387   1663.0   \n",
       "929           930       7423     11708.00          13220    1200   1436.0   \n",
       "930           931      15082     14700.00          19617    1299   1560.0   \n",
       "931           932       9297     12537.00          14418    1174   1429.0   \n",
       "\n",
       "          Parking City_Category  Rainfall  House_Price  \n",
       "45     No Parking         CAT A       730      6764000  \n",
       "46           Open         CAT C       780      3973000  \n",
       "47   Not Provided         CAT C       520      3580000  \n",
       "48     No Parking         CAT A       870      4927000  \n",
       "49   Not Provided         CAT A       660      6707000  \n",
       "..            ...           ...       ...          ...  \n",
       "927       Covered         CAT C      1080      6639000  \n",
       "928          Open         CAT A       850      8208000  \n",
       "929          Open         CAT A      1060      7644000  \n",
       "930          Open         CAT B       770      9661000  \n",
       "931       Covered         CAT C      1110      5434000  \n",
       "\n",
       "[887 rows x 10 columns]"
      ]
     },
     "execution_count": 16,
     "metadata": {},
     "output_type": "execute_result"
    }
   ],
   "source": [
    "df.iloc[45:,:]\n"
   ]
  },
  {
   "cell_type": "markdown",
   "metadata": {},
   "source": [
    "to find the no of null values in the specific row for all the cols"
   ]
  },
  {
   "cell_type": "code",
   "execution_count": 17,
   "metadata": {},
   "outputs": [
    {
     "data": {
      "text/plain": [
       "House_Number     False\n",
       "Dist_Taxi        False\n",
       "Dist_Market      False\n",
       "Dist_Hospital    False\n",
       "Carpet           False\n",
       "Builtup          False\n",
       "Parking          False\n",
       "City_Category    False\n",
       "Rainfall         False\n",
       "House_Price      False\n",
       "dtype: bool"
      ]
     },
     "execution_count": 17,
     "metadata": {},
     "output_type": "execute_result"
    }
   ],
   "source": [
    "df.isnull().any()"
   ]
  },
  {
   "cell_type": "markdown",
   "metadata": {},
   "source": [
    "to find the null values in the cols"
   ]
  },
  {
   "cell_type": "code",
   "execution_count": 18,
   "metadata": {},
   "outputs": [],
   "source": [
    "df['Dist_Taxi'] = df['Dist_Taxi'].fillna(df['Dist_Taxi'].mean())\n",
    "df['Dist_Market'] = df['Dist_Market'].fillna(df['Dist_Market'].mean())\n",
    "df['Dist_Hospital'] = df['Dist_Hospital'].fillna(df['Dist_Hospital'].mean())\n",
    "df['Carpet'] = df['Carpet'].fillna(df['Carpet'].mean())\n",
    "df['Builtup'] = df['Builtup'].fillna(df['Builtup'].mean())"
   ]
  },
  {
   "cell_type": "markdown",
   "metadata": {},
   "source": [
    "since the above cols are having null values we are filling the null values by its mean by using fillna"
   ]
  },
  {
   "cell_type": "code",
   "execution_count": 19,
   "metadata": {},
   "outputs": [
    {
     "data": {
      "text/html": [
       "<div>\n",
       "<style scoped>\n",
       "    .dataframe tbody tr th:only-of-type {\n",
       "        vertical-align: middle;\n",
       "    }\n",
       "\n",
       "    .dataframe tbody tr th {\n",
       "        vertical-align: top;\n",
       "    }\n",
       "\n",
       "    .dataframe thead th {\n",
       "        text-align: right;\n",
       "    }\n",
       "</style>\n",
       "<table border=\"1\" class=\"dataframe\">\n",
       "  <thead>\n",
       "    <tr style=\"text-align: right;\">\n",
       "      <th></th>\n",
       "      <th>House_Number</th>\n",
       "      <th>Dist_Taxi</th>\n",
       "      <th>Dist_Market</th>\n",
       "      <th>Dist_Hospital</th>\n",
       "      <th>Carpet</th>\n",
       "      <th>Builtup</th>\n",
       "      <th>Parking</th>\n",
       "      <th>City_Category</th>\n",
       "      <th>Rainfall</th>\n",
       "      <th>House_Price</th>\n",
       "    </tr>\n",
       "  </thead>\n",
       "  <tbody>\n",
       "    <tr>\n",
       "      <th>45</th>\n",
       "      <td>46</td>\n",
       "      <td>8794</td>\n",
       "      <td>12199.00</td>\n",
       "      <td>14275</td>\n",
       "      <td>1665</td>\n",
       "      <td>2001.0</td>\n",
       "      <td>No Parking</td>\n",
       "      <td>CAT A</td>\n",
       "      <td>730</td>\n",
       "      <td>6764000</td>\n",
       "    </tr>\n",
       "    <tr>\n",
       "      <th>46</th>\n",
       "      <td>47</td>\n",
       "      <td>6017</td>\n",
       "      <td>14147.00</td>\n",
       "      <td>12642</td>\n",
       "      <td>1780</td>\n",
       "      <td>2117.0</td>\n",
       "      <td>Open</td>\n",
       "      <td>CAT C</td>\n",
       "      <td>780</td>\n",
       "      <td>3973000</td>\n",
       "    </tr>\n",
       "    <tr>\n",
       "      <th>47</th>\n",
       "      <td>48</td>\n",
       "      <td>11265</td>\n",
       "      <td>12999.00</td>\n",
       "      <td>14621</td>\n",
       "      <td>1009</td>\n",
       "      <td>1194.0</td>\n",
       "      <td>Not Provided</td>\n",
       "      <td>CAT C</td>\n",
       "      <td>520</td>\n",
       "      <td>3580000</td>\n",
       "    </tr>\n",
       "    <tr>\n",
       "      <th>48</th>\n",
       "      <td>49</td>\n",
       "      <td>6407</td>\n",
       "      <td>10134.00</td>\n",
       "      <td>13433</td>\n",
       "      <td>1227</td>\n",
       "      <td>1471.0</td>\n",
       "      <td>No Parking</td>\n",
       "      <td>CAT A</td>\n",
       "      <td>870</td>\n",
       "      <td>4927000</td>\n",
       "    </tr>\n",
       "    <tr>\n",
       "      <th>49</th>\n",
       "      <td>50</td>\n",
       "      <td>8230</td>\n",
       "      <td>11018.75</td>\n",
       "      <td>10643</td>\n",
       "      <td>1565</td>\n",
       "      <td>1885.0</td>\n",
       "      <td>Not Provided</td>\n",
       "      <td>CAT A</td>\n",
       "      <td>660</td>\n",
       "      <td>6707000</td>\n",
       "    </tr>\n",
       "    <tr>\n",
       "      <th>...</th>\n",
       "      <td>...</td>\n",
       "      <td>...</td>\n",
       "      <td>...</td>\n",
       "      <td>...</td>\n",
       "      <td>...</td>\n",
       "      <td>...</td>\n",
       "      <td>...</td>\n",
       "      <td>...</td>\n",
       "      <td>...</td>\n",
       "      <td>...</td>\n",
       "    </tr>\n",
       "    <tr>\n",
       "      <th>927</th>\n",
       "      <td>928</td>\n",
       "      <td>12176</td>\n",
       "      <td>8518.00</td>\n",
       "      <td>15673</td>\n",
       "      <td>1582</td>\n",
       "      <td>1910.0</td>\n",
       "      <td>Covered</td>\n",
       "      <td>CAT C</td>\n",
       "      <td>1080</td>\n",
       "      <td>6639000</td>\n",
       "    </tr>\n",
       "    <tr>\n",
       "      <th>928</th>\n",
       "      <td>929</td>\n",
       "      <td>7214</td>\n",
       "      <td>8717.00</td>\n",
       "      <td>10553</td>\n",
       "      <td>1387</td>\n",
       "      <td>1663.0</td>\n",
       "      <td>Open</td>\n",
       "      <td>CAT A</td>\n",
       "      <td>850</td>\n",
       "      <td>8208000</td>\n",
       "    </tr>\n",
       "    <tr>\n",
       "      <th>929</th>\n",
       "      <td>930</td>\n",
       "      <td>7423</td>\n",
       "      <td>11708.00</td>\n",
       "      <td>13220</td>\n",
       "      <td>1200</td>\n",
       "      <td>1436.0</td>\n",
       "      <td>Open</td>\n",
       "      <td>CAT A</td>\n",
       "      <td>1060</td>\n",
       "      <td>7644000</td>\n",
       "    </tr>\n",
       "    <tr>\n",
       "      <th>930</th>\n",
       "      <td>931</td>\n",
       "      <td>15082</td>\n",
       "      <td>14700.00</td>\n",
       "      <td>19617</td>\n",
       "      <td>1299</td>\n",
       "      <td>1560.0</td>\n",
       "      <td>Open</td>\n",
       "      <td>CAT B</td>\n",
       "      <td>770</td>\n",
       "      <td>9661000</td>\n",
       "    </tr>\n",
       "    <tr>\n",
       "      <th>931</th>\n",
       "      <td>932</td>\n",
       "      <td>9297</td>\n",
       "      <td>12537.00</td>\n",
       "      <td>14418</td>\n",
       "      <td>1174</td>\n",
       "      <td>1429.0</td>\n",
       "      <td>Covered</td>\n",
       "      <td>CAT C</td>\n",
       "      <td>1110</td>\n",
       "      <td>5434000</td>\n",
       "    </tr>\n",
       "  </tbody>\n",
       "</table>\n",
       "<p>887 rows × 10 columns</p>\n",
       "</div>"
      ],
      "text/plain": [
       "     House_Number  Dist_Taxi  Dist_Market  Dist_Hospital  Carpet  Builtup  \\\n",
       "45             46       8794     12199.00          14275    1665   2001.0   \n",
       "46             47       6017     14147.00          12642    1780   2117.0   \n",
       "47             48      11265     12999.00          14621    1009   1194.0   \n",
       "48             49       6407     10134.00          13433    1227   1471.0   \n",
       "49             50       8230     11018.75          10643    1565   1885.0   \n",
       "..            ...        ...          ...            ...     ...      ...   \n",
       "927           928      12176      8518.00          15673    1582   1910.0   \n",
       "928           929       7214      8717.00          10553    1387   1663.0   \n",
       "929           930       7423     11708.00          13220    1200   1436.0   \n",
       "930           931      15082     14700.00          19617    1299   1560.0   \n",
       "931           932       9297     12537.00          14418    1174   1429.0   \n",
       "\n",
       "          Parking City_Category  Rainfall  House_Price  \n",
       "45     No Parking         CAT A       730      6764000  \n",
       "46           Open         CAT C       780      3973000  \n",
       "47   Not Provided         CAT C       520      3580000  \n",
       "48     No Parking         CAT A       870      4927000  \n",
       "49   Not Provided         CAT A       660      6707000  \n",
       "..            ...           ...       ...          ...  \n",
       "927       Covered         CAT C      1080      6639000  \n",
       "928          Open         CAT A       850      8208000  \n",
       "929          Open         CAT A      1060      7644000  \n",
       "930          Open         CAT B       770      9661000  \n",
       "931       Covered         CAT C      1110      5434000  \n",
       "\n",
       "[887 rows x 10 columns]"
      ]
     },
     "execution_count": 19,
     "metadata": {},
     "output_type": "execute_result"
    }
   ],
   "source": [
    "df.iloc[45:,:]"
   ]
  },
  {
   "cell_type": "markdown",
   "metadata": {},
   "source": [
    "to display the specific rows with all the cols and verifying whether the null values are filled with the  corresponding mean value"
   ]
  },
  {
   "cell_type": "code",
   "execution_count": 20,
   "metadata": {},
   "outputs": [
    {
     "data": {
      "text/html": [
       "<div>\n",
       "<style scoped>\n",
       "    .dataframe tbody tr th:only-of-type {\n",
       "        vertical-align: middle;\n",
       "    }\n",
       "\n",
       "    .dataframe tbody tr th {\n",
       "        vertical-align: top;\n",
       "    }\n",
       "\n",
       "    .dataframe thead th {\n",
       "        text-align: right;\n",
       "    }\n",
       "</style>\n",
       "<table border=\"1\" class=\"dataframe\">\n",
       "  <thead>\n",
       "    <tr style=\"text-align: right;\">\n",
       "      <th></th>\n",
       "      <th>House_Number</th>\n",
       "      <th>Dist_Taxi</th>\n",
       "      <th>Dist_Market</th>\n",
       "      <th>Dist_Hospital</th>\n",
       "      <th>Carpet</th>\n",
       "      <th>Builtup</th>\n",
       "      <th>Rainfall</th>\n",
       "      <th>House_Price</th>\n",
       "    </tr>\n",
       "  </thead>\n",
       "  <tbody>\n",
       "    <tr>\n",
       "      <th>count</th>\n",
       "      <td>932.000000</td>\n",
       "      <td>932.000000</td>\n",
       "      <td>932.000000</td>\n",
       "      <td>932.000000</td>\n",
       "      <td>932.000000</td>\n",
       "      <td>932.000000</td>\n",
       "      <td>932.000000</td>\n",
       "      <td>9.320000e+02</td>\n",
       "    </tr>\n",
       "    <tr>\n",
       "      <th>mean</th>\n",
       "      <td>466.500000</td>\n",
       "      <td>8229.731760</td>\n",
       "      <td>11018.752951</td>\n",
       "      <td>13072.092275</td>\n",
       "      <td>1511.863734</td>\n",
       "      <td>1804.972908</td>\n",
       "      <td>785.579399</td>\n",
       "      <td>6.084695e+06</td>\n",
       "    </tr>\n",
       "    <tr>\n",
       "      <th>std</th>\n",
       "      <td>269.189524</td>\n",
       "      <td>2544.035013</td>\n",
       "      <td>2526.097159</td>\n",
       "      <td>2585.066714</td>\n",
       "      <td>787.563962</td>\n",
       "      <td>554.009887</td>\n",
       "      <td>265.546853</td>\n",
       "      <td>5.025364e+06</td>\n",
       "    </tr>\n",
       "    <tr>\n",
       "      <th>min</th>\n",
       "      <td>1.000000</td>\n",
       "      <td>146.000000</td>\n",
       "      <td>1666.000000</td>\n",
       "      <td>3227.000000</td>\n",
       "      <td>775.000000</td>\n",
       "      <td>932.000000</td>\n",
       "      <td>-110.000000</td>\n",
       "      <td>3.000000e+04</td>\n",
       "    </tr>\n",
       "    <tr>\n",
       "      <th>25%</th>\n",
       "      <td>233.750000</td>\n",
       "      <td>6496.000000</td>\n",
       "      <td>9371.750000</td>\n",
       "      <td>11301.750000</td>\n",
       "      <td>1319.750000</td>\n",
       "      <td>1586.750000</td>\n",
       "      <td>600.000000</td>\n",
       "      <td>4.658000e+06</td>\n",
       "    </tr>\n",
       "    <tr>\n",
       "      <th>50%</th>\n",
       "      <td>466.500000</td>\n",
       "      <td>8230.000000</td>\n",
       "      <td>11112.000000</td>\n",
       "      <td>13154.500000</td>\n",
       "      <td>1484.000000</td>\n",
       "      <td>1777.500000</td>\n",
       "      <td>780.000000</td>\n",
       "      <td>5.866000e+06</td>\n",
       "    </tr>\n",
       "    <tr>\n",
       "      <th>75%</th>\n",
       "      <td>699.250000</td>\n",
       "      <td>9918.750000</td>\n",
       "      <td>12653.000000</td>\n",
       "      <td>14803.500000</td>\n",
       "      <td>1652.250000</td>\n",
       "      <td>1981.250000</td>\n",
       "      <td>970.000000</td>\n",
       "      <td>7.187250e+06</td>\n",
       "    </tr>\n",
       "    <tr>\n",
       "      <th>max</th>\n",
       "      <td>932.000000</td>\n",
       "      <td>20662.000000</td>\n",
       "      <td>20945.000000</td>\n",
       "      <td>23294.000000</td>\n",
       "      <td>24300.000000</td>\n",
       "      <td>12730.000000</td>\n",
       "      <td>1560.000000</td>\n",
       "      <td>1.500000e+08</td>\n",
       "    </tr>\n",
       "  </tbody>\n",
       "</table>\n",
       "</div>"
      ],
      "text/plain": [
       "       House_Number     Dist_Taxi   Dist_Market  Dist_Hospital        Carpet  \\\n",
       "count    932.000000    932.000000    932.000000     932.000000    932.000000   \n",
       "mean     466.500000   8229.731760  11018.752951   13072.092275   1511.863734   \n",
       "std      269.189524   2544.035013   2526.097159    2585.066714    787.563962   \n",
       "min        1.000000    146.000000   1666.000000    3227.000000    775.000000   \n",
       "25%      233.750000   6496.000000   9371.750000   11301.750000   1319.750000   \n",
       "50%      466.500000   8230.000000  11112.000000   13154.500000   1484.000000   \n",
       "75%      699.250000   9918.750000  12653.000000   14803.500000   1652.250000   \n",
       "max      932.000000  20662.000000  20945.000000   23294.000000  24300.000000   \n",
       "\n",
       "            Builtup     Rainfall   House_Price  \n",
       "count    932.000000   932.000000  9.320000e+02  \n",
       "mean    1804.972908   785.579399  6.084695e+06  \n",
       "std      554.009887   265.546853  5.025364e+06  \n",
       "min      932.000000  -110.000000  3.000000e+04  \n",
       "25%     1586.750000   600.000000  4.658000e+06  \n",
       "50%     1777.500000   780.000000  5.866000e+06  \n",
       "75%     1981.250000   970.000000  7.187250e+06  \n",
       "max    12730.000000  1560.000000  1.500000e+08  "
      ]
     },
     "execution_count": 20,
     "metadata": {},
     "output_type": "execute_result"
    }
   ],
   "source": [
    "df.describe()"
   ]
  },
  {
   "cell_type": "markdown",
   "metadata": {},
   "source": [
    "again using describe function to check whether all rows are having non-null values"
   ]
  },
  {
   "cell_type": "code",
   "execution_count": 21,
   "metadata": {},
   "outputs": [
    {
     "data": {
      "text/plain": [
       "count    9.320000e+02\n",
       "mean     6.084695e+06\n",
       "std      5.025364e+06\n",
       "min      3.000000e+04\n",
       "25%      4.658000e+06\n",
       "50%      5.866000e+06\n",
       "75%      7.187250e+06\n",
       "max      1.500000e+08\n",
       "Name: House_Price, dtype: float64"
      ]
     },
     "execution_count": 21,
     "metadata": {},
     "output_type": "execute_result"
    }
   ],
   "source": [
    "df['House_Price'].describe()"
   ]
  },
  {
   "cell_type": "markdown",
   "metadata": {},
   "source": [
    "checking the univariate values for the dependent variable(House_Price)"
   ]
  },
  {
   "cell_type": "code",
   "execution_count": 22,
   "metadata": {},
   "outputs": [
    {
     "data": {
      "text/plain": [
       "<matplotlib.axes._subplots.AxesSubplot at 0x185f4e86e20>"
      ]
     },
     "execution_count": 22,
     "metadata": {},
     "output_type": "execute_result"
    },
    {
     "data": {
      "image/png": "[encoded data removed]",
      "text/plain": [
       "<Figure size 432x288 with 1 Axes>"
      ]
     },
     "metadata": {
      "needs_background": "light"
     },
     "output_type": "display_data"
    }
   ],
   "source": [
    "# histogram to explore the data distribution shape\n",
    "df['House_Price'].hist(bins=7)"
   ]
  },
  {
   "cell_type": "markdown",
   "metadata": {},
   "source": [
    "using the histogram for seeing whether the dependent variable is normaly distributed or not\n",
    "\n",
    "\n",
    "the above histogram shows that the \"House_Price\" is not normally distributed  because the \"House_Price\" is skewed completely to the left side "
   ]
  },
  {
   "cell_type": "code",
   "execution_count": 23,
   "metadata": {},
   "outputs": [
    {
     "data": {
      "text/plain": [
       "<matplotlib.axes._subplots.AxesSubplot at 0x185f4f68e20>"
      ]
     },
     "execution_count": 23,
     "metadata": {},
     "output_type": "execute_result"
    },
    {
     "data": {
      "image/png": "[encoded data removed]",
      "text/plain": [
       "<Figure size 432x288 with 1 Axes>"
      ]
     },
     "metadata": {
      "needs_background": "light"
     },
     "output_type": "display_data"
    }
   ],
   "source": [
    "#To find the outliers in the data\n",
    "df.boxplot(column='House_Price')"
   ]
  },
  {
   "cell_type": "markdown",
   "metadata": {},
   "source": [
    "using the boxplot to identify the outliers in the dependent variable \n",
    "from the boxplot we can observe that there is one outlier which is disturbing the entire variables so we have to remove that outlier "
   ]
  },
  {
   "cell_type": "code",
   "execution_count": 24,
   "metadata": {},
   "outputs": [
    {
     "data": {
      "text/plain": [
       "150000000"
      ]
     },
     "execution_count": 24,
     "metadata": {},
     "output_type": "execute_result"
    }
   ],
   "source": [
    "df['House_Price'].max()"
   ]
  },
  {
   "cell_type": "markdown",
   "metadata": {},
   "source": [
    "using the max function to identify the oulier in House_Price col "
   ]
  },
  {
   "cell_type": "code",
   "execution_count": 25,
   "metadata": {},
   "outputs": [
    {
     "data": {
      "text/html": [
       "<div>\n",
       "<style scoped>\n",
       "    .dataframe tbody tr th:only-of-type {\n",
       "        vertical-align: middle;\n",
       "    }\n",
       "\n",
       "    .dataframe tbody tr th {\n",
       "        vertical-align: top;\n",
       "    }\n",
       "\n",
       "    .dataframe thead th {\n",
       "        text-align: right;\n",
       "    }\n",
       "</style>\n",
       "<table border=\"1\" class=\"dataframe\">\n",
       "  <thead>\n",
       "    <tr style=\"text-align: right;\">\n",
       "      <th></th>\n",
       "      <th>House_Number</th>\n",
       "      <th>Dist_Taxi</th>\n",
       "      <th>Dist_Market</th>\n",
       "      <th>Dist_Hospital</th>\n",
       "      <th>Carpet</th>\n",
       "      <th>Builtup</th>\n",
       "      <th>Parking</th>\n",
       "      <th>City_Category</th>\n",
       "      <th>Rainfall</th>\n",
       "      <th>House_Price</th>\n",
       "    </tr>\n",
       "  </thead>\n",
       "  <tbody>\n",
       "    <tr>\n",
       "      <th>360</th>\n",
       "      <td>361</td>\n",
       "      <td>20662</td>\n",
       "      <td>20945.0</td>\n",
       "      <td>23294</td>\n",
       "      <td>24300</td>\n",
       "      <td>12730.0</td>\n",
       "      <td>Covered</td>\n",
       "      <td>CAT B</td>\n",
       "      <td>1130</td>\n",
       "      <td>150000000</td>\n",
       "    </tr>\n",
       "  </tbody>\n",
       "</table>\n",
       "</div>"
      ],
      "text/plain": [
       "     House_Number  Dist_Taxi  Dist_Market  Dist_Hospital  Carpet  Builtup  \\\n",
       "360           361      20662      20945.0          23294   24300  12730.0   \n",
       "\n",
       "     Parking City_Category  Rainfall  House_Price  \n",
       "360  Covered         CAT B      1130    150000000  "
      ]
     },
     "execution_count": 25,
     "metadata": {},
     "output_type": "execute_result"
    }
   ],
   "source": [
    "df[df['House_Price'] ==df['House_Price'].max()]"
   ]
  },
  {
   "cell_type": "markdown",
   "metadata": {},
   "source": [
    "by using the above code we are displaying the entire row having the maximum \"House_Price\""
   ]
  },
  {
   "cell_type": "code",
   "execution_count": 26,
   "metadata": {},
   "outputs": [
    {
     "data": {
      "text/plain": [
       "(931, 10)"
      ]
     },
     "execution_count": 26,
     "metadata": {},
     "output_type": "execute_result"
    }
   ],
   "source": [
    "df_clean = df[df['House_Price'] !=df['House_Price'].max()]\n",
    "df_clean.shape"
   ]
  },
  {
   "cell_type": "markdown",
   "metadata": {},
   "source": [
    "defining the new variable by excluding  the entire row having the maximum \"House_Price\"\n",
    "and seeing the no of rows and cols after excluding the entire row"
   ]
  },
  {
   "cell_type": "code",
   "execution_count": 27,
   "metadata": {},
   "outputs": [
    {
     "data": {
      "text/plain": [
       "<matplotlib.axes._subplots.AxesSubplot at 0x185f4fd97f0>"
      ]
     },
     "execution_count": 27,
     "metadata": {},
     "output_type": "execute_result"
    },
    {
     "data": {
      "image/png": "[encoded data removed]",
      "text/plain": [
       "<Figure size 432x288 with 1 Axes>"
      ]
     },
     "metadata": {
      "needs_background": "light"
     },
     "output_type": "display_data"
    }
   ],
   "source": [
    "# histogram to explore the data distribution shape\n",
    "df_clean['House_Price'].hist(bins=7)"
   ]
  },
  {
   "cell_type": "markdown",
   "metadata": {},
   "source": [
    "now again using the histogram after removing the oulier (max value of \"House_price\" col)\n",
    "\n",
    "\n",
    "from histogram we can see that the dependent variable is normally distributed\n"
   ]
  },
  {
   "cell_type": "code",
   "execution_count": 28,
   "metadata": {},
   "outputs": [
    {
     "data": {
      "text/plain": [
       "<matplotlib.axes._subplots.AxesSubplot at 0x185f4e484f0>"
      ]
     },
     "execution_count": 28,
     "metadata": {},
     "output_type": "execute_result"
    },
    {
     "data": {
      "image/png": "[encoded data removed]",
      "text/plain": [
       "<Figure size 432x288 with 1 Axes>"
      ]
     },
     "metadata": {
      "needs_background": "light"
     },
     "output_type": "display_data"
    }
   ],
   "source": [
    "#To find the outliers in the data\n",
    "df_clean.boxplot(column='House_Price')"
   ]
  },
  {
   "cell_type": "markdown",
   "metadata": {},
   "source": []
  },
  {
   "cell_type": "code",
   "execution_count": 29,
   "metadata": {},
   "outputs": [
    {
     "data": {
      "image/png": "[encoded data removed]",
      "text/plain": [
       "<Figure size 432x288 with 1 Axes>"
      ]
     },
     "metadata": {
      "needs_background": "light"
     },
     "output_type": "display_data"
    }
   ],
   "source": [
    "\"\"\"Bubble Plot\"\"\"\n",
    "fig = plt.figure()\n",
    "ax = fig.add_subplot(1,1,1)\n",
    "ax.scatter(df['Carpet'],df['House_Price'])\n",
    "plt.show()"
   ]
  },
  {
   "cell_type": "markdown",
   "metadata": {},
   "source": [
    "now using the scatter plot to identify the correlation btw 'Carpet' and 'House_Price'\n",
    "\n",
    "from the scatter plot  all variables are tightly clustered and there is one carpet value as 25000 which is the outlier "
   ]
  },
  {
   "cell_type": "code",
   "execution_count": 30,
   "metadata": {},
   "outputs": [],
   "source": [
    "#the right top cornered dot is the outlier\n",
    "import numpy as np"
   ]
  },
  {
   "cell_type": "code",
   "execution_count": 31,
   "metadata": {},
   "outputs": [
    {
     "data": {
      "text/plain": [
       "array([[1.        , 0.90185614],\n",
       "       [0.90185614, 1.        ]])"
      ]
     },
     "execution_count": 31,
     "metadata": {},
     "output_type": "execute_result"
    }
   ],
   "source": [
    "import numpy as np\n",
    "np.corrcoef(df['Carpet'],df['House_Price'])\n"
   ]
  },
  {
   "cell_type": "markdown",
   "metadata": {},
   "source": [
    "finding the correlation value\n",
    "\n",
    "\n",
    "here r=0.9=90% which represents that  'Carpet'and 'House_Price' are highly correlated "
   ]
  },
  {
   "cell_type": "code",
   "execution_count": 32,
   "metadata": {},
   "outputs": [
    {
     "data": {
      "image/png": "[encoded data removed]",
      "text/plain": [
       "<Figure size 432x288 with 1 Axes>"
      ]
     },
     "metadata": {
      "needs_background": "light"
     },
     "output_type": "display_data"
    }
   ],
   "source": [
    "\"\"\"Bubble Plot\"\"\"\n",
    "fig = plt.figure()\n",
    "ax = fig.add_subplot(1,1,1)\n",
    "ax.scatter(df_clean['Carpet'],df_clean['House_Price'])\n",
    "plt.show()"
   ]
  },
  {
   "cell_type": "markdown",
   "metadata": {},
   "source": [
    "again plotting the scatter plot by using the df_clean variable \n",
    "\n",
    "from the scatter plot we can observe that there is low positive correlation"
   ]
  },
  {
   "cell_type": "code",
   "execution_count": 33,
   "metadata": {},
   "outputs": [
    {
     "data": {
      "text/plain": [
       "array([[1.        , 0.09997622],\n",
       "       [0.09997622, 1.        ]])"
      ]
     },
     "execution_count": 33,
     "metadata": {},
     "output_type": "execute_result"
    }
   ],
   "source": [
    "import numpy as np\n",
    "np.corrcoef(df_clean['Carpet'],df_clean['House_Price'])\n"
   ]
  },
  {
   "cell_type": "markdown",
   "metadata": {},
   "source": [
    "finding the correlation value\n",
    ",r is having a very low positive correlation"
   ]
  },
  {
   "cell_type": "code",
   "execution_count": 34,
   "metadata": {},
   "outputs": [],
   "source": [
    "from sklearn.linear_model import LinearRegression\n",
    "lreg = LinearRegression()"
   ]
  },
  {
   "cell_type": "code",
   "execution_count": 35,
   "metadata": {},
   "outputs": [],
   "source": [
    "X1 = df.loc[:,['Carpet']]\n",
    "Y = df.loc[:,['House_Price']]"
   ]
  },
  {
   "cell_type": "code",
   "execution_count": 36,
   "metadata": {},
   "outputs": [
    {
     "data": {
      "text/plain": [
       "LinearRegression()"
      ]
     },
     "execution_count": 36,
     "metadata": {},
     "output_type": "execute_result"
    }
   ],
   "source": [
    "lreg.fit(X1,Y)"
   ]
  },
  {
   "cell_type": "code",
   "execution_count": 37,
   "metadata": {},
   "outputs": [
    {
     "name": "stdout",
     "output_type": "stream",
     "text": [
      "Intercept [-2615552.02233365]\n",
      "Slope [[5754.65043984]]\n"
     ]
    }
   ],
   "source": [
    "lreg.fit(X1,Y)\n",
    "print (\"Intercept\",lreg.intercept_ )  \n",
    "print (\"Slope\",lreg.coef_)              "
   ]
  },
  {
   "cell_type": "markdown",
   "metadata": {},
   "source": [
    "WITH ouliers:\n",
    "\n",
    "an increase in 1 sqft of carpet results in increase in 5754 rs in the house price value \n"
   ]
  },
  {
   "cell_type": "code",
   "execution_count": 38,
   "metadata": {},
   "outputs": [
    {
     "data": {
      "text/plain": [
       "0.813344500704762"
      ]
     },
     "execution_count": 38,
     "metadata": {},
     "output_type": "execute_result"
    }
   ],
   "source": [
    "lreg.score(X1,Y)"
   ]
  },
  {
   "cell_type": "markdown",
   "metadata": {},
   "source": [
    "RSQUARE=0.81=81% which represents that it is a good model "
   ]
  },
  {
   "cell_type": "code",
   "execution_count": 39,
   "metadata": {},
   "outputs": [],
   "source": [
    "X1 = df_clean.loc[:,['Carpet']]\n",
    "Y = df_clean.loc[:,['House_Price']]"
   ]
  },
  {
   "cell_type": "code",
   "execution_count": 40,
   "metadata": {
    "scrolled": true
   },
   "outputs": [
    {
     "name": "stdout",
     "output_type": "stream",
     "text": [
      "Intercept [4897454.70482813]\n",
      "Slope [[694.27753014]]\n"
     ]
    }
   ],
   "source": [
    "lreg.fit(X1,Y)\n",
    "print (\"Intercept\",lreg.intercept_ )  \n",
    "print (\"Slope\",lreg.coef_)              "
   ]
  },
  {
   "cell_type": "markdown",
   "metadata": {},
   "source": [
    "WITHOUT OUTLIERS:\n",
    "    an increase in 1 sqft of carpet results in increase of 694 rs in the house price value \n",
    "\n",
    "    "
   ]
  },
  {
   "cell_type": "code",
   "execution_count": 41,
   "metadata": {},
   "outputs": [
    {
     "data": {
      "text/plain": [
       "0.009995245247853002"
      ]
     },
     "execution_count": 41,
     "metadata": {},
     "output_type": "execute_result"
    }
   ],
   "source": [
    "lreg.score(X1,Y)"
   ]
  },
  {
   "cell_type": "markdown",
   "metadata": {},
   "source": [
    "RSQUARE=0.009 which represents that it is a poor model "
   ]
  },
  {
   "cell_type": "code",
   "execution_count": 42,
   "metadata": {},
   "outputs": [
    {
     "data": {
      "image/png": "[encoded data removed]",
      "text/plain": [
       "<Figure size 432x288 with 1 Axes>"
      ]
     },
     "metadata": {
      "needs_background": "light"
     },
     "output_type": "display_data"
    }
   ],
   "source": [
    "\"\"\"Bubble Plot\"\"\"\n",
    "fig = plt.figure()\n",
    "ax = fig.add_subplot(1,1,1)\n",
    "ax.scatter(df_clean['Dist_Taxi'],df_clean['House_Price'])\n",
    "plt.show()"
   ]
  },
  {
   "cell_type": "code",
   "execution_count": 43,
   "metadata": {},
   "outputs": [
    {
     "data": {
      "text/plain": [
       "array([[1.        , 0.10865134],\n",
       "       [0.10865134, 1.        ]])"
      ]
     },
     "execution_count": 43,
     "metadata": {},
     "output_type": "execute_result"
    }
   ],
   "source": [
    "import numpy as np\n",
    "np.corrcoef(df_clean['Dist_Taxi'],df_clean['House_Price'])\n"
   ]
  },
  {
   "cell_type": "markdown",
   "metadata": {},
   "source": [
    "which shows that there is a low positive correlation btw 'Dist_Taxi' and 'House_Price'"
   ]
  },
  {
   "cell_type": "code",
   "execution_count": 44,
   "metadata": {},
   "outputs": [],
   "source": [
    "X1 = df_clean.loc[:,['Dist_Taxi']]\n",
    "Y = df_clean.loc[:,['House_Price']]"
   ]
  },
  {
   "cell_type": "code",
   "execution_count": 45,
   "metadata": {
    "scrolled": true
   },
   "outputs": [
    {
     "name": "stdout",
     "output_type": "stream",
     "text": [
      "Intercept [5316036.8831137]\n",
      "Slope [[74.73815912]]\n"
     ]
    }
   ],
   "source": [
    "lreg.fit(X1,Y)\n",
    "print (\"Intercept\",lreg.intercept_ )  \n",
    "print (\"Slope\",lreg.coef_)              "
   ]
  },
  {
   "cell_type": "markdown",
   "metadata": {},
   "source": [
    "an increase in 1unit of 'Dist_Taxi' results in increase in 74 rs in the 'House_Price' value"
   ]
  },
  {
   "cell_type": "code",
   "execution_count": 46,
   "metadata": {},
   "outputs": [
    {
     "data": {
      "text/plain": [
       "0.011805112852187216"
      ]
     },
     "execution_count": 46,
     "metadata": {},
     "output_type": "execute_result"
    }
   ],
   "source": [
    "lreg.score(X1,Y)"
   ]
  },
  {
   "cell_type": "markdown",
   "metadata": {},
   "source": [
    "which represents that this is a poor model\n"
   ]
  },
  {
   "cell_type": "code",
   "execution_count": 47,
   "metadata": {},
   "outputs": [
    {
     "data": {
      "image/png": "[encoded data removed]",
      "text/plain": [
       "<Figure size 432x288 with 1 Axes>"
      ]
     },
     "metadata": {
      "needs_background": "light"
     },
     "output_type": "display_data"
    }
   ],
   "source": [
    "\"\"\"Bubble Plot\"\"\"\n",
    "fig = plt.figure()\n",
    "ax = fig.add_subplot(1,1,1)\n",
    "ax.scatter(df_clean['Dist_Market'],df_clean['House_Price'])\n",
    "plt.show()"
   ]
  },
  {
   "cell_type": "code",
   "execution_count": 48,
   "metadata": {},
   "outputs": [
    {
     "data": {
      "text/plain": [
       "array([[1.        , 0.11771349],\n",
       "       [0.11771349, 1.        ]])"
      ]
     },
     "execution_count": 48,
     "metadata": {},
     "output_type": "execute_result"
    }
   ],
   "source": [
    "import numpy as np\n",
    "np.corrcoef(df_clean['Dist_Market'],df_clean['House_Price'])\n"
   ]
  },
  {
   "cell_type": "markdown",
   "metadata": {},
   "source": [
    "which shows that there is a low positive correlation btw 'Dist_Market' and 'House_Price'"
   ]
  },
  {
   "cell_type": "code",
   "execution_count": 49,
   "metadata": {},
   "outputs": [],
   "source": [
    "X1 = df_clean.loc[:,['Dist_Market']]\n",
    "Y = df_clean.loc[:,['House_Price']]"
   ]
  },
  {
   "cell_type": "code",
   "execution_count": 50,
   "metadata": {
    "scrolled": true
   },
   "outputs": [
    {
     "name": "stdout",
     "output_type": "stream",
     "text": [
      "Intercept [5036591.7529746]\n",
      "Slope [[81.16957796]]\n"
     ]
    }
   ],
   "source": [
    "lreg.fit(X1,Y)\n",
    "print (\"Intercept\",lreg.intercept_ )  \n",
    "print (\"Slope\",lreg.coef_)              "
   ]
  },
  {
   "cell_type": "markdown",
   "metadata": {},
   "source": [
    "an increase in 1unit of 'Dist_Market' results in increase in 81 rs in the 'House_Price' value"
   ]
  },
  {
   "cell_type": "code",
   "execution_count": 51,
   "metadata": {},
   "outputs": [
    {
     "data": {
      "text/plain": [
       "0.013856466288209912"
      ]
     },
     "execution_count": 51,
     "metadata": {},
     "output_type": "execute_result"
    }
   ],
   "source": [
    "lreg.score(X1,Y)"
   ]
  },
  {
   "cell_type": "markdown",
   "metadata": {},
   "source": [
    "which represents that this is a poor model\n"
   ]
  },
  {
   "cell_type": "code",
   "execution_count": 52,
   "metadata": {},
   "outputs": [
    {
     "data": {
      "image/png": "[encoded data removed]",
      "text/plain": [
       "<Figure size 432x288 with 1 Axes>"
      ]
     },
     "metadata": {
      "needs_background": "light"
     },
     "output_type": "display_data"
    }
   ],
   "source": [
    "\"\"\"Bubble Plot\"\"\"\n",
    "fig = plt.figure()\n",
    "ax = fig.add_subplot(1,1,1)\n",
    "ax.scatter(df_clean['Dist_Hospital'],df_clean['House_Price'])\n",
    "plt.show()"
   ]
  },
  {
   "cell_type": "code",
   "execution_count": 53,
   "metadata": {},
   "outputs": [
    {
     "data": {
      "text/plain": [
       "array([[1.        , 0.12968495],\n",
       "       [0.12968495, 1.        ]])"
      ]
     },
     "execution_count": 53,
     "metadata": {},
     "output_type": "execute_result"
    }
   ],
   "source": [
    "import numpy as np\n",
    "np.corrcoef(df_clean['Dist_Hospital'],df_clean['House_Price'])\n"
   ]
  },
  {
   "cell_type": "markdown",
   "metadata": {},
   "source": [
    "which shows that there is a low positive correlation btw 'Dist_Hospital' and 'House_Price'"
   ]
  },
  {
   "cell_type": "code",
   "execution_count": 54,
   "metadata": {},
   "outputs": [],
   "source": [
    "X1 = df_clean.loc[:,['Dist_Hospital']]\n",
    "Y = df_clean.loc[:,['House_Price']]"
   ]
  },
  {
   "cell_type": "code",
   "execution_count": 55,
   "metadata": {},
   "outputs": [
    {
     "name": "stdout",
     "output_type": "stream",
     "text": [
      "Intercept [4788651.9962863]\n",
      "Slope [[87.39392109]]\n"
     ]
    }
   ],
   "source": [
    "lreg.fit(X1,Y)\n",
    "print (\"Intercept\",lreg.intercept_ )  \n",
    "print (\"Slope\",lreg.coef_)              "
   ]
  },
  {
   "cell_type": "markdown",
   "metadata": {},
   "source": [
    "an increase in 1unit of 'Dist_Hospital' results in increase in 87 rs in the 'House_Price' value"
   ]
  },
  {
   "cell_type": "code",
   "execution_count": 56,
   "metadata": {},
   "outputs": [
    {
     "data": {
      "text/plain": [
       "0.01681818653191225"
      ]
     },
     "execution_count": 56,
     "metadata": {},
     "output_type": "execute_result"
    }
   ],
   "source": [
    "lreg.score(X1,Y)"
   ]
  },
  {
   "cell_type": "markdown",
   "metadata": {},
   "source": [
    "which represents that this is a poor model\n"
   ]
  },
  {
   "cell_type": "code",
   "execution_count": 57,
   "metadata": {},
   "outputs": [
    {
     "data": {
      "image/png": "[encoded data removed]",
      "text/plain": [
       "<Figure size 432x288 with 1 Axes>"
      ]
     },
     "metadata": {
      "needs_background": "light"
     },
     "output_type": "display_data"
    }
   ],
   "source": [
    "\"\"\"Bubble Plot\"\"\"\n",
    "fig = plt.figure()\n",
    "ax = fig.add_subplot(1,1,1)\n",
    "ax.scatter(df_clean['Builtup'],df_clean['House_Price'])\n",
    "plt.show()"
   ]
  },
  {
   "cell_type": "code",
   "execution_count": 58,
   "metadata": {},
   "outputs": [
    {
     "data": {
      "text/plain": [
       "array([[ 1.        , -0.01492459],\n",
       "       [-0.01492459,  1.        ]])"
      ]
     },
     "execution_count": 58,
     "metadata": {},
     "output_type": "execute_result"
    }
   ],
   "source": [
    "import numpy as np\n",
    "np.corrcoef(df_clean['Builtup'],df_clean['House_Price'])\n"
   ]
  },
  {
   "cell_type": "markdown",
   "metadata": {},
   "source": [
    "which shows that there is a low positive correlation btw 'Builtup' and 'House_Price'"
   ]
  },
  {
   "cell_type": "code",
   "execution_count": 59,
   "metadata": {},
   "outputs": [
    {
     "name": "stdout",
     "output_type": "stream",
     "text": [
      "Intercept [6039508.7312717]\n",
      "Slope [[-61.00409646]]\n"
     ]
    }
   ],
   "source": [
    "X1 = df_clean.loc[:,['Builtup']]\n",
    "Y = df_clean.loc[:,['House_Price']]\n",
    "lreg.fit(X1,Y)\n",
    "print (\"Intercept\",lreg.intercept_ )  \n",
    "print (\"Slope\",lreg.coef_)              \n"
   ]
  },
  {
   "cell_type": "markdown",
   "metadata": {},
   "source": [
    "an increase in 1unit of 'Builtup' results in increase in 545 rs in the 'House_Price' value"
   ]
  },
  {
   "cell_type": "code",
   "execution_count": 60,
   "metadata": {},
   "outputs": [
    {
     "data": {
      "text/plain": [
       "0.00022274347029105357"
      ]
     },
     "execution_count": 60,
     "metadata": {},
     "output_type": "execute_result"
    }
   ],
   "source": [
    "lreg.score(X1,Y)"
   ]
  },
  {
   "cell_type": "markdown",
   "metadata": {},
   "source": [
    "which represents that this is a poor model\n"
   ]
  },
  {
   "cell_type": "code",
   "execution_count": 61,
   "metadata": {},
   "outputs": [
    {
     "data": {
      "image/png": "[encoded data removed]",
      "text/plain": [
       "<Figure size 432x288 with 1 Axes>"
      ]
     },
     "metadata": {
      "needs_background": "light"
     },
     "output_type": "display_data"
    }
   ],
   "source": [
    "\"\"\"Bubble Plot\"\"\"\n",
    "fig = plt.figure()\n",
    "ax = fig.add_subplot(1,1,1)\n",
    "ax.scatter(df_clean['Rainfall'],df_clean['House_Price'])\n",
    "plt.show()"
   ]
  },
  {
   "cell_type": "code",
   "execution_count": 62,
   "metadata": {},
   "outputs": [
    {
     "data": {
      "text/plain": [
       "array([[ 1.        , -0.01492459],\n",
       "       [-0.01492459,  1.        ]])"
      ]
     },
     "execution_count": 62,
     "metadata": {},
     "output_type": "execute_result"
    }
   ],
   "source": [
    "import numpy as np\n",
    "np.corrcoef(df_clean['Builtup'],df_clean['House_Price'])\n"
   ]
  },
  {
   "cell_type": "markdown",
   "metadata": {},
   "source": [
    "which shows that there is a low positive correlation btw 'Rainfall' and 'House_Price'"
   ]
  },
  {
   "cell_type": "code",
   "execution_count": 63,
   "metadata": {},
   "outputs": [
    {
     "name": "stdout",
     "output_type": "stream",
     "text": [
      "Intercept [5861455.84062226]\n",
      "Slope [[87.43910972]]\n"
     ]
    }
   ],
   "source": [
    "X1 = df_clean.loc[:,['Rainfall']]\n",
    "Y = df_clean.loc[:,['House_Price']]\n",
    "lreg.fit(X1,Y)\n",
    "print (\"Intercept\",lreg.intercept_ )  \n",
    "print (\"Slope\",lreg.coef_)              \n"
   ]
  },
  {
   "cell_type": "markdown",
   "metadata": {},
   "source": [
    "an increase in 1unit of 'Rainfall' results in increase in 87 rs in the 'House_Price' value"
   ]
  },
  {
   "cell_type": "code",
   "execution_count": 64,
   "metadata": {},
   "outputs": [
    {
     "data": {
      "text/plain": [
       "0.00018036173483526596"
      ]
     },
     "execution_count": 64,
     "metadata": {},
     "output_type": "execute_result"
    }
   ],
   "source": [
    "lreg.score(X1,Y)"
   ]
  },
  {
   "cell_type": "markdown",
   "metadata": {},
   "source": [
    "which represents that this is a poor model\n"
   ]
  },
  {
   "cell_type": "code",
   "execution_count": 65,
   "metadata": {},
   "outputs": [],
   "source": [
    "cor_data =df_clean[['House_Price','Dist_Taxi','Dist_Market','Dist_Hospital','Carpet','Builtup','Rainfall']]\n"
   ]
  },
  {
   "cell_type": "code",
   "execution_count": 66,
   "metadata": {},
   "outputs": [
    {
     "data": {
      "text/html": [
       "<style  type=\"text/css\" >\n",
       "    #T_51404232_be15_11eb_85fb_bce92f7ef13crow0_col0 {\n",
       "            background-color:  #023858;\n",
       "            color:  #f1f1f1;\n",
       "        }    #T_51404232_be15_11eb_85fb_bce92f7ef13crow0_col1 {\n",
       "            background-color:  #f0eaf4;\n",
       "            color:  #000000;\n",
       "        }    #T_51404232_be15_11eb_85fb_bce92f7ef13crow0_col2 {\n",
       "            background-color:  #eae6f1;\n",
       "            color:  #000000;\n",
       "        }    #T_51404232_be15_11eb_85fb_bce92f7ef13crow0_col3 {\n",
       "            background-color:  #ede7f2;\n",
       "            color:  #000000;\n",
       "        }    #T_51404232_be15_11eb_85fb_bce92f7ef13crow0_col4 {\n",
       "            background-color:  #e9e5f1;\n",
       "            color:  #000000;\n",
       "        }    #T_51404232_be15_11eb_85fb_bce92f7ef13crow0_col5 {\n",
       "            background-color:  #f9f2f8;\n",
       "            color:  #000000;\n",
       "        }    #T_51404232_be15_11eb_85fb_bce92f7ef13crow0_col6 {\n",
       "            background-color:  #f5eef6;\n",
       "            color:  #000000;\n",
       "        }    #T_51404232_be15_11eb_85fb_bce92f7ef13crow1_col0 {\n",
       "            background-color:  #ede7f2;\n",
       "            color:  #000000;\n",
       "        }    #T_51404232_be15_11eb_85fb_bce92f7ef13crow1_col1 {\n",
       "            background-color:  #023858;\n",
       "            color:  #f1f1f1;\n",
       "        }    #T_51404232_be15_11eb_85fb_bce92f7ef13crow1_col2 {\n",
       "            background-color:  #84b0d3;\n",
       "            color:  #000000;\n",
       "        }    #T_51404232_be15_11eb_85fb_bce92f7ef13crow1_col3 {\n",
       "            background-color:  #0569a4;\n",
       "            color:  #f1f1f1;\n",
       "        }    #T_51404232_be15_11eb_85fb_bce92f7ef13crow1_col4 {\n",
       "            background-color:  #f7f0f7;\n",
       "            color:  #000000;\n",
       "        }    #T_51404232_be15_11eb_85fb_bce92f7ef13crow1_col5 {\n",
       "            background-color:  #f6eff7;\n",
       "            color:  #000000;\n",
       "        }    #T_51404232_be15_11eb_85fb_bce92f7ef13crow1_col6 {\n",
       "            background-color:  #f4edf6;\n",
       "            color:  #000000;\n",
       "        }    #T_51404232_be15_11eb_85fb_bce92f7ef13crow2_col0 {\n",
       "            background-color:  #ebe6f2;\n",
       "            color:  #000000;\n",
       "        }    #T_51404232_be15_11eb_85fb_bce92f7ef13crow2_col1 {\n",
       "            background-color:  #89b1d4;\n",
       "            color:  #000000;\n",
       "        }    #T_51404232_be15_11eb_85fb_bce92f7ef13crow2_col2 {\n",
       "            background-color:  #023858;\n",
       "            color:  #f1f1f1;\n",
       "        }    #T_51404232_be15_11eb_85fb_bce92f7ef13crow2_col3 {\n",
       "            background-color:  #3b92c1;\n",
       "            color:  #000000;\n",
       "        }    #T_51404232_be15_11eb_85fb_bce92f7ef13crow2_col4 {\n",
       "            background-color:  #fbf4f9;\n",
       "            color:  #000000;\n",
       "        }    #T_51404232_be15_11eb_85fb_bce92f7ef13crow2_col5 {\n",
       "            background-color:  #f8f1f8;\n",
       "            color:  #000000;\n",
       "        }    #T_51404232_be15_11eb_85fb_bce92f7ef13crow2_col6 {\n",
       "            background-color:  #ede7f2;\n",
       "            color:  #000000;\n",
       "        }    #T_51404232_be15_11eb_85fb_bce92f7ef13crow3_col0 {\n",
       "            background-color:  #e8e4f0;\n",
       "            color:  #000000;\n",
       "        }    #T_51404232_be15_11eb_85fb_bce92f7ef13crow3_col1 {\n",
       "            background-color:  #0569a4;\n",
       "            color:  #f1f1f1;\n",
       "        }    #T_51404232_be15_11eb_85fb_bce92f7ef13crow3_col2 {\n",
       "            background-color:  #3790c0;\n",
       "            color:  #000000;\n",
       "        }    #T_51404232_be15_11eb_85fb_bce92f7ef13crow3_col3 {\n",
       "            background-color:  #023858;\n",
       "            color:  #f1f1f1;\n",
       "        }    #T_51404232_be15_11eb_85fb_bce92f7ef13crow3_col4 {\n",
       "            background-color:  #f7f0f7;\n",
       "            color:  #000000;\n",
       "        }    #T_51404232_be15_11eb_85fb_bce92f7ef13crow3_col5 {\n",
       "            background-color:  #f6eff7;\n",
       "            color:  #000000;\n",
       "        }    #T_51404232_be15_11eb_85fb_bce92f7ef13crow3_col6 {\n",
       "            background-color:  #f0eaf4;\n",
       "            color:  #000000;\n",
       "        }    #T_51404232_be15_11eb_85fb_bce92f7ef13crow4_col0 {\n",
       "            background-color:  #eee9f3;\n",
       "            color:  #000000;\n",
       "        }    #T_51404232_be15_11eb_85fb_bce92f7ef13crow4_col1 {\n",
       "            background-color:  #fef6fb;\n",
       "            color:  #000000;\n",
       "        }    #T_51404232_be15_11eb_85fb_bce92f7ef13crow4_col2 {\n",
       "            background-color:  #fff7fb;\n",
       "            color:  #000000;\n",
       "        }    #T_51404232_be15_11eb_85fb_bce92f7ef13crow4_col3 {\n",
       "            background-color:  #fef6fb;\n",
       "            color:  #000000;\n",
       "        }    #T_51404232_be15_11eb_85fb_bce92f7ef13crow4_col4 {\n",
       "            background-color:  #023858;\n",
       "            color:  #f1f1f1;\n",
       "        }    #T_51404232_be15_11eb_85fb_bce92f7ef13crow4_col5 {\n",
       "            background-color:  #157ab5;\n",
       "            color:  #000000;\n",
       "        }    #T_51404232_be15_11eb_85fb_bce92f7ef13crow4_col6 {\n",
       "            background-color:  #fdf5fa;\n",
       "            color:  #000000;\n",
       "        }    #T_51404232_be15_11eb_85fb_bce92f7ef13crow5_col0 {\n",
       "            background-color:  #fff7fb;\n",
       "            color:  #000000;\n",
       "        }    #T_51404232_be15_11eb_85fb_bce92f7ef13crow5_col1 {\n",
       "            background-color:  #fff7fb;\n",
       "            color:  #000000;\n",
       "        }    #T_51404232_be15_11eb_85fb_bce92f7ef13crow5_col2 {\n",
       "            background-color:  #fef6fb;\n",
       "            color:  #000000;\n",
       "        }    #T_51404232_be15_11eb_85fb_bce92f7ef13crow5_col3 {\n",
       "            background-color:  #fff7fb;\n",
       "            color:  #000000;\n",
       "        }    #T_51404232_be15_11eb_85fb_bce92f7ef13crow5_col4 {\n",
       "            background-color:  #167bb6;\n",
       "            color:  #000000;\n",
       "        }    #T_51404232_be15_11eb_85fb_bce92f7ef13crow5_col5 {\n",
       "            background-color:  #023858;\n",
       "            color:  #f1f1f1;\n",
       "        }    #T_51404232_be15_11eb_85fb_bce92f7ef13crow5_col6 {\n",
       "            background-color:  #fff7fb;\n",
       "            color:  #000000;\n",
       "        }    #T_51404232_be15_11eb_85fb_bce92f7ef13crow6_col0 {\n",
       "            background-color:  #fbf3f9;\n",
       "            color:  #000000;\n",
       "        }    #T_51404232_be15_11eb_85fb_bce92f7ef13crow6_col1 {\n",
       "            background-color:  #fdf5fa;\n",
       "            color:  #000000;\n",
       "        }    #T_51404232_be15_11eb_85fb_bce92f7ef13crow6_col2 {\n",
       "            background-color:  #f2ecf5;\n",
       "            color:  #000000;\n",
       "        }    #T_51404232_be15_11eb_85fb_bce92f7ef13crow6_col3 {\n",
       "            background-color:  #f8f1f8;\n",
       "            color:  #000000;\n",
       "        }    #T_51404232_be15_11eb_85fb_bce92f7ef13crow6_col4 {\n",
       "            background-color:  #fff7fb;\n",
       "            color:  #000000;\n",
       "        }    #T_51404232_be15_11eb_85fb_bce92f7ef13crow6_col5 {\n",
       "            background-color:  #fff7fb;\n",
       "            color:  #000000;\n",
       "        }    #T_51404232_be15_11eb_85fb_bce92f7ef13crow6_col6 {\n",
       "            background-color:  #023858;\n",
       "            color:  #f1f1f1;\n",
       "        }</style><table id=\"T_51404232_be15_11eb_85fb_bce92f7ef13c\" ><thead>    <tr>        <th class=\"blank level0\" ></th>        <th class=\"col_heading level0 col0\" >House_Price</th>        <th class=\"col_heading level0 col1\" >Dist_Taxi</th>        <th class=\"col_heading level0 col2\" >Dist_Market</th>        <th class=\"col_heading level0 col3\" >Dist_Hospital</th>        <th class=\"col_heading level0 col4\" >Carpet</th>        <th class=\"col_heading level0 col5\" >Builtup</th>        <th class=\"col_heading level0 col6\" >Rainfall</th>    </tr></thead><tbody>\n",
       "                <tr>\n",
       "                        <th id=\"T_51404232_be15_11eb_85fb_bce92f7ef13clevel0_row0\" class=\"row_heading level0 row0\" >House_Price</th>\n",
       "                        <td id=\"T_51404232_be15_11eb_85fb_bce92f7ef13crow0_col0\" class=\"data row0 col0\" >1.000000</td>\n",
       "                        <td id=\"T_51404232_be15_11eb_85fb_bce92f7ef13crow0_col1\" class=\"data row0 col1\" >0.108651</td>\n",
       "                        <td id=\"T_51404232_be15_11eb_85fb_bce92f7ef13crow0_col2\" class=\"data row0 col2\" >0.117713</td>\n",
       "                        <td id=\"T_51404232_be15_11eb_85fb_bce92f7ef13crow0_col3\" class=\"data row0 col3\" >0.129685</td>\n",
       "                        <td id=\"T_51404232_be15_11eb_85fb_bce92f7ef13crow0_col4\" class=\"data row0 col4\" >0.099976</td>\n",
       "                        <td id=\"T_51404232_be15_11eb_85fb_bce92f7ef13crow0_col5\" class=\"data row0 col5\" >-0.014925</td>\n",
       "                        <td id=\"T_51404232_be15_11eb_85fb_bce92f7ef13crow0_col6\" class=\"data row0 col6\" >0.013430</td>\n",
       "            </tr>\n",
       "            <tr>\n",
       "                        <th id=\"T_51404232_be15_11eb_85fb_bce92f7ef13clevel0_row1\" class=\"row_heading level0 row1\" >Dist_Taxi</th>\n",
       "                        <td id=\"T_51404232_be15_11eb_85fb_bce92f7ef13crow1_col0\" class=\"data row1 col0\" >0.108651</td>\n",
       "                        <td id=\"T_51404232_be15_11eb_85fb_bce92f7ef13crow1_col1\" class=\"data row1 col1\" >1.000000</td>\n",
       "                        <td id=\"T_51404232_be15_11eb_85fb_bce92f7ef13crow1_col2\" class=\"data row1 col2\" >0.449838</td>\n",
       "                        <td id=\"T_51404232_be15_11eb_85fb_bce92f7ef13crow1_col3\" class=\"data row1 col3\" >0.793081</td>\n",
       "                        <td id=\"T_51404232_be15_11eb_85fb_bce92f7ef13crow1_col4\" class=\"data row1 col4\" >0.010013</td>\n",
       "                        <td id=\"T_51404232_be15_11eb_85fb_bce92f7ef13crow1_col5\" class=\"data row1 col5\" >0.004363</td>\n",
       "                        <td id=\"T_51404232_be15_11eb_85fb_bce92f7ef13crow1_col6\" class=\"data row1 col6\" >0.020427</td>\n",
       "            </tr>\n",
       "            <tr>\n",
       "                        <th id=\"T_51404232_be15_11eb_85fb_bce92f7ef13clevel0_row2\" class=\"row_heading level0 row2\" >Dist_Market</th>\n",
       "                        <td id=\"T_51404232_be15_11eb_85fb_bce92f7ef13crow2_col0\" class=\"data row2 col0\" >0.117713</td>\n",
       "                        <td id=\"T_51404232_be15_11eb_85fb_bce92f7ef13crow2_col1\" class=\"data row2 col1\" >0.449838</td>\n",
       "                        <td id=\"T_51404232_be15_11eb_85fb_bce92f7ef13crow2_col2\" class=\"data row2 col2\" >1.000000</td>\n",
       "                        <td id=\"T_51404232_be15_11eb_85fb_bce92f7ef13crow2_col3\" class=\"data row2 col3\" >0.617200</td>\n",
       "                        <td id=\"T_51404232_be15_11eb_85fb_bce92f7ef13crow2_col4\" class=\"data row2 col4\" >-0.018623</td>\n",
       "                        <td id=\"T_51404232_be15_11eb_85fb_bce92f7ef13crow2_col5\" class=\"data row2 col5\" >-0.014219</td>\n",
       "                        <td id=\"T_51404232_be15_11eb_85fb_bce92f7ef13crow2_col6\" class=\"data row2 col6\" >0.069186</td>\n",
       "            </tr>\n",
       "            <tr>\n",
       "                        <th id=\"T_51404232_be15_11eb_85fb_bce92f7ef13clevel0_row3\" class=\"row_heading level0 row3\" >Dist_Hospital</th>\n",
       "                        <td id=\"T_51404232_be15_11eb_85fb_bce92f7ef13crow3_col0\" class=\"data row3 col0\" >0.129685</td>\n",
       "                        <td id=\"T_51404232_be15_11eb_85fb_bce92f7ef13crow3_col1\" class=\"data row3 col1\" >0.793081</td>\n",
       "                        <td id=\"T_51404232_be15_11eb_85fb_bce92f7ef13crow3_col2\" class=\"data row3 col2\" >0.617200</td>\n",
       "                        <td id=\"T_51404232_be15_11eb_85fb_bce92f7ef13crow3_col3\" class=\"data row3 col3\" >1.000000</td>\n",
       "                        <td id=\"T_51404232_be15_11eb_85fb_bce92f7ef13crow3_col4\" class=\"data row3 col4\" >0.010834</td>\n",
       "                        <td id=\"T_51404232_be15_11eb_85fb_bce92f7ef13crow3_col5\" class=\"data row3 col5\" >0.005979</td>\n",
       "                        <td id=\"T_51404232_be15_11eb_85fb_bce92f7ef13crow3_col6\" class=\"data row3 col6\" >0.050696</td>\n",
       "            </tr>\n",
       "            <tr>\n",
       "                        <th id=\"T_51404232_be15_11eb_85fb_bce92f7ef13clevel0_row4\" class=\"row_heading level0 row4\" >Carpet</th>\n",
       "                        <td id=\"T_51404232_be15_11eb_85fb_bce92f7ef13crow4_col0\" class=\"data row4 col0\" >0.099976</td>\n",
       "                        <td id=\"T_51404232_be15_11eb_85fb_bce92f7ef13crow4_col1\" class=\"data row4 col1\" >0.010013</td>\n",
       "                        <td id=\"T_51404232_be15_11eb_85fb_bce92f7ef13crow4_col2\" class=\"data row4 col2\" >-0.018623</td>\n",
       "                        <td id=\"T_51404232_be15_11eb_85fb_bce92f7ef13crow4_col3\" class=\"data row4 col3\" >0.010834</td>\n",
       "                        <td id=\"T_51404232_be15_11eb_85fb_bce92f7ef13crow4_col4\" class=\"data row4 col4\" >1.000000</td>\n",
       "                        <td id=\"T_51404232_be15_11eb_85fb_bce92f7ef13crow4_col5\" class=\"data row4 col5\" >0.691174</td>\n",
       "                        <td id=\"T_51404232_be15_11eb_85fb_bce92f7ef13crow4_col6\" class=\"data row4 col6\" >-0.044853</td>\n",
       "            </tr>\n",
       "            <tr>\n",
       "                        <th id=\"T_51404232_be15_11eb_85fb_bce92f7ef13clevel0_row5\" class=\"row_heading level0 row5\" >Builtup</th>\n",
       "                        <td id=\"T_51404232_be15_11eb_85fb_bce92f7ef13crow5_col0\" class=\"data row5 col0\" >-0.014925</td>\n",
       "                        <td id=\"T_51404232_be15_11eb_85fb_bce92f7ef13crow5_col1\" class=\"data row5 col1\" >0.004363</td>\n",
       "                        <td id=\"T_51404232_be15_11eb_85fb_bce92f7ef13crow5_col2\" class=\"data row5 col2\" >-0.014219</td>\n",
       "                        <td id=\"T_51404232_be15_11eb_85fb_bce92f7ef13crow5_col3\" class=\"data row5 col3\" >0.005979</td>\n",
       "                        <td id=\"T_51404232_be15_11eb_85fb_bce92f7ef13crow5_col4\" class=\"data row5 col4\" >0.691174</td>\n",
       "                        <td id=\"T_51404232_be15_11eb_85fb_bce92f7ef13crow5_col5\" class=\"data row5 col5\" >1.000000</td>\n",
       "                        <td id=\"T_51404232_be15_11eb_85fb_bce92f7ef13crow5_col6\" class=\"data row5 col6\" >-0.059825</td>\n",
       "            </tr>\n",
       "            <tr>\n",
       "                        <th id=\"T_51404232_be15_11eb_85fb_bce92f7ef13clevel0_row6\" class=\"row_heading level0 row6\" >Rainfall</th>\n",
       "                        <td id=\"T_51404232_be15_11eb_85fb_bce92f7ef13crow6_col0\" class=\"data row6 col0\" >0.013430</td>\n",
       "                        <td id=\"T_51404232_be15_11eb_85fb_bce92f7ef13crow6_col1\" class=\"data row6 col1\" >0.020427</td>\n",
       "                        <td id=\"T_51404232_be15_11eb_85fb_bce92f7ef13crow6_col2\" class=\"data row6 col2\" >0.069186</td>\n",
       "                        <td id=\"T_51404232_be15_11eb_85fb_bce92f7ef13crow6_col3\" class=\"data row6 col3\" >0.050696</td>\n",
       "                        <td id=\"T_51404232_be15_11eb_85fb_bce92f7ef13crow6_col4\" class=\"data row6 col4\" >-0.044853</td>\n",
       "                        <td id=\"T_51404232_be15_11eb_85fb_bce92f7ef13crow6_col5\" class=\"data row6 col5\" >-0.059825</td>\n",
       "                        <td id=\"T_51404232_be15_11eb_85fb_bce92f7ef13crow6_col6\" class=\"data row6 col6\" >1.000000</td>\n",
       "            </tr>\n",
       "    </tbody></table>"
      ],
      "text/plain": [
       "<pandas.io.formats.style.Styler at 0x185f4f129d0>"
      ]
     },
     "execution_count": 66,
     "metadata": {},
     "output_type": "execute_result"
    }
   ],
   "source": [
    "corr = cor_data.corr()\n",
    "corr.style.background_gradient()"
   ]
  },
  {
   "cell_type": "markdown",
   "metadata": {},
   "source": [
    "from the house_price row we can see that there is no correlation btw all the independent varibles and dependent variable"
   ]
  },
  {
   "cell_type": "markdown",
   "metadata": {},
   "source": [
    "# MULTIPLE REGRESSION"
   ]
  },
  {
   "cell_type": "code",
   "execution_count": 67,
   "metadata": {},
   "outputs": [],
   "source": [
    "# multiple regression\n",
    "X1X2 = df_clean.loc[:,['Dist_Taxi','Dist_Market']]\n",
    "Y = df_clean.loc[:,['House_Price']]"
   ]
  },
  {
   "cell_type": "code",
   "execution_count": 68,
   "metadata": {},
   "outputs": [
    {
     "name": "stdout",
     "output_type": "stream",
     "text": [
      "Intercept [4880365.30210472]\n",
      "Slope [[48.03384287 59.50934981]]\n"
     ]
    }
   ],
   "source": [
    "lreg.fit(X1X2,Y)\n",
    "print (\"Intercept\",lreg.intercept_ )#basic price is intercept\n",
    "print (\"Slope\",lreg.coef_)"
   ]
  },
  {
   "cell_type": "markdown",
   "metadata": {},
   "source": [
    "If 'Dist_Taxi' is increasing by 1 unit then the 'House_Price' is increasing by 48 units by keeping the effect of 'Dist_Market' as constant.\n",
    "If 'Dist_Market' is increasing by 1 unit then the 'House_Price' is increasing by 59units by keeping the effect of 'Dist_Taxi' as constant.\n"
   ]
  },
  {
   "cell_type": "code",
   "execution_count": 69,
   "metadata": {},
   "outputs": [
    {
     "data": {
      "text/plain": [
       "0.01774593397595814"
      ]
     },
     "execution_count": 69,
     "metadata": {},
     "output_type": "execute_result"
    }
   ],
   "source": [
    "lreg.score(X1X2,Y)"
   ]
  },
  {
   "cell_type": "markdown",
   "metadata": {},
   "source": [
    "which represents that this is a poor model\n"
   ]
  },
  {
   "cell_type": "code",
   "execution_count": 70,
   "metadata": {},
   "outputs": [],
   "source": [
    "X1X2X3 = df_clean.loc[:,['Dist_Taxi','Dist_Market','Dist_Hospital']]\n",
    "Y = df_clean.loc[:,['House_Price']]"
   ]
  },
  {
   "cell_type": "code",
   "execution_count": 71,
   "metadata": {},
   "outputs": [
    {
     "name": "stdout",
     "output_type": "stream",
     "text": [
      "Intercept [4683857.21591396]\n",
      "Slope [[15.33285133 42.94582341 49.57652643]]\n",
      "             var     co-eff\n",
      "0      Dist_Taxi  15.332851\n",
      "1    Dist_Market  42.945823\n",
      "2  Dist_Hospital  49.576526\n"
     ]
    }
   ],
   "source": [
    "lreg.fit(X1X2X3,Y)\n",
    "print (\"Intercept\",lreg.intercept_ )#basic price is intercept\n",
    "print (\"Slope\",lreg.coef_)\n",
    "coeff=pd.concat([pd.DataFrame(X1X2X3.columns),pd.DataFrame(lreg.coef_.T)], axis=1)\n",
    "coeff.columns = (\"var\", \"co-eff\")\n",
    "print(coeff)\n"
   ]
  },
  {
   "cell_type": "code",
   "execution_count": 72,
   "metadata": {},
   "outputs": [
    {
     "data": {
      "text/plain": [
       "0.019293718357978107"
      ]
     },
     "execution_count": 72,
     "metadata": {},
     "output_type": "execute_result"
    }
   ],
   "source": [
    "lreg.score(X1X2X3,Y)"
   ]
  },
  {
   "cell_type": "markdown",
   "metadata": {},
   "source": [
    "If 'Dist_Taxi' is increasing by 1 unit then the 'House_Price' is increasing by 15 units by keeping the effect of 'Dist_Market'  and 'Dist_Hospital' as constant.\n",
    "If 'Dist_Market' is increasing by 1 unit then the 'House_Price' is increasing by 42 units by keeping the effect of 'Dist_Taxi'  and 'Dist_Hospotal' as constant.\n",
    "If 'Dist_Hospital' is increasing by 1 unit then the 'House_Price' is decreasing  by 49 units by keeping the effect of 'Dist_Market'  and 'Dist_Taxi' as constant."
   ]
  },
  {
   "cell_type": "code",
   "execution_count": 73,
   "metadata": {},
   "outputs": [],
   "source": [
    "X1X2X3X4 = df_clean.loc[:,['Dist_Taxi','Dist_Market','Dist_Hospital','Carpet']]\n",
    "Y = df_clean.loc[:,['House_Price']]"
   ]
  },
  {
   "cell_type": "code",
   "execution_count": 74,
   "metadata": {},
   "outputs": [
    {
     "name": "stdout",
     "output_type": "stream",
     "text": [
      "Intercept [3649341.65512558]\n",
      "Slope [[ 15.3704493   45.77397373  47.1096198  696.04942976]]\n",
      "             var      co-eff\n",
      "0      Dist_Taxi   15.370449\n",
      "1    Dist_Market   45.773974\n",
      "2  Dist_Hospital   47.109620\n",
      "3         Carpet  696.049430\n"
     ]
    }
   ],
   "source": [
    "lreg.fit(X1X2X3X4,Y)\n",
    "print (\"Intercept\",lreg.intercept_ )#basic price is intercept\n",
    "print (\"Slope\",lreg.coef_)\n",
    "coeff=pd.concat([pd.DataFrame(X1X2X3X4.columns),pd.DataFrame(lreg.coef_.T)], axis=1)\n",
    "coeff.columns = (\"var\", \"co-eff\")\n",
    "print(coeff)\n"
   ]
  },
  {
   "cell_type": "code",
   "execution_count": 75,
   "metadata": {},
   "outputs": [
    {
     "data": {
      "text/plain": [
       "0.02932847113352577"
      ]
     },
     "execution_count": 75,
     "metadata": {},
     "output_type": "execute_result"
    }
   ],
   "source": [
    "lreg.score(X1X2X3X4,Y)"
   ]
  },
  {
   "cell_type": "markdown",
   "metadata": {},
   "source": [
    "If 'Dist_Taxi' is increasing by 1 unit then the 'House_Price' is increasing by 15 units by keeping the effect of 'Dist_Market' , 'Dist_Hospital' and 'Carpet'as constant.\n",
    "If 'Dist_Market' is increasing by 1 unit then the 'House_Price' is increasing by 45 units by keeping the effect of 'Dist_Taxi' , 'Dist_Hospotal' and 'Carpet' as constant.\n",
    "If 'Dist_Hospital' is increasing by 1 unit then the 'House_Price' is increasing by 47 units by keeping the effect of 'Dist_Market' , 'Dist_Taxi' and 'Carpet' as constant.\n",
    "If 'Carpet' is increasing by 1 unit then the 'House_Price' is increasing by 696 units by keeping the effect of 'Dist_Market' , 'Dist_Taxi' and 'Dist_Hospital' as constant.\n"
   ]
  },
  {
   "cell_type": "code",
   "execution_count": 76,
   "metadata": {},
   "outputs": [],
   "source": [
    "X1X2X3X4X5 = df_clean.loc[:,['Dist_Taxi','Dist_Market','Dist_Hospital','Carpet','Builtup']]\n",
    "Y = df_clean.loc[:,['House_Price']]"
   ]
  },
  {
   "cell_type": "code",
   "execution_count": 77,
   "metadata": {},
   "outputs": [
    {
     "name": "stdout",
     "output_type": "stream",
     "text": [
      "Intercept [3681572.21943128]\n",
      "Slope [[  14.95511136   45.67311043   47.3300644  1465.94773532 -655.64263884]]\n",
      "             var       co-eff\n",
      "0      Dist_Taxi    14.955111\n",
      "1    Dist_Market    45.673110\n",
      "2  Dist_Hospital    47.330064\n",
      "3         Carpet  1465.947735\n",
      "4        Builtup  -655.642639\n"
     ]
    }
   ],
   "source": [
    "lreg.fit(X1X2X3X4X5,Y)\n",
    "print (\"Intercept\",lreg.intercept_ )#basic price is intercept\n",
    "print (\"Slope\",lreg.coef_)\n",
    "coeff=pd.concat([pd.DataFrame(X1X2X3X4X5.columns),pd.DataFrame(lreg.coef_.T)], axis=1)\n",
    "coeff.columns = (\"var\", \"co-eff\")\n",
    "print(coeff)\n"
   ]
  },
  {
   "cell_type": "code",
   "execution_count": 78,
   "metadata": {},
   "outputs": [
    {
     "data": {
      "text/plain": [
       "0.042765939337963466"
      ]
     },
     "execution_count": 78,
     "metadata": {},
     "output_type": "execute_result"
    }
   ],
   "source": [
    "lreg.score(X1X2X3X4X5,Y)"
   ]
  },
  {
   "cell_type": "markdown",
   "metadata": {},
   "source": [
    "If 'Dist_Taxi' is increasing by 1 unit then the 'House_Price' is increasing by 14 units by keeping the effect of 'Dist_Market', 'Dist_Hospital', 'Carprt' and 'Builtup'as constant.\n",
    "If 'Dist_Markrt' is increasing by 1 unit then the 'House_Price' is increasing by 45 units by keeping the effect of 'Dist_Taxi', 'Dist_Hospital', 'Carprt' and 'Builtup'as constant.\n",
    "If 'Dist_Hospital' is increasing by 1 unit then the 'House_Price' is increasing by 47 units by keeping the effect of 'Dist_Market', 'Dist_Taxi', 'Carprt' and 'Builtup'as constant.\n",
    "If 'Carpet' is increasing by 1 unit then the 'House_Price' is increasing by 1974 units by keeping the effect of 'Dist_Market', 'Dist_Hospital', 'Dist_Taxi' and 'Builtup'as constant.\n",
    "If 'Builtup' is increasing by 1 unit then the 'House_Price' is decreasing by 1092 units by keeping the effect of 'Dist_Market', 'Dist_Hospital', 'Carprt' and 'Dist_Taxi'as constant."
   ]
  },
  {
   "cell_type": "code",
   "execution_count": 79,
   "metadata": {},
   "outputs": [],
   "source": [
    "X1X2X3X4X5X6 = df_clean.loc[:,['Dist_Taxi','Dist_Market','Dist_Hospital','Carpet','Builtup','Rainfall']]\n",
    "Y = df_clean.loc[:,['House_Price']]"
   ]
  },
  {
   "cell_type": "code",
   "execution_count": 80,
   "metadata": {},
   "outputs": [
    {
     "name": "stdout",
     "output_type": "stream",
     "text": [
      "Intercept [3658052.41518251]\n",
      "Slope [[  15.1100186    45.48818718   47.15740961 1466.13997816 -654.57047919\n",
      "    30.98430131]]\n",
      "             var       co-eff\n",
      "0      Dist_Taxi    15.110019\n",
      "1    Dist_Market    45.488187\n",
      "2  Dist_Hospital    47.157410\n",
      "3         Carpet  1466.139978\n",
      "4        Builtup  -654.570479\n",
      "5       Rainfall    30.984301\n"
     ]
    }
   ],
   "source": [
    "lreg.fit(X1X2X3X4X5X6,Y)\n",
    "print (\"Intercept\",lreg.intercept_ )#basic price is intercept\n",
    "print (\"Slope\",lreg.coef_)\n",
    "coeff=pd.concat([pd.DataFrame(X1X2X3X4X5X6.columns),pd.DataFrame(lreg.coef_.T)], axis=1)\n",
    "coeff.columns = (\"var\", \"co-eff\")\n",
    "print(coeff)"
   ]
  },
  {
   "cell_type": "code",
   "execution_count": 81,
   "metadata": {},
   "outputs": [
    {
     "data": {
      "text/plain": [
       "0.042788377829752755"
      ]
     },
     "execution_count": 81,
     "metadata": {},
     "output_type": "execute_result"
    }
   ],
   "source": [
    "lreg.score(X1X2X3X4X5X6,Y)"
   ]
  },
  {
   "cell_type": "markdown",
   "metadata": {},
   "source": [
    "If 'Dist_Taxi' is increasing by 1 unit then the 'House_Price' is increasing by 14 units by keeping the effect of 'Dist_Market', 'Dist_Hospital', 'Carprt', 'Builtup' and 'Rainfall'as constant.\n",
    "If 'Dist_Market' is increasing by 1 unit then the 'House_Price' is increasing by 45 units by keeping the effect of 'Dist_Taxi', 'Dist_Hospital', 'Carprt', 'Builtup' and 'Rainfall'as constant.\n",
    "If 'Dist_Hospital' is increasing by 1 unit then the 'House_Price' is increasing by 47 units by keeping the effect of 'Dist_Taxi', 'Dist_Market', 'Carprt', 'Builtup' and 'Rainfall'as constant.\n",
    "If 'Carpet' is increasing by 1 unit then the 'House_Price' is increasing by 1983 units by keeping the effect of 'Dist_Taxi', 'Dist_Market', 'Dist_Hospital', 'Builtup' and 'Rainfall'as constant.\n",
    "If 'Builtup' is increasing by 1 unit then the 'House_Price' is decreasing by 1097 units by keeping the effect of 'Dist_Taxi', 'Dist_Market', 'Dist_Hospital', 'Carpet' and 'Rainfall'as constant.\n",
    "If 'Rainfall' is increasing by 1 unit then the 'House_Price' is decreasing by 64 units by keeping the effect of 'Dist_Taxi', 'Dist_Market', 'Dist_Hospital', 'Carpet' and 'Builtup'as constant."
   ]
  },
  {
   "cell_type": "code",
   "execution_count": 82,
   "metadata": {},
   "outputs": [],
   "source": [
    "# dummify rank \n",
    "dummy_park = pd.get_dummies(df_clean['Parking'], prefix='Parking',drop_first=True) \n",
    "dummy_city = pd.get_dummies(df_clean['City_Category'], prefix='City_Category',drop_first=True) \n",
    "\n"
   ]
  },
  {
   "cell_type": "code",
   "execution_count": 83,
   "metadata": {},
   "outputs": [],
   "source": [
    "df_clean1 = pd.concat([df_clean, dummy_park, dummy_city], axis=1)"
   ]
  },
  {
   "cell_type": "code",
   "execution_count": 84,
   "metadata": {},
   "outputs": [
    {
     "data": {
      "text/html": [
       "<div>\n",
       "<style scoped>\n",
       "    .dataframe tbody tr th:only-of-type {\n",
       "        vertical-align: middle;\n",
       "    }\n",
       "\n",
       "    .dataframe tbody tr th {\n",
       "        vertical-align: top;\n",
       "    }\n",
       "\n",
       "    .dataframe thead th {\n",
       "        text-align: right;\n",
       "    }\n",
       "</style>\n",
       "<table border=\"1\" class=\"dataframe\">\n",
       "  <thead>\n",
       "    <tr style=\"text-align: right;\">\n",
       "      <th></th>\n",
       "      <th>House_Number</th>\n",
       "      <th>Dist_Taxi</th>\n",
       "      <th>Dist_Market</th>\n",
       "      <th>Dist_Hospital</th>\n",
       "      <th>Carpet</th>\n",
       "      <th>Builtup</th>\n",
       "      <th>Parking</th>\n",
       "      <th>City_Category</th>\n",
       "      <th>Rainfall</th>\n",
       "      <th>House_Price</th>\n",
       "      <th>Parking_No Parking</th>\n",
       "      <th>Parking_Not Provided</th>\n",
       "      <th>Parking_Open</th>\n",
       "      <th>City_Category_CAT B</th>\n",
       "      <th>City_Category_CAT C</th>\n",
       "    </tr>\n",
       "  </thead>\n",
       "  <tbody>\n",
       "    <tr>\n",
       "      <th>0</th>\n",
       "      <td>1</td>\n",
       "      <td>9796</td>\n",
       "      <td>5250.0</td>\n",
       "      <td>10703</td>\n",
       "      <td>1659</td>\n",
       "      <td>1961.0</td>\n",
       "      <td>Open</td>\n",
       "      <td>CAT B</td>\n",
       "      <td>530</td>\n",
       "      <td>6649000</td>\n",
       "      <td>0</td>\n",
       "      <td>0</td>\n",
       "      <td>1</td>\n",
       "      <td>1</td>\n",
       "      <td>0</td>\n",
       "    </tr>\n",
       "    <tr>\n",
       "      <th>1</th>\n",
       "      <td>2</td>\n",
       "      <td>8294</td>\n",
       "      <td>8186.0</td>\n",
       "      <td>12694</td>\n",
       "      <td>1461</td>\n",
       "      <td>1752.0</td>\n",
       "      <td>Not Provided</td>\n",
       "      <td>CAT B</td>\n",
       "      <td>210</td>\n",
       "      <td>3982000</td>\n",
       "      <td>0</td>\n",
       "      <td>1</td>\n",
       "      <td>0</td>\n",
       "      <td>1</td>\n",
       "      <td>0</td>\n",
       "    </tr>\n",
       "    <tr>\n",
       "      <th>2</th>\n",
       "      <td>3</td>\n",
       "      <td>11001</td>\n",
       "      <td>14399.0</td>\n",
       "      <td>16991</td>\n",
       "      <td>1340</td>\n",
       "      <td>1609.0</td>\n",
       "      <td>Not Provided</td>\n",
       "      <td>CAT A</td>\n",
       "      <td>720</td>\n",
       "      <td>5401000</td>\n",
       "      <td>0</td>\n",
       "      <td>1</td>\n",
       "      <td>0</td>\n",
       "      <td>0</td>\n",
       "      <td>0</td>\n",
       "    </tr>\n",
       "    <tr>\n",
       "      <th>3</th>\n",
       "      <td>4</td>\n",
       "      <td>8301</td>\n",
       "      <td>11188.0</td>\n",
       "      <td>12289</td>\n",
       "      <td>1451</td>\n",
       "      <td>1748.0</td>\n",
       "      <td>Covered</td>\n",
       "      <td>CAT B</td>\n",
       "      <td>620</td>\n",
       "      <td>5373000</td>\n",
       "      <td>0</td>\n",
       "      <td>0</td>\n",
       "      <td>0</td>\n",
       "      <td>1</td>\n",
       "      <td>0</td>\n",
       "    </tr>\n",
       "    <tr>\n",
       "      <th>4</th>\n",
       "      <td>5</td>\n",
       "      <td>10510</td>\n",
       "      <td>12629.0</td>\n",
       "      <td>13921</td>\n",
       "      <td>1770</td>\n",
       "      <td>2111.0</td>\n",
       "      <td>Not Provided</td>\n",
       "      <td>CAT B</td>\n",
       "      <td>450</td>\n",
       "      <td>4662000</td>\n",
       "      <td>0</td>\n",
       "      <td>1</td>\n",
       "      <td>0</td>\n",
       "      <td>1</td>\n",
       "      <td>0</td>\n",
       "    </tr>\n",
       "    <tr>\n",
       "      <th>...</th>\n",
       "      <td>...</td>\n",
       "      <td>...</td>\n",
       "      <td>...</td>\n",
       "      <td>...</td>\n",
       "      <td>...</td>\n",
       "      <td>...</td>\n",
       "      <td>...</td>\n",
       "      <td>...</td>\n",
       "      <td>...</td>\n",
       "      <td>...</td>\n",
       "      <td>...</td>\n",
       "      <td>...</td>\n",
       "      <td>...</td>\n",
       "      <td>...</td>\n",
       "      <td>...</td>\n",
       "    </tr>\n",
       "    <tr>\n",
       "      <th>927</th>\n",
       "      <td>928</td>\n",
       "      <td>12176</td>\n",
       "      <td>8518.0</td>\n",
       "      <td>15673</td>\n",
       "      <td>1582</td>\n",
       "      <td>1910.0</td>\n",
       "      <td>Covered</td>\n",
       "      <td>CAT C</td>\n",
       "      <td>1080</td>\n",
       "      <td>6639000</td>\n",
       "      <td>0</td>\n",
       "      <td>0</td>\n",
       "      <td>0</td>\n",
       "      <td>0</td>\n",
       "      <td>1</td>\n",
       "    </tr>\n",
       "    <tr>\n",
       "      <th>928</th>\n",
       "      <td>929</td>\n",
       "      <td>7214</td>\n",
       "      <td>8717.0</td>\n",
       "      <td>10553</td>\n",
       "      <td>1387</td>\n",
       "      <td>1663.0</td>\n",
       "      <td>Open</td>\n",
       "      <td>CAT A</td>\n",
       "      <td>850</td>\n",
       "      <td>8208000</td>\n",
       "      <td>0</td>\n",
       "      <td>0</td>\n",
       "      <td>1</td>\n",
       "      <td>0</td>\n",
       "      <td>0</td>\n",
       "    </tr>\n",
       "    <tr>\n",
       "      <th>929</th>\n",
       "      <td>930</td>\n",
       "      <td>7423</td>\n",
       "      <td>11708.0</td>\n",
       "      <td>13220</td>\n",
       "      <td>1200</td>\n",
       "      <td>1436.0</td>\n",
       "      <td>Open</td>\n",
       "      <td>CAT A</td>\n",
       "      <td>1060</td>\n",
       "      <td>7644000</td>\n",
       "      <td>0</td>\n",
       "      <td>0</td>\n",
       "      <td>1</td>\n",
       "      <td>0</td>\n",
       "      <td>0</td>\n",
       "    </tr>\n",
       "    <tr>\n",
       "      <th>930</th>\n",
       "      <td>931</td>\n",
       "      <td>15082</td>\n",
       "      <td>14700.0</td>\n",
       "      <td>19617</td>\n",
       "      <td>1299</td>\n",
       "      <td>1560.0</td>\n",
       "      <td>Open</td>\n",
       "      <td>CAT B</td>\n",
       "      <td>770</td>\n",
       "      <td>9661000</td>\n",
       "      <td>0</td>\n",
       "      <td>0</td>\n",
       "      <td>1</td>\n",
       "      <td>1</td>\n",
       "      <td>0</td>\n",
       "    </tr>\n",
       "    <tr>\n",
       "      <th>931</th>\n",
       "      <td>932</td>\n",
       "      <td>9297</td>\n",
       "      <td>12537.0</td>\n",
       "      <td>14418</td>\n",
       "      <td>1174</td>\n",
       "      <td>1429.0</td>\n",
       "      <td>Covered</td>\n",
       "      <td>CAT C</td>\n",
       "      <td>1110</td>\n",
       "      <td>5434000</td>\n",
       "      <td>0</td>\n",
       "      <td>0</td>\n",
       "      <td>0</td>\n",
       "      <td>0</td>\n",
       "      <td>1</td>\n",
       "    </tr>\n",
       "  </tbody>\n",
       "</table>\n",
       "<p>931 rows × 15 columns</p>\n",
       "</div>"
      ],
      "text/plain": [
       "     House_Number  Dist_Taxi  Dist_Market  Dist_Hospital  Carpet  Builtup  \\\n",
       "0               1       9796       5250.0          10703    1659   1961.0   \n",
       "1               2       8294       8186.0          12694    1461   1752.0   \n",
       "2               3      11001      14399.0          16991    1340   1609.0   \n",
       "3               4       8301      11188.0          12289    1451   1748.0   \n",
       "4               5      10510      12629.0          13921    1770   2111.0   \n",
       "..            ...        ...          ...            ...     ...      ...   \n",
       "927           928      12176       8518.0          15673    1582   1910.0   \n",
       "928           929       7214       8717.0          10553    1387   1663.0   \n",
       "929           930       7423      11708.0          13220    1200   1436.0   \n",
       "930           931      15082      14700.0          19617    1299   1560.0   \n",
       "931           932       9297      12537.0          14418    1174   1429.0   \n",
       "\n",
       "          Parking City_Category  Rainfall  House_Price  Parking_No Parking  \\\n",
       "0            Open         CAT B       530      6649000                   0   \n",
       "1    Not Provided         CAT B       210      3982000                   0   \n",
       "2    Not Provided         CAT A       720      5401000                   0   \n",
       "3         Covered         CAT B       620      5373000                   0   \n",
       "4    Not Provided         CAT B       450      4662000                   0   \n",
       "..            ...           ...       ...          ...                 ...   \n",
       "927       Covered         CAT C      1080      6639000                   0   \n",
       "928          Open         CAT A       850      8208000                   0   \n",
       "929          Open         CAT A      1060      7644000                   0   \n",
       "930          Open         CAT B       770      9661000                   0   \n",
       "931       Covered         CAT C      1110      5434000                   0   \n",
       "\n",
       "     Parking_Not Provided  Parking_Open  City_Category_CAT B  \\\n",
       "0                       0             1                    1   \n",
       "1                       1             0                    1   \n",
       "2                       1             0                    0   \n",
       "3                       0             0                    1   \n",
       "4                       1             0                    1   \n",
       "..                    ...           ...                  ...   \n",
       "927                     0             0                    0   \n",
       "928                     0             1                    0   \n",
       "929                     0             1                    0   \n",
       "930                     0             1                    1   \n",
       "931                     0             0                    0   \n",
       "\n",
       "     City_Category_CAT C  \n",
       "0                      0  \n",
       "1                      0  \n",
       "2                      0  \n",
       "3                      0  \n",
       "4                      0  \n",
       "..                   ...  \n",
       "927                    1  \n",
       "928                    0  \n",
       "929                    0  \n",
       "930                    0  \n",
       "931                    1  \n",
       "\n",
       "[931 rows x 15 columns]"
      ]
     },
     "execution_count": 84,
     "metadata": {},
     "output_type": "execute_result"
    }
   ],
   "source": [
    "df_clean1"
   ]
  },
  {
   "cell_type": "code",
   "execution_count": 85,
   "metadata": {},
   "outputs": [],
   "source": [
    "df_clean2 = df_clean1.drop(['Parking', 'City_Category'], axis=1)"
   ]
  },
  {
   "cell_type": "code",
   "execution_count": 86,
   "metadata": {},
   "outputs": [
    {
     "data": {
      "text/html": [
       "<div>\n",
       "<style scoped>\n",
       "    .dataframe tbody tr th:only-of-type {\n",
       "        vertical-align: middle;\n",
       "    }\n",
       "\n",
       "    .dataframe tbody tr th {\n",
       "        vertical-align: top;\n",
       "    }\n",
       "\n",
       "    .dataframe thead th {\n",
       "        text-align: right;\n",
       "    }\n",
       "</style>\n",
       "<table border=\"1\" class=\"dataframe\">\n",
       "  <thead>\n",
       "    <tr style=\"text-align: right;\">\n",
       "      <th></th>\n",
       "      <th>House_Number</th>\n",
       "      <th>Dist_Taxi</th>\n",
       "      <th>Dist_Market</th>\n",
       "      <th>Dist_Hospital</th>\n",
       "      <th>Carpet</th>\n",
       "      <th>Builtup</th>\n",
       "      <th>Rainfall</th>\n",
       "      <th>House_Price</th>\n",
       "      <th>Parking_No Parking</th>\n",
       "      <th>Parking_Not Provided</th>\n",
       "      <th>Parking_Open</th>\n",
       "      <th>City_Category_CAT B</th>\n",
       "      <th>City_Category_CAT C</th>\n",
       "    </tr>\n",
       "  </thead>\n",
       "  <tbody>\n",
       "    <tr>\n",
       "      <th>0</th>\n",
       "      <td>1</td>\n",
       "      <td>9796</td>\n",
       "      <td>5250.0</td>\n",
       "      <td>10703</td>\n",
       "      <td>1659</td>\n",
       "      <td>1961.0</td>\n",
       "      <td>530</td>\n",
       "      <td>6649000</td>\n",
       "      <td>0</td>\n",
       "      <td>0</td>\n",
       "      <td>1</td>\n",
       "      <td>1</td>\n",
       "      <td>0</td>\n",
       "    </tr>\n",
       "    <tr>\n",
       "      <th>1</th>\n",
       "      <td>2</td>\n",
       "      <td>8294</td>\n",
       "      <td>8186.0</td>\n",
       "      <td>12694</td>\n",
       "      <td>1461</td>\n",
       "      <td>1752.0</td>\n",
       "      <td>210</td>\n",
       "      <td>3982000</td>\n",
       "      <td>0</td>\n",
       "      <td>1</td>\n",
       "      <td>0</td>\n",
       "      <td>1</td>\n",
       "      <td>0</td>\n",
       "    </tr>\n",
       "    <tr>\n",
       "      <th>2</th>\n",
       "      <td>3</td>\n",
       "      <td>11001</td>\n",
       "      <td>14399.0</td>\n",
       "      <td>16991</td>\n",
       "      <td>1340</td>\n",
       "      <td>1609.0</td>\n",
       "      <td>720</td>\n",
       "      <td>5401000</td>\n",
       "      <td>0</td>\n",
       "      <td>1</td>\n",
       "      <td>0</td>\n",
       "      <td>0</td>\n",
       "      <td>0</td>\n",
       "    </tr>\n",
       "    <tr>\n",
       "      <th>3</th>\n",
       "      <td>4</td>\n",
       "      <td>8301</td>\n",
       "      <td>11188.0</td>\n",
       "      <td>12289</td>\n",
       "      <td>1451</td>\n",
       "      <td>1748.0</td>\n",
       "      <td>620</td>\n",
       "      <td>5373000</td>\n",
       "      <td>0</td>\n",
       "      <td>0</td>\n",
       "      <td>0</td>\n",
       "      <td>1</td>\n",
       "      <td>0</td>\n",
       "    </tr>\n",
       "    <tr>\n",
       "      <th>4</th>\n",
       "      <td>5</td>\n",
       "      <td>10510</td>\n",
       "      <td>12629.0</td>\n",
       "      <td>13921</td>\n",
       "      <td>1770</td>\n",
       "      <td>2111.0</td>\n",
       "      <td>450</td>\n",
       "      <td>4662000</td>\n",
       "      <td>0</td>\n",
       "      <td>1</td>\n",
       "      <td>0</td>\n",
       "      <td>1</td>\n",
       "      <td>0</td>\n",
       "    </tr>\n",
       "  </tbody>\n",
       "</table>\n",
       "</div>"
      ],
      "text/plain": [
       "   House_Number  Dist_Taxi  Dist_Market  Dist_Hospital  Carpet  Builtup  \\\n",
       "0             1       9796       5250.0          10703    1659   1961.0   \n",
       "1             2       8294       8186.0          12694    1461   1752.0   \n",
       "2             3      11001      14399.0          16991    1340   1609.0   \n",
       "3             4       8301      11188.0          12289    1451   1748.0   \n",
       "4             5      10510      12629.0          13921    1770   2111.0   \n",
       "\n",
       "   Rainfall  House_Price  Parking_No Parking  Parking_Not Provided  \\\n",
       "0       530      6649000                   0                     0   \n",
       "1       210      3982000                   0                     1   \n",
       "2       720      5401000                   0                     1   \n",
       "3       620      5373000                   0                     0   \n",
       "4       450      4662000                   0                     1   \n",
       "\n",
       "   Parking_Open  City_Category_CAT B  City_Category_CAT C  \n",
       "0             1                    1                    0  \n",
       "1             0                    1                    0  \n",
       "2             0                    0                    0  \n",
       "3             0                    1                    0  \n",
       "4             0                    1                    0  "
      ]
     },
     "execution_count": 86,
     "metadata": {},
     "output_type": "execute_result"
    }
   ],
   "source": [
    "df_clean2.head()"
   ]
  },
  {
   "cell_type": "code",
   "execution_count": 87,
   "metadata": {},
   "outputs": [
    {
     "data": {
      "text/plain": [
       "[74.80769839277707,\n",
       " 2.716124174490356,\n",
       " 1.6313594971561558,\n",
       " 3.500969309433242,\n",
       " 1.9158832104596704,\n",
       " 1.9177802833235549,\n",
       " 1.0093056448517665]"
      ]
     },
     "execution_count": 87,
     "metadata": {},
     "output_type": "execute_result"
    }
   ],
   "source": [
    "#Multicollinearity\n",
    "from patsy import dmatrices\n",
    "from statsmodels.stats.outliers_influence import variance_inflation_factor\n",
    "import statsmodels.api as sm\n",
    "\n",
    "# Break into left and right hand side; y and X\n",
    "y, X = dmatrices(\"House_Price ~ Dist_Taxi + Dist_Market + Dist_Hospital + Carpet + Builtup + Rainfall\", data=df_clean, return_type=\"dataframe\")\n",
    "\n",
    "# For each Xi, calculate VIF\n",
    "VIF = [variance_inflation_factor(X.values, i) for i in range(X.shape[1])]\n",
    "\n",
    "VIF"
   ]
  },
  {
   "cell_type": "markdown",
   "metadata": {},
   "source": [
    "since VIF >3 mullicolinerity is present in the data\n",
    "hence we will drop one variable\n"
   ]
  },
  {
   "cell_type": "code",
   "execution_count": 88,
   "metadata": {},
   "outputs": [
    {
     "data": {
      "text/plain": [
       "[74.7316479566676,\n",
       " 2.7160736853026215,\n",
       " 1.6313584912659296,\n",
       " 3.5009444851790232,\n",
       " 1.0030968243625868,\n",
       " 1.00769189545831]"
      ]
     },
     "execution_count": 88,
     "metadata": {},
     "output_type": "execute_result"
    }
   ],
   "source": [
    "#Multicollinearity\n",
    "from patsy import dmatrices\n",
    "from statsmodels.stats.outliers_influence import variance_inflation_factor\n",
    "import statsmodels.api as sm\n",
    "\n",
    "# Break into left and right hand side; y and X\n",
    "y, X = dmatrices(\"House_Price ~ Dist_Taxi + Dist_Market + Dist_Hospital + Carpet  + Rainfall\", data=df_clean, return_type=\"dataframe\")\n",
    "\n",
    "# For each Xi, calculate VIF\n",
    "VIF = [variance_inflation_factor(X.values, i) for i in range(X.shape[1])]\n",
    "\n",
    "VIF"
   ]
  },
  {
   "cell_type": "markdown",
   "metadata": {},
   "source": []
  },
  {
   "cell_type": "code",
   "execution_count": 89,
   "metadata": {},
   "outputs": [
    {
     "name": "stdout",
     "output_type": "stream",
     "text": [
      "Intercept [5972664.1221374]\n",
      "Slope [[-273202.05317189]]\n"
     ]
    }
   ],
   "source": [
    "X= df_clean1.loc[:,['Parking_No Parking']]\n",
    "Y = df_clean1.loc[:,['House_Price']]\n",
    "lreg.fit(X,Y)\n",
    "print (\"Intercept\",lreg.intercept_ )#basic price is intercept\n",
    "print (\"Slope\",lreg.coef_)"
   ]
  },
  {
   "cell_type": "code",
   "execution_count": 90,
   "metadata": {},
   "outputs": [
    {
     "data": {
      "text/plain": [
       "0.0032892436011366932"
      ]
     },
     "execution_count": 90,
     "metadata": {},
     "output_type": "execute_result"
    }
   ],
   "source": [
    "lreg.score(X,Y)"
   ]
  },
  {
   "cell_type": "code",
   "execution_count": 91,
   "metadata": {},
   "outputs": [
    {
     "name": "stdout",
     "output_type": "stream",
     "text": [
      "Intercept [5980224.43181818]\n",
      "Slope [[-205519.5860032]]\n"
     ]
    }
   ],
   "source": [
    "X= df_clean1.loc[:,['Parking_Not Provided']]\n",
    "Y = df_clean1.loc[:,['House_Price']]\n",
    "lreg.fit(X,Y)\n",
    "print (\"Intercept\",lreg.intercept_ )#basic price is intercept\n",
    "print (\"Slope\",lreg.coef_)"
   ]
  },
  {
   "cell_type": "code",
   "execution_count": 92,
   "metadata": {},
   "outputs": [
    {
     "data": {
      "text/plain": [
       "0.00261001210593359"
      ]
     },
     "execution_count": 92,
     "metadata": {},
     "output_type": "execute_result"
    }
   ],
   "source": [
    "lreg.score(X,Y)"
   ]
  },
  {
   "cell_type": "code",
   "execution_count": 93,
   "metadata": {},
   "outputs": [
    {
     "name": "stdout",
     "output_type": "stream",
     "text": [
      "Intercept [5934583.1842576]\n",
      "Slope [[-11185.33479524]]\n"
     ]
    }
   ],
   "source": [
    "X= df_clean1.loc[:,['Parking_Open']]\n",
    "Y = df_clean1.loc[:,['House_Price']]\n",
    "lreg.fit(X,Y)\n",
    "print (\"Intercept\",lreg.intercept_ )#basic price is intercept\n",
    "print (\"Slope\",lreg.coef_)"
   ]
  },
  {
   "cell_type": "code",
   "execution_count": 94,
   "metadata": {},
   "outputs": [
    {
     "data": {
      "text/plain": [
       "1.0059821988983586e-05"
      ]
     },
     "execution_count": 94,
     "metadata": {},
     "output_type": "execute_result"
    }
   ],
   "source": [
    "lreg.score(X,Y)"
   ]
  },
  {
   "cell_type": "code",
   "execution_count": 95,
   "metadata": {},
   "outputs": [
    {
     "name": "stdout",
     "output_type": "stream",
     "text": [
      "Intercept [6191264.55026455]\n",
      "Slope [[-667943.12169312]]\n"
     ]
    }
   ],
   "source": [
    "X= df_clean1.loc[:,['City_Category_CAT B']]\n",
    "Y = df_clean1.loc[:,['House_Price']]\n",
    "lreg.fit(X,Y)\n",
    "print (\"Intercept\",lreg.intercept_ )#basic price is intercept\n",
    "print (\"Slope\",lreg.coef_)"
   ]
  },
  {
   "cell_type": "code",
   "execution_count": 96,
   "metadata": {},
   "outputs": [
    {
     "data": {
      "text/plain": [
       "0.035604179263258984"
      ]
     },
     "execution_count": 96,
     "metadata": {},
     "output_type": "execute_result"
    }
   ],
   "source": [
    "lreg.score(X,Y)"
   ]
  },
  {
   "cell_type": "code",
   "execution_count": 97,
   "metadata": {},
   "outputs": [
    {
     "name": "stdout",
     "output_type": "stream",
     "text": [
      "Intercept [6414206.34920635]\n",
      "Slope [[-1893655.92903828]]\n"
     ]
    }
   ],
   "source": [
    "X= df_clean1.loc[:,['City_Category_CAT C']]\n",
    "Y = df_clean1.loc[:,['House_Price']]\n",
    "lreg.fit(X,Y)\n",
    "print (\"Intercept\",lreg.intercept_ )#basic price is intercept\n",
    "print (\"Slope\",lreg.coef_)"
   ]
  },
  {
   "cell_type": "code",
   "execution_count": 98,
   "metadata": {},
   "outputs": [
    {
     "data": {
      "text/plain": [
       "0.22869143949786863"
      ]
     },
     "execution_count": 98,
     "metadata": {},
     "output_type": "execute_result"
    }
   ],
   "source": [
    "lreg.score(X,Y)"
   ]
  },
  {
   "cell_type": "code",
   "execution_count": 99,
   "metadata": {},
   "outputs": [],
   "source": [
    "X_all = df_clean1.loc[:,['Dist_Taxi','Dist_Market','Dist_Hospital','Carpet','Builtup','Rainfall','City_Category_CAT B']]\n",
    "Y = df_clean1.loc[:,['House_Price']]"
   ]
  },
  {
   "cell_type": "code",
   "execution_count": 100,
   "metadata": {},
   "outputs": [
    {
     "name": "stdout",
     "output_type": "stream",
     "text": [
      "Intercept [3975457.97369439]\n",
      "Slope [[ 1.54227962e+01  3.30762310e+01  4.60892692e+01  1.56381175e+03\n",
      "  -6.84757702e+02  2.89977099e+01 -6.62379237e+05]]\n"
     ]
    }
   ],
   "source": [
    "lreg.fit(X_all,Y)\n",
    "print (\"Intercept\",lreg.intercept_ )#basic price is intercept\n",
    "print (\"Slope\",lreg.coef_)"
   ]
  },
  {
   "cell_type": "code",
   "execution_count": 101,
   "metadata": {},
   "outputs": [
    {
     "data": {
      "text/plain": [
       "0.07733324968900357"
      ]
     },
     "execution_count": 101,
     "metadata": {},
     "output_type": "execute_result"
    }
   ],
   "source": [
    "lreg.score(X_all,Y)"
   ]
  },
  {
   "cell_type": "code",
   "execution_count": 102,
   "metadata": {},
   "outputs": [],
   "source": [
    "X_all = df_clean1.loc[:,['Dist_Taxi','Dist_Market','Dist_Hospital','Carpet','Builtup','Rainfall','City_Category_CAT C']]\n",
    "Y = df_clean1.loc[:,['House_Price']]"
   ]
  },
  {
   "cell_type": "code",
   "execution_count": 103,
   "metadata": {},
   "outputs": [
    {
     "name": "stdout",
     "output_type": "stream",
     "text": [
      "Intercept [4185275.59683214]\n",
      "Slope [[ 2.56013894e+01  4.77132749e+01  4.21427947e+01  1.49330597e+03\n",
      "  -6.92318797e+02 -4.20801440e+01 -1.90802380e+06]]\n"
     ]
    }
   ],
   "source": [
    "lreg.fit(X_all,Y)\n",
    "print (\"Intercept\",lreg.intercept_ )#basic price is intercept\n",
    "print (\"Slope\",lreg.coef_)"
   ]
  },
  {
   "cell_type": "code",
   "execution_count": 104,
   "metadata": {},
   "outputs": [
    {
     "data": {
      "text/plain": [
       "0.2746651714565016"
      ]
     },
     "execution_count": 104,
     "metadata": {},
     "output_type": "execute_result"
    }
   ],
   "source": [
    "lreg.score(X_all,Y)"
   ]
  },
  {
   "cell_type": "code",
   "execution_count": 105,
   "metadata": {},
   "outputs": [],
   "source": [
    "X_all = df_clean1.loc[:,['Dist_Taxi','Dist_Market','Dist_Hospital','Carpet','Builtup','Rainfall','Parking_No Parking']]\n",
    "Y = df_clean1.loc[:,['House_Price']]"
   ]
  },
  {
   "cell_type": "code",
   "execution_count": 106,
   "metadata": {},
   "outputs": [
    {
     "name": "stdout",
     "output_type": "stream",
     "text": [
      "Intercept [3677139.00726035]\n",
      "Slope [[ 1.54118711e+01  4.44919100e+01  5.16576001e+01  1.47669646e+03\n",
      "  -6.60505012e+02  2.67504744e+00 -3.35211082e+05]]\n"
     ]
    }
   ],
   "source": [
    "lreg.fit(X_all,Y)\n",
    "print (\"Intercept\",lreg.intercept_ )#basic price is intercept\n",
    "print (\"Slope\",lreg.coef_)"
   ]
  },
  {
   "cell_type": "code",
   "execution_count": 107,
   "metadata": {},
   "outputs": [
    {
     "data": {
      "text/plain": [
       "0.04768306351077811"
      ]
     },
     "execution_count": 107,
     "metadata": {},
     "output_type": "execute_result"
    }
   ],
   "source": [
    "lreg.score(X_all,Y)"
   ]
  },
  {
   "cell_type": "code",
   "execution_count": 108,
   "metadata": {},
   "outputs": [],
   "source": [
    "X_all = df_clean1.loc[:,['Dist_Taxi','Dist_Market','Dist_Hospital','Carpet','Builtup','Rainfall','Parking_Not Provided']]\n",
    "Y = df_clean1.loc[:,['House_Price']]"
   ]
  },
  {
   "cell_type": "code",
   "execution_count": 109,
   "metadata": {},
   "outputs": [
    {
     "name": "stdout",
     "output_type": "stream",
     "text": [
      "Intercept [3733963.31862323]\n",
      "Slope [[ 1.69086114e+01  4.59368117e+01  4.65282915e+01  1.45623309e+03\n",
      "  -6.60886562e+02  1.92771563e+01 -2.13909227e+05]]\n"
     ]
    }
   ],
   "source": [
    "lreg.fit(X_all,Y)\n",
    "print (\"Intercept\",lreg.intercept_ )#basic price is intercept\n",
    "print (\"Slope\",lreg.coef_)"
   ]
  },
  {
   "cell_type": "code",
   "execution_count": 110,
   "metadata": {},
   "outputs": [
    {
     "data": {
      "text/plain": [
       "0.04560083219566091"
      ]
     },
     "execution_count": 110,
     "metadata": {},
     "output_type": "execute_result"
    }
   ],
   "source": [
    "lreg.score(X_all,Y)"
   ]
  },
  {
   "cell_type": "code",
   "execution_count": 111,
   "metadata": {},
   "outputs": [],
   "source": [
    "X_all = df_clean1.loc[:,['Dist_Taxi','Dist_Market','Dist_Hospital','Carpet','Builtup','Rainfall','Parking_Open']]\n",
    "Y = df_clean1.loc[:,['House_Price']]"
   ]
  },
  {
   "cell_type": "code",
   "execution_count": 112,
   "metadata": {},
   "outputs": [
    {
     "name": "stdout",
     "output_type": "stream",
     "text": [
      "Intercept [3641319.7812037]\n",
      "Slope [[ 1.51312222e+01  4.54760962e+01  4.74287755e+01  1.47093963e+03\n",
      "  -6.57278539e+02  2.73441616e+01  3.43436691e+04]]\n"
     ]
    }
   ],
   "source": [
    "lreg.fit(X_all,Y)\n",
    "print (\"Intercept\",lreg.intercept_ )#basic price is intercept\n",
    "print (\"Slope\",lreg.coef_)"
   ]
  },
  {
   "cell_type": "code",
   "execution_count": 113,
   "metadata": {},
   "outputs": [
    {
     "data": {
      "text/plain": [
       "0.04288247504524478"
      ]
     },
     "execution_count": 113,
     "metadata": {},
     "output_type": "execute_result"
    }
   ],
   "source": [
    "lreg.score(X_all,Y)"
   ]
  },
  {
   "cell_type": "code",
   "execution_count": 114,
   "metadata": {},
   "outputs": [],
   "source": [
    "cor_data =df_clean1[['House_Price','Dist_Taxi','Dist_Market','Dist_Hospital','Carpet','Builtup','Rainfall','Parking_No Parking',\n",
    "'Parking_Not Provided','Parking_Open','City_Category_CAT B','City_Category_CAT C']]\n"
   ]
  },
  {
   "cell_type": "code",
   "execution_count": 124,
   "metadata": {},
   "outputs": [
    {
     "data": {
      "text/plain": [
       "['House_Number',\n",
       " 'Dist_Taxi',\n",
       " 'Dist_Market',\n",
       " 'Dist_Hospital',\n",
       " 'Carpet',\n",
       " 'Builtup',\n",
       " 'Rainfall',\n",
       " 'House_Price',\n",
       " 'Parking_No Parking',\n",
       " 'Parking_Not Provided',\n",
       " 'Parking_Open',\n",
       " 'City_Category_CAT B',\n",
       " 'City_Category_CAT C']"
      ]
     },
     "execution_count": 124,
     "metadata": {},
     "output_type": "execute_result"
    }
   ],
   "source": [
    "list(df_clean2.columns)\n"
   ]
  },
  {
   "cell_type": "code",
   "execution_count": 129,
   "metadata": {},
   "outputs": [],
   "source": [
    "corr_data1= df_clean2[['House_Number',\n",
    " 'Dist_Taxi',\n",
    " 'Dist_Market',\n",
    " 'Dist_Hospital',\n",
    " 'Carpet',\n",
    " 'Builtup',\n",
    " 'Rainfall',\n",
    " 'House_Price',\n",
    " 'Parking_No Parking',\n",
    " 'Parking_Not Provided',\n",
    " 'Parking_Open',\n",
    " 'City_Category_CAT B',\n",
    " 'City_Category_CAT C']]"
   ]
  },
  {
   "cell_type": "code",
   "execution_count": 131,
   "metadata": {},
   "outputs": [
    {
     "data": {
      "text/html": [
       "<style  type=\"text/css\" >\n",
       "    #T_f2fad5b8_be17_11eb_bf78_bce92f7ef13crow0_col0 {\n",
       "            background-color:  #023858;\n",
       "            color:  #f1f1f1;\n",
       "        }    #T_f2fad5b8_be17_11eb_bf78_bce92f7ef13crow0_col1 {\n",
       "            background-color:  #f5eef6;\n",
       "            color:  #000000;\n",
       "        }    #T_f2fad5b8_be17_11eb_bf78_bce92f7ef13crow0_col2 {\n",
       "            background-color:  #f2ecf5;\n",
       "            color:  #000000;\n",
       "        }    #T_f2fad5b8_be17_11eb_bf78_bce92f7ef13crow0_col3 {\n",
       "            background-color:  #f2ecf5;\n",
       "            color:  #000000;\n",
       "        }    #T_f2fad5b8_be17_11eb_bf78_bce92f7ef13crow0_col4 {\n",
       "            background-color:  #fff7fb;\n",
       "            color:  #000000;\n",
       "        }    #T_f2fad5b8_be17_11eb_bf78_bce92f7ef13crow0_col5 {\n",
       "            background-color:  #f8f1f8;\n",
       "            color:  #000000;\n",
       "        }    #T_f2fad5b8_be17_11eb_bf78_bce92f7ef13crow0_col6 {\n",
       "            background-color:  #f7f0f7;\n",
       "            color:  #000000;\n",
       "        }    #T_f2fad5b8_be17_11eb_bf78_bce92f7ef13crow0_col7 {\n",
       "            background-color:  #a9bfdc;\n",
       "            color:  #000000;\n",
       "        }    #T_f2fad5b8_be17_11eb_bf78_bce92f7ef13crow0_col8 {\n",
       "            background-color:  #cacee5;\n",
       "            color:  #000000;\n",
       "        }    #T_f2fad5b8_be17_11eb_bf78_bce92f7ef13crow0_col9 {\n",
       "            background-color:  #c1cae2;\n",
       "            color:  #000000;\n",
       "        }    #T_f2fad5b8_be17_11eb_bf78_bce92f7ef13crow0_col10 {\n",
       "            background-color:  #b8c6e0;\n",
       "            color:  #000000;\n",
       "        }    #T_f2fad5b8_be17_11eb_bf78_bce92f7ef13crow0_col11 {\n",
       "            background-color:  #c0c9e2;\n",
       "            color:  #000000;\n",
       "        }    #T_f2fad5b8_be17_11eb_bf78_bce92f7ef13crow0_col12 {\n",
       "            background-color:  #b7c5df;\n",
       "            color:  #000000;\n",
       "        }    #T_f2fad5b8_be17_11eb_bf78_bce92f7ef13crow1_col0 {\n",
       "            background-color:  #f3edf5;\n",
       "            color:  #000000;\n",
       "        }    #T_f2fad5b8_be17_11eb_bf78_bce92f7ef13crow1_col1 {\n",
       "            background-color:  #023858;\n",
       "            color:  #f1f1f1;\n",
       "        }    #T_f2fad5b8_be17_11eb_bf78_bce92f7ef13crow1_col2 {\n",
       "            background-color:  #73a9cf;\n",
       "            color:  #000000;\n",
       "        }    #T_f2fad5b8_be17_11eb_bf78_bce92f7ef13crow1_col3 {\n",
       "            background-color:  #0566a0;\n",
       "            color:  #f1f1f1;\n",
       "        }    #T_f2fad5b8_be17_11eb_bf78_bce92f7ef13crow1_col4 {\n",
       "            background-color:  #f5eef6;\n",
       "            color:  #000000;\n",
       "        }    #T_f2fad5b8_be17_11eb_bf78_bce92f7ef13crow1_col5 {\n",
       "            background-color:  #f6eff7;\n",
       "            color:  #000000;\n",
       "        }    #T_f2fad5b8_be17_11eb_bf78_bce92f7ef13crow1_col6 {\n",
       "            background-color:  #f4edf6;\n",
       "            color:  #000000;\n",
       "        }    #T_f2fad5b8_be17_11eb_bf78_bce92f7ef13crow1_col7 {\n",
       "            background-color:  #9ebad9;\n",
       "            color:  #000000;\n",
       "        }    #T_f2fad5b8_be17_11eb_bf78_bce92f7ef13crow1_col8 {\n",
       "            background-color:  #bcc7e1;\n",
       "            color:  #000000;\n",
       "        }    #T_f2fad5b8_be17_11eb_bf78_bce92f7ef13crow1_col9 {\n",
       "            background-color:  #b1c2de;\n",
       "            color:  #000000;\n",
       "        }    #T_f2fad5b8_be17_11eb_bf78_bce92f7ef13crow1_col10 {\n",
       "            background-color:  #c1cae2;\n",
       "            color:  #000000;\n",
       "        }    #T_f2fad5b8_be17_11eb_bf78_bce92f7ef13crow1_col11 {\n",
       "            background-color:  #c4cbe3;\n",
       "            color:  #000000;\n",
       "        }    #T_f2fad5b8_be17_11eb_bf78_bce92f7ef13crow1_col12 {\n",
       "            background-color:  #b3c3de;\n",
       "            color:  #000000;\n",
       "        }    #T_f2fad5b8_be17_11eb_bf78_bce92f7ef13crow2_col0 {\n",
       "            background-color:  #f7f0f7;\n",
       "            color:  #000000;\n",
       "        }    #T_f2fad5b8_be17_11eb_bf78_bce92f7ef13crow2_col1 {\n",
       "            background-color:  #7eadd1;\n",
       "            color:  #000000;\n",
       "        }    #T_f2fad5b8_be17_11eb_bf78_bce92f7ef13crow2_col2 {\n",
       "            background-color:  #023858;\n",
       "            color:  #f1f1f1;\n",
       "        }    #T_f2fad5b8_be17_11eb_bf78_bce92f7ef13crow2_col3 {\n",
       "            background-color:  #2f8bbe;\n",
       "            color:  #000000;\n",
       "        }    #T_f2fad5b8_be17_11eb_bf78_bce92f7ef13crow2_col4 {\n",
       "            background-color:  #f9f2f8;\n",
       "            color:  #000000;\n",
       "        }    #T_f2fad5b8_be17_11eb_bf78_bce92f7ef13crow2_col5 {\n",
       "            background-color:  #f8f1f8;\n",
       "            color:  #000000;\n",
       "        }    #T_f2fad5b8_be17_11eb_bf78_bce92f7ef13crow2_col6 {\n",
       "            background-color:  #ede7f2;\n",
       "            color:  #000000;\n",
       "        }    #T_f2fad5b8_be17_11eb_bf78_bce92f7ef13crow2_col7 {\n",
       "            background-color:  #9ab8d8;\n",
       "            color:  #000000;\n",
       "        }    #T_f2fad5b8_be17_11eb_bf78_bce92f7ef13crow2_col8 {\n",
       "            background-color:  #c4cbe3;\n",
       "            color:  #000000;\n",
       "        }    #T_f2fad5b8_be17_11eb_bf78_bce92f7ef13crow2_col9 {\n",
       "            background-color:  #b5c4df;\n",
       "            color:  #000000;\n",
       "        }    #T_f2fad5b8_be17_11eb_bf78_bce92f7ef13crow2_col10 {\n",
       "            background-color:  #bfc9e1;\n",
       "            color:  #000000;\n",
       "        }    #T_f2fad5b8_be17_11eb_bf78_bce92f7ef13crow2_col11 {\n",
       "            background-color:  #d0d1e6;\n",
       "            color:  #000000;\n",
       "        }    #T_f2fad5b8_be17_11eb_bf78_bce92f7ef13crow2_col12 {\n",
       "            background-color:  #b5c4df;\n",
       "            color:  #000000;\n",
       "        }    #T_f2fad5b8_be17_11eb_bf78_bce92f7ef13crow3_col0 {\n",
       "            background-color:  #f2ecf5;\n",
       "            color:  #000000;\n",
       "        }    #T_f2fad5b8_be17_11eb_bf78_bce92f7ef13crow3_col1 {\n",
       "            background-color:  #0567a1;\n",
       "            color:  #f1f1f1;\n",
       "        }    #T_f2fad5b8_be17_11eb_bf78_bce92f7ef13crow3_col2 {\n",
       "            background-color:  #2a88bc;\n",
       "            color:  #000000;\n",
       "        }    #T_f2fad5b8_be17_11eb_bf78_bce92f7ef13crow3_col3 {\n",
       "            background-color:  #023858;\n",
       "            color:  #f1f1f1;\n",
       "        }    #T_f2fad5b8_be17_11eb_bf78_bce92f7ef13crow3_col4 {\n",
       "            background-color:  #f5eef6;\n",
       "            color:  #000000;\n",
       "        }    #T_f2fad5b8_be17_11eb_bf78_bce92f7ef13crow3_col5 {\n",
       "            background-color:  #f6eff7;\n",
       "            color:  #000000;\n",
       "        }    #T_f2fad5b8_be17_11eb_bf78_bce92f7ef13crow3_col6 {\n",
       "            background-color:  #f0eaf4;\n",
       "            color:  #000000;\n",
       "        }    #T_f2fad5b8_be17_11eb_bf78_bce92f7ef13crow3_col7 {\n",
       "            background-color:  #97b7d7;\n",
       "            color:  #000000;\n",
       "        }    #T_f2fad5b8_be17_11eb_bf78_bce92f7ef13crow3_col8 {\n",
       "            background-color:  #b8c6e0;\n",
       "            color:  #000000;\n",
       "        }    #T_f2fad5b8_be17_11eb_bf78_bce92f7ef13crow3_col9 {\n",
       "            background-color:  #b4c4df;\n",
       "            color:  #000000;\n",
       "        }    #T_f2fad5b8_be17_11eb_bf78_bce92f7ef13crow3_col10 {\n",
       "            background-color:  #c2cbe2;\n",
       "            color:  #000000;\n",
       "        }    #T_f2fad5b8_be17_11eb_bf78_bce92f7ef13crow3_col11 {\n",
       "            background-color:  #c8cde4;\n",
       "            color:  #000000;\n",
       "        }    #T_f2fad5b8_be17_11eb_bf78_bce92f7ef13crow3_col12 {\n",
       "            background-color:  #b5c4df;\n",
       "            color:  #000000;\n",
       "        }    #T_f2fad5b8_be17_11eb_bf78_bce92f7ef13crow4_col0 {\n",
       "            background-color:  #fff7fb;\n",
       "            color:  #000000;\n",
       "        }    #T_f2fad5b8_be17_11eb_bf78_bce92f7ef13crow4_col1 {\n",
       "            background-color:  #f7f0f7;\n",
       "            color:  #000000;\n",
       "        }    #T_f2fad5b8_be17_11eb_bf78_bce92f7ef13crow4_col2 {\n",
       "            background-color:  #f4edf6;\n",
       "            color:  #000000;\n",
       "        }    #T_f2fad5b8_be17_11eb_bf78_bce92f7ef13crow4_col3 {\n",
       "            background-color:  #f4eef6;\n",
       "            color:  #000000;\n",
       "        }    #T_f2fad5b8_be17_11eb_bf78_bce92f7ef13crow4_col4 {\n",
       "            background-color:  #023858;\n",
       "            color:  #f1f1f1;\n",
       "        }    #T_f2fad5b8_be17_11eb_bf78_bce92f7ef13crow4_col5 {\n",
       "            background-color:  #157ab5;\n",
       "            color:  #000000;\n",
       "        }    #T_f2fad5b8_be17_11eb_bf78_bce92f7ef13crow4_col6 {\n",
       "            background-color:  #fdf5fa;\n",
       "            color:  #000000;\n",
       "        }    #T_f2fad5b8_be17_11eb_bf78_bce92f7ef13crow4_col7 {\n",
       "            background-color:  #9fbad9;\n",
       "            color:  #000000;\n",
       "        }    #T_f2fad5b8_be17_11eb_bf78_bce92f7ef13crow4_col8 {\n",
       "            background-color:  #cacee5;\n",
       "            color:  #000000;\n",
       "        }    #T_f2fad5b8_be17_11eb_bf78_bce92f7ef13crow4_col9 {\n",
       "            background-color:  #c4cbe3;\n",
       "            color:  #000000;\n",
       "        }    #T_f2fad5b8_be17_11eb_bf78_bce92f7ef13crow4_col10 {\n",
       "            background-color:  #c0c9e2;\n",
       "            color:  #000000;\n",
       "        }    #T_f2fad5b8_be17_11eb_bf78_bce92f7ef13crow4_col11 {\n",
       "            background-color:  #adc1dd;\n",
       "            color:  #000000;\n",
       "        }    #T_f2fad5b8_be17_11eb_bf78_bce92f7ef13crow4_col12 {\n",
       "            background-color:  #b8c6e0;\n",
       "            color:  #000000;\n",
       "        }    #T_f2fad5b8_be17_11eb_bf78_bce92f7ef13crow5_col0 {\n",
       "            background-color:  #f8f1f8;\n",
       "            color:  #000000;\n",
       "        }    #T_f2fad5b8_be17_11eb_bf78_bce92f7ef13crow5_col1 {\n",
       "            background-color:  #f8f1f8;\n",
       "            color:  #000000;\n",
       "        }    #T_f2fad5b8_be17_11eb_bf78_bce92f7ef13crow5_col2 {\n",
       "            background-color:  #f3edf5;\n",
       "            color:  #000000;\n",
       "        }    #T_f2fad5b8_be17_11eb_bf78_bce92f7ef13crow5_col3 {\n",
       "            background-color:  #f5eef6;\n",
       "            color:  #000000;\n",
       "        }    #T_f2fad5b8_be17_11eb_bf78_bce92f7ef13crow5_col4 {\n",
       "            background-color:  #157ab5;\n",
       "            color:  #000000;\n",
       "        }    #T_f2fad5b8_be17_11eb_bf78_bce92f7ef13crow5_col5 {\n",
       "            background-color:  #023858;\n",
       "            color:  #f1f1f1;\n",
       "        }    #T_f2fad5b8_be17_11eb_bf78_bce92f7ef13crow5_col6 {\n",
       "            background-color:  #fff7fb;\n",
       "            color:  #000000;\n",
       "        }    #T_f2fad5b8_be17_11eb_bf78_bce92f7ef13crow5_col7 {\n",
       "            background-color:  #bbc7e0;\n",
       "            color:  #000000;\n",
       "        }    #T_f2fad5b8_be17_11eb_bf78_bce92f7ef13crow5_col8 {\n",
       "            background-color:  #cdd0e5;\n",
       "            color:  #000000;\n",
       "        }    #T_f2fad5b8_be17_11eb_bf78_bce92f7ef13crow5_col9 {\n",
       "            background-color:  #c4cbe3;\n",
       "            color:  #000000;\n",
       "        }    #T_f2fad5b8_be17_11eb_bf78_bce92f7ef13crow5_col10 {\n",
       "            background-color:  #b7c5df;\n",
       "            color:  #000000;\n",
       "        }    #T_f2fad5b8_be17_11eb_bf78_bce92f7ef13crow5_col11 {\n",
       "            background-color:  #b5c4df;\n",
       "            color:  #000000;\n",
       "        }    #T_f2fad5b8_be17_11eb_bf78_bce92f7ef13crow5_col12 {\n",
       "            background-color:  #bbc7e0;\n",
       "            color:  #000000;\n",
       "        }    #T_f2fad5b8_be17_11eb_bf78_bce92f7ef13crow6_col0 {\n",
       "            background-color:  #f7f0f7;\n",
       "            color:  #000000;\n",
       "        }    #T_f2fad5b8_be17_11eb_bf78_bce92f7ef13crow6_col1 {\n",
       "            background-color:  #f5eff6;\n",
       "            color:  #000000;\n",
       "        }    #T_f2fad5b8_be17_11eb_bf78_bce92f7ef13crow6_col2 {\n",
       "            background-color:  #e6e2ef;\n",
       "            color:  #000000;\n",
       "        }    #T_f2fad5b8_be17_11eb_bf78_bce92f7ef13crow6_col3 {\n",
       "            background-color:  #efe9f3;\n",
       "            color:  #000000;\n",
       "        }    #T_f2fad5b8_be17_11eb_bf78_bce92f7ef13crow6_col4 {\n",
       "            background-color:  #fdf5fa;\n",
       "            color:  #000000;\n",
       "        }    #T_f2fad5b8_be17_11eb_bf78_bce92f7ef13crow6_col5 {\n",
       "            background-color:  #fff7fb;\n",
       "            color:  #000000;\n",
       "        }    #T_f2fad5b8_be17_11eb_bf78_bce92f7ef13crow6_col6 {\n",
       "            background-color:  #023858;\n",
       "            color:  #f1f1f1;\n",
       "        }    #T_f2fad5b8_be17_11eb_bf78_bce92f7ef13crow6_col7 {\n",
       "            background-color:  #b4c4df;\n",
       "            color:  #000000;\n",
       "        }    #T_f2fad5b8_be17_11eb_bf78_bce92f7ef13crow6_col8 {\n",
       "            background-color:  #d8d7e9;\n",
       "            color:  #000000;\n",
       "        }    #T_f2fad5b8_be17_11eb_bf78_bce92f7ef13crow6_col9 {\n",
       "            background-color:  #c1cae2;\n",
       "            color:  #000000;\n",
       "        }    #T_f2fad5b8_be17_11eb_bf78_bce92f7ef13crow6_col10 {\n",
       "            background-color:  #adc1dd;\n",
       "            color:  #000000;\n",
       "        }    #T_f2fad5b8_be17_11eb_bf78_bce92f7ef13crow6_col11 {\n",
       "            background-color:  #bbc7e0;\n",
       "            color:  #000000;\n",
       "        }    #T_f2fad5b8_be17_11eb_bf78_bce92f7ef13crow6_col12 {\n",
       "            background-color:  #bdc8e1;\n",
       "            color:  #000000;\n",
       "        }    #T_f2fad5b8_be17_11eb_bf78_bce92f7ef13crow7_col0 {\n",
       "            background-color:  #eee8f3;\n",
       "            color:  #000000;\n",
       "        }    #T_f2fad5b8_be17_11eb_bf78_bce92f7ef13crow7_col1 {\n",
       "            background-color:  #e7e3f0;\n",
       "            color:  #000000;\n",
       "        }    #T_f2fad5b8_be17_11eb_bf78_bce92f7ef13crow7_col2 {\n",
       "            background-color:  #dcdaeb;\n",
       "            color:  #000000;\n",
       "        }    #T_f2fad5b8_be17_11eb_bf78_bce92f7ef13crow7_col3 {\n",
       "            background-color:  #e0dded;\n",
       "            color:  #000000;\n",
       "        }    #T_f2fad5b8_be17_11eb_bf78_bce92f7ef13crow7_col4 {\n",
       "            background-color:  #e6e2ef;\n",
       "            color:  #000000;\n",
       "        }    #T_f2fad5b8_be17_11eb_bf78_bce92f7ef13crow7_col5 {\n",
       "            background-color:  #f9f2f8;\n",
       "            color:  #000000;\n",
       "        }    #T_f2fad5b8_be17_11eb_bf78_bce92f7ef13crow7_col6 {\n",
       "            background-color:  #f5eef6;\n",
       "            color:  #000000;\n",
       "        }    #T_f2fad5b8_be17_11eb_bf78_bce92f7ef13crow7_col7 {\n",
       "            background-color:  #023858;\n",
       "            color:  #f1f1f1;\n",
       "        }    #T_f2fad5b8_be17_11eb_bf78_bce92f7ef13crow7_col8 {\n",
       "            background-color:  #d8d7e9;\n",
       "            color:  #000000;\n",
       "        }    #T_f2fad5b8_be17_11eb_bf78_bce92f7ef13crow7_col9 {\n",
       "            background-color:  #c5cce3;\n",
       "            color:  #000000;\n",
       "        }    #T_f2fad5b8_be17_11eb_bf78_bce92f7ef13crow7_col10 {\n",
       "            background-color:  #bbc7e0;\n",
       "            color:  #000000;\n",
       "        }    #T_f2fad5b8_be17_11eb_bf78_bce92f7ef13crow7_col11 {\n",
       "            background-color:  #dedcec;\n",
       "            color:  #000000;\n",
       "        }    #T_f2fad5b8_be17_11eb_bf78_bce92f7ef13crow7_col12 {\n",
       "            background-color:  #fff7fb;\n",
       "            color:  #000000;\n",
       "        }    #T_f2fad5b8_be17_11eb_bf78_bce92f7ef13crow8_col0 {\n",
       "            background-color:  #f4eef6;\n",
       "            color:  #000000;\n",
       "        }    #T_f2fad5b8_be17_11eb_bf78_bce92f7ef13crow8_col1 {\n",
       "            background-color:  #eee9f3;\n",
       "            color:  #000000;\n",
       "        }    #T_f2fad5b8_be17_11eb_bf78_bce92f7ef13crow8_col2 {\n",
       "            background-color:  #ece7f2;\n",
       "            color:  #000000;\n",
       "        }    #T_f2fad5b8_be17_11eb_bf78_bce92f7ef13crow8_col3 {\n",
       "            background-color:  #e9e5f1;\n",
       "            color:  #000000;\n",
       "        }    #T_f2fad5b8_be17_11eb_bf78_bce92f7ef13crow8_col4 {\n",
       "            background-color:  #f4eef6;\n",
       "            color:  #000000;\n",
       "        }    #T_f2fad5b8_be17_11eb_bf78_bce92f7ef13crow8_col5 {\n",
       "            background-color:  #f7f0f7;\n",
       "            color:  #000000;\n",
       "        }    #T_f2fad5b8_be17_11eb_bf78_bce92f7ef13crow8_col6 {\n",
       "            background-color:  #fff7fb;\n",
       "            color:  #000000;\n",
       "        }    #T_f2fad5b8_be17_11eb_bf78_bce92f7ef13crow8_col7 {\n",
       "            background-color:  #c5cce3;\n",
       "            color:  #000000;\n",
       "        }    #T_f2fad5b8_be17_11eb_bf78_bce92f7ef13crow8_col8 {\n",
       "            background-color:  #023858;\n",
       "            color:  #f1f1f1;\n",
       "        }    #T_f2fad5b8_be17_11eb_bf78_bce92f7ef13crow8_col9 {\n",
       "            background-color:  #e7e3f0;\n",
       "            color:  #000000;\n",
       "        }    #T_f2fad5b8_be17_11eb_bf78_bce92f7ef13crow8_col10 {\n",
       "            background-color:  #f4edf6;\n",
       "            color:  #000000;\n",
       "        }    #T_f2fad5b8_be17_11eb_bf78_bce92f7ef13crow8_col11 {\n",
       "            background-color:  #bfc9e1;\n",
       "            color:  #000000;\n",
       "        }    #T_f2fad5b8_be17_11eb_bf78_bce92f7ef13crow8_col12 {\n",
       "            background-color:  #b1c2de;\n",
       "            color:  #000000;\n",
       "        }    #T_f2fad5b8_be17_11eb_bf78_bce92f7ef13crow9_col0 {\n",
       "            background-color:  #fbf3f9;\n",
       "            color:  #000000;\n",
       "        }    #T_f2fad5b8_be17_11eb_bf78_bce92f7ef13crow9_col1 {\n",
       "            background-color:  #f2ecf5;\n",
       "            color:  #000000;\n",
       "        }    #T_f2fad5b8_be17_11eb_bf78_bce92f7ef13crow9_col2 {\n",
       "            background-color:  #eee9f3;\n",
       "            color:  #000000;\n",
       "        }    #T_f2fad5b8_be17_11eb_bf78_bce92f7ef13crow9_col3 {\n",
       "            background-color:  #f2ecf5;\n",
       "            color:  #000000;\n",
       "        }    #T_f2fad5b8_be17_11eb_bf78_bce92f7ef13crow9_col4 {\n",
       "            background-color:  #fdf5fa;\n",
       "            color:  #000000;\n",
       "        }    #T_f2fad5b8_be17_11eb_bf78_bce92f7ef13crow9_col5 {\n",
       "            background-color:  #fdf5fa;\n",
       "            color:  #000000;\n",
       "        }    #T_f2fad5b8_be17_11eb_bf78_bce92f7ef13crow9_col6 {\n",
       "            background-color:  #fbf3f9;\n",
       "            color:  #000000;\n",
       "        }    #T_f2fad5b8_be17_11eb_bf78_bce92f7ef13crow9_col7 {\n",
       "            background-color:  #c4cbe3;\n",
       "            color:  #000000;\n",
       "        }    #T_f2fad5b8_be17_11eb_bf78_bce92f7ef13crow9_col8 {\n",
       "            background-color:  #f3edf5;\n",
       "            color:  #000000;\n",
       "        }    #T_f2fad5b8_be17_11eb_bf78_bce92f7ef13crow9_col9 {\n",
       "            background-color:  #023858;\n",
       "            color:  #f1f1f1;\n",
       "        }    #T_f2fad5b8_be17_11eb_bf78_bce92f7ef13crow9_col10 {\n",
       "            background-color:  #fff7fb;\n",
       "            color:  #000000;\n",
       "        }    #T_f2fad5b8_be17_11eb_bf78_bce92f7ef13crow9_col11 {\n",
       "            background-color:  #b8c6e0;\n",
       "            color:  #000000;\n",
       "        }    #T_f2fad5b8_be17_11eb_bf78_bce92f7ef13crow9_col12 {\n",
       "            background-color:  #bbc7e0;\n",
       "            color:  #000000;\n",
       "        }    #T_f2fad5b8_be17_11eb_bf78_bce92f7ef13crow10_col0 {\n",
       "            background-color:  #f5eef6;\n",
       "            color:  #000000;\n",
       "        }    #T_f2fad5b8_be17_11eb_bf78_bce92f7ef13crow10_col1 {\n",
       "            background-color:  #fdf5fa;\n",
       "            color:  #000000;\n",
       "        }    #T_f2fad5b8_be17_11eb_bf78_bce92f7ef13crow10_col2 {\n",
       "            background-color:  #f4eef6;\n",
       "            color:  #000000;\n",
       "        }    #T_f2fad5b8_be17_11eb_bf78_bce92f7ef13crow10_col3 {\n",
       "            background-color:  #fbf4f9;\n",
       "            color:  #000000;\n",
       "        }    #T_f2fad5b8_be17_11eb_bf78_bce92f7ef13crow10_col4 {\n",
       "            background-color:  #faf3f9;\n",
       "            color:  #000000;\n",
       "        }    #T_f2fad5b8_be17_11eb_bf78_bce92f7ef13crow10_col5 {\n",
       "            background-color:  #f4eef6;\n",
       "            color:  #000000;\n",
       "        }    #T_f2fad5b8_be17_11eb_bf78_bce92f7ef13crow10_col6 {\n",
       "            background-color:  #efe9f3;\n",
       "            color:  #000000;\n",
       "        }    #T_f2fad5b8_be17_11eb_bf78_bce92f7ef13crow10_col7 {\n",
       "            background-color:  #b8c6e0;\n",
       "            color:  #000000;\n",
       "        }    #T_f2fad5b8_be17_11eb_bf78_bce92f7ef13crow10_col8 {\n",
       "            background-color:  #fff7fb;\n",
       "            color:  #000000;\n",
       "        }    #T_f2fad5b8_be17_11eb_bf78_bce92f7ef13crow10_col9 {\n",
       "            background-color:  #fff7fb;\n",
       "            color:  #000000;\n",
       "        }    #T_f2fad5b8_be17_11eb_bf78_bce92f7ef13crow10_col10 {\n",
       "            background-color:  #023858;\n",
       "            color:  #f1f1f1;\n",
       "        }    #T_f2fad5b8_be17_11eb_bf78_bce92f7ef13crow10_col11 {\n",
       "            background-color:  #abbfdc;\n",
       "            color:  #000000;\n",
       "        }    #T_f2fad5b8_be17_11eb_bf78_bce92f7ef13crow10_col12 {\n",
       "            background-color:  #bbc7e0;\n",
       "            color:  #000000;\n",
       "        }    #T_f2fad5b8_be17_11eb_bf78_bce92f7ef13crow11_col0 {\n",
       "            background-color:  #fbf3f9;\n",
       "            color:  #000000;\n",
       "        }    #T_f2fad5b8_be17_11eb_bf78_bce92f7ef13crow11_col1 {\n",
       "            background-color:  #fff7fb;\n",
       "            color:  #000000;\n",
       "        }    #T_f2fad5b8_be17_11eb_bf78_bce92f7ef13crow11_col2 {\n",
       "            background-color:  #fff7fb;\n",
       "            color:  #000000;\n",
       "        }    #T_f2fad5b8_be17_11eb_bf78_bce92f7ef13crow11_col3 {\n",
       "            background-color:  #fff7fb;\n",
       "            color:  #000000;\n",
       "        }    #T_f2fad5b8_be17_11eb_bf78_bce92f7ef13crow11_col4 {\n",
       "            background-color:  #efe9f3;\n",
       "            color:  #000000;\n",
       "        }    #T_f2fad5b8_be17_11eb_bf78_bce92f7ef13crow11_col5 {\n",
       "            background-color:  #f5eef6;\n",
       "            color:  #000000;\n",
       "        }    #T_f2fad5b8_be17_11eb_bf78_bce92f7ef13crow11_col6 {\n",
       "            background-color:  #f8f1f8;\n",
       "            color:  #000000;\n",
       "        }    #T_f2fad5b8_be17_11eb_bf78_bce92f7ef13crow11_col7 {\n",
       "            background-color:  #dcdaeb;\n",
       "            color:  #000000;\n",
       "        }    #T_f2fad5b8_be17_11eb_bf78_bce92f7ef13crow11_col8 {\n",
       "            background-color:  #d2d2e7;\n",
       "            color:  #000000;\n",
       "        }    #T_f2fad5b8_be17_11eb_bf78_bce92f7ef13crow11_col9 {\n",
       "            background-color:  #b9c6e0;\n",
       "            color:  #000000;\n",
       "        }    #T_f2fad5b8_be17_11eb_bf78_bce92f7ef13crow11_col10 {\n",
       "            background-color:  #acc0dd;\n",
       "            color:  #000000;\n",
       "        }    #T_f2fad5b8_be17_11eb_bf78_bce92f7ef13crow11_col11 {\n",
       "            background-color:  #023858;\n",
       "            color:  #f1f1f1;\n",
       "        }    #T_f2fad5b8_be17_11eb_bf78_bce92f7ef13crow11_col12 {\n",
       "            background-color:  #fef6fb;\n",
       "            color:  #000000;\n",
       "        }    #T_f2fad5b8_be17_11eb_bf78_bce92f7ef13crow12_col0 {\n",
       "            background-color:  #f5eff6;\n",
       "            color:  #000000;\n",
       "        }    #T_f2fad5b8_be17_11eb_bf78_bce92f7ef13crow12_col1 {\n",
       "            background-color:  #f5eff6;\n",
       "            color:  #000000;\n",
       "        }    #T_f2fad5b8_be17_11eb_bf78_bce92f7ef13crow12_col2 {\n",
       "            background-color:  #f0eaf4;\n",
       "            color:  #000000;\n",
       "        }    #T_f2fad5b8_be17_11eb_bf78_bce92f7ef13crow12_col3 {\n",
       "            background-color:  #f4eef6;\n",
       "            color:  #000000;\n",
       "        }    #T_f2fad5b8_be17_11eb_bf78_bce92f7ef13crow12_col4 {\n",
       "            background-color:  #f7f0f7;\n",
       "            color:  #000000;\n",
       "        }    #T_f2fad5b8_be17_11eb_bf78_bce92f7ef13crow12_col5 {\n",
       "            background-color:  #f8f1f8;\n",
       "            color:  #000000;\n",
       "        }    #T_f2fad5b8_be17_11eb_bf78_bce92f7ef13crow12_col6 {\n",
       "            background-color:  #faf2f8;\n",
       "            color:  #000000;\n",
       "        }    #T_f2fad5b8_be17_11eb_bf78_bce92f7ef13crow12_col7 {\n",
       "            background-color:  #fff7fb;\n",
       "            color:  #000000;\n",
       "        }    #T_f2fad5b8_be17_11eb_bf78_bce92f7ef13crow12_col8 {\n",
       "            background-color:  #c6cce3;\n",
       "            color:  #000000;\n",
       "        }    #T_f2fad5b8_be17_11eb_bf78_bce92f7ef13crow12_col9 {\n",
       "            background-color:  #bcc7e1;\n",
       "            color:  #000000;\n",
       "        }    #T_f2fad5b8_be17_11eb_bf78_bce92f7ef13crow12_col10 {\n",
       "            background-color:  #bdc8e1;\n",
       "            color:  #000000;\n",
       "        }    #T_f2fad5b8_be17_11eb_bf78_bce92f7ef13crow12_col11 {\n",
       "            background-color:  #fff7fb;\n",
       "            color:  #000000;\n",
       "        }    #T_f2fad5b8_be17_11eb_bf78_bce92f7ef13crow12_col12 {\n",
       "            background-color:  #023858;\n",
       "            color:  #f1f1f1;\n",
       "        }</style><table id=\"T_f2fad5b8_be17_11eb_bf78_bce92f7ef13c\" ><thead>    <tr>        <th class=\"blank level0\" ></th>        <th class=\"col_heading level0 col0\" >House_Number</th>        <th class=\"col_heading level0 col1\" >Dist_Taxi</th>        <th class=\"col_heading level0 col2\" >Dist_Market</th>        <th class=\"col_heading level0 col3\" >Dist_Hospital</th>        <th class=\"col_heading level0 col4\" >Carpet</th>        <th class=\"col_heading level0 col5\" >Builtup</th>        <th class=\"col_heading level0 col6\" >Rainfall</th>        <th class=\"col_heading level0 col7\" >House_Price</th>        <th class=\"col_heading level0 col8\" >Parking_No Parking</th>        <th class=\"col_heading level0 col9\" >Parking_Not Provided</th>        <th class=\"col_heading level0 col10\" >Parking_Open</th>        <th class=\"col_heading level0 col11\" >City_Category_CAT B</th>        <th class=\"col_heading level0 col12\" >City_Category_CAT C</th>    </tr></thead><tbody>\n",
       "                <tr>\n",
       "                        <th id=\"T_f2fad5b8_be17_11eb_bf78_bce92f7ef13clevel0_row0\" class=\"row_heading level0 row0\" >House_Number</th>\n",
       "                        <td id=\"T_f2fad5b8_be17_11eb_bf78_bce92f7ef13crow0_col0\" class=\"data row0 col0\" >1.000000</td>\n",
       "                        <td id=\"T_f2fad5b8_be17_11eb_bf78_bce92f7ef13crow0_col1\" class=\"data row0 col1\" >0.023943</td>\n",
       "                        <td id=\"T_f2fad5b8_be17_11eb_bf78_bce92f7ef13crow0_col2\" class=\"data row0 col2\" >-0.004992</td>\n",
       "                        <td id=\"T_f2fad5b8_be17_11eb_bf78_bce92f7ef13crow0_col3\" class=\"data row0 col3\" >0.025089</td>\n",
       "                        <td id=\"T_f2fad5b8_be17_11eb_bf78_bce92f7ef13crow0_col4\" class=\"data row0 col4\" >-0.063215</td>\n",
       "                        <td id=\"T_f2fad5b8_be17_11eb_bf78_bce92f7ef13crow0_col5\" class=\"data row0 col5\" >-0.010417</td>\n",
       "                        <td id=\"T_f2fad5b8_be17_11eb_bf78_bce92f7ef13crow0_col6\" class=\"data row0 col6\" >-0.004840</td>\n",
       "                        <td id=\"T_f2fad5b8_be17_11eb_bf78_bce92f7ef13crow0_col7\" class=\"data row0 col7\" >0.060016</td>\n",
       "                        <td id=\"T_f2fad5b8_be17_11eb_bf78_bce92f7ef13crow0_col8\" class=\"data row0 col8\" >0.012458</td>\n",
       "                        <td id=\"T_f2fad5b8_be17_11eb_bf78_bce92f7ef13crow0_col9\" class=\"data row0 col9\" >-0.030736</td>\n",
       "                        <td id=\"T_f2fad5b8_be17_11eb_bf78_bce92f7ef13crow0_col10\" class=\"data row0 col10\" >0.011095</td>\n",
       "                        <td id=\"T_f2fad5b8_be17_11eb_bf78_bce92f7ef13crow0_col11\" class=\"data row0 col11\" >-0.031110</td>\n",
       "                        <td id=\"T_f2fad5b8_be17_11eb_bf78_bce92f7ef13crow0_col12\" class=\"data row0 col12\" >0.006312</td>\n",
       "            </tr>\n",
       "            <tr>\n",
       "                        <th id=\"T_f2fad5b8_be17_11eb_bf78_bce92f7ef13clevel0_row1\" class=\"row_heading level0 row1\" >Dist_Taxi</th>\n",
       "                        <td id=\"T_f2fad5b8_be17_11eb_bf78_bce92f7ef13crow1_col0\" class=\"data row1 col0\" >0.023943</td>\n",
       "                        <td id=\"T_f2fad5b8_be17_11eb_bf78_bce92f7ef13crow1_col1\" class=\"data row1 col1\" >1.000000</td>\n",
       "                        <td id=\"T_f2fad5b8_be17_11eb_bf78_bce92f7ef13crow1_col2\" class=\"data row1 col2\" >0.449838</td>\n",
       "                        <td id=\"T_f2fad5b8_be17_11eb_bf78_bce92f7ef13crow1_col3\" class=\"data row1 col3\" >0.793081</td>\n",
       "                        <td id=\"T_f2fad5b8_be17_11eb_bf78_bce92f7ef13crow1_col4\" class=\"data row1 col4\" >0.010013</td>\n",
       "                        <td id=\"T_f2fad5b8_be17_11eb_bf78_bce92f7ef13crow1_col5\" class=\"data row1 col5\" >0.004363</td>\n",
       "                        <td id=\"T_f2fad5b8_be17_11eb_bf78_bce92f7ef13crow1_col6\" class=\"data row1 col6\" >0.020427</td>\n",
       "                        <td id=\"T_f2fad5b8_be17_11eb_bf78_bce92f7ef13crow1_col7\" class=\"data row1 col7\" >0.108651</td>\n",
       "                        <td id=\"T_f2fad5b8_be17_11eb_bf78_bce92f7ef13crow1_col8\" class=\"data row1 col8\" >0.071126</td>\n",
       "                        <td id=\"T_f2fad5b8_be17_11eb_bf78_bce92f7ef13crow1_col9\" class=\"data row1 col9\" >0.039667</td>\n",
       "                        <td id=\"T_f2fad5b8_be17_11eb_bf78_bce92f7ef13crow1_col10\" class=\"data row1 col10\" >-0.034390</td>\n",
       "                        <td id=\"T_f2fad5b8_be17_11eb_bf78_bce92f7ef13crow1_col11\" class=\"data row1 col11\" >-0.047013</td>\n",
       "                        <td id=\"T_f2fad5b8_be17_11eb_bf78_bce92f7ef13crow1_col12\" class=\"data row1 col12\" >0.021940</td>\n",
       "            </tr>\n",
       "            <tr>\n",
       "                        <th id=\"T_f2fad5b8_be17_11eb_bf78_bce92f7ef13clevel0_row2\" class=\"row_heading level0 row2\" >Dist_Market</th>\n",
       "                        <td id=\"T_f2fad5b8_be17_11eb_bf78_bce92f7ef13crow2_col0\" class=\"data row2 col0\" >-0.004992</td>\n",
       "                        <td id=\"T_f2fad5b8_be17_11eb_bf78_bce92f7ef13crow2_col1\" class=\"data row2 col1\" >0.449838</td>\n",
       "                        <td id=\"T_f2fad5b8_be17_11eb_bf78_bce92f7ef13crow2_col2\" class=\"data row2 col2\" >1.000000</td>\n",
       "                        <td id=\"T_f2fad5b8_be17_11eb_bf78_bce92f7ef13crow2_col3\" class=\"data row2 col3\" >0.617200</td>\n",
       "                        <td id=\"T_f2fad5b8_be17_11eb_bf78_bce92f7ef13crow2_col4\" class=\"data row2 col4\" >-0.018623</td>\n",
       "                        <td id=\"T_f2fad5b8_be17_11eb_bf78_bce92f7ef13crow2_col5\" class=\"data row2 col5\" >-0.014219</td>\n",
       "                        <td id=\"T_f2fad5b8_be17_11eb_bf78_bce92f7ef13crow2_col6\" class=\"data row2 col6\" >0.069186</td>\n",
       "                        <td id=\"T_f2fad5b8_be17_11eb_bf78_bce92f7ef13crow2_col7\" class=\"data row2 col7\" >0.117713</td>\n",
       "                        <td id=\"T_f2fad5b8_be17_11eb_bf78_bce92f7ef13crow2_col8\" class=\"data row2 col8\" >0.036460</td>\n",
       "                        <td id=\"T_f2fad5b8_be17_11eb_bf78_bce92f7ef13crow2_col9\" class=\"data row2 col9\" >0.022093</td>\n",
       "                        <td id=\"T_f2fad5b8_be17_11eb_bf78_bce92f7ef13crow2_col10\" class=\"data row2 col10\" >-0.020818</td>\n",
       "                        <td id=\"T_f2fad5b8_be17_11eb_bf78_bce92f7ef13crow2_col11\" class=\"data row2 col11\" >-0.101282</td>\n",
       "                        <td id=\"T_f2fad5b8_be17_11eb_bf78_bce92f7ef13crow2_col12\" class=\"data row2 col12\" >0.009914</td>\n",
       "            </tr>\n",
       "            <tr>\n",
       "                        <th id=\"T_f2fad5b8_be17_11eb_bf78_bce92f7ef13clevel0_row3\" class=\"row_heading level0 row3\" >Dist_Hospital</th>\n",
       "                        <td id=\"T_f2fad5b8_be17_11eb_bf78_bce92f7ef13crow3_col0\" class=\"data row3 col0\" >0.025089</td>\n",
       "                        <td id=\"T_f2fad5b8_be17_11eb_bf78_bce92f7ef13crow3_col1\" class=\"data row3 col1\" >0.793081</td>\n",
       "                        <td id=\"T_f2fad5b8_be17_11eb_bf78_bce92f7ef13crow3_col2\" class=\"data row3 col2\" >0.617200</td>\n",
       "                        <td id=\"T_f2fad5b8_be17_11eb_bf78_bce92f7ef13crow3_col3\" class=\"data row3 col3\" >1.000000</td>\n",
       "                        <td id=\"T_f2fad5b8_be17_11eb_bf78_bce92f7ef13crow3_col4\" class=\"data row3 col4\" >0.010834</td>\n",
       "                        <td id=\"T_f2fad5b8_be17_11eb_bf78_bce92f7ef13crow3_col5\" class=\"data row3 col5\" >0.005979</td>\n",
       "                        <td id=\"T_f2fad5b8_be17_11eb_bf78_bce92f7ef13crow3_col6\" class=\"data row3 col6\" >0.050696</td>\n",
       "                        <td id=\"T_f2fad5b8_be17_11eb_bf78_bce92f7ef13crow3_col7\" class=\"data row3 col7\" >0.129685</td>\n",
       "                        <td id=\"T_f2fad5b8_be17_11eb_bf78_bce92f7ef13crow3_col8\" class=\"data row3 col8\" >0.084149</td>\n",
       "                        <td id=\"T_f2fad5b8_be17_11eb_bf78_bce92f7ef13crow3_col9\" class=\"data row3 col9\" >0.026815</td>\n",
       "                        <td id=\"T_f2fad5b8_be17_11eb_bf78_bce92f7ef13crow3_col10\" class=\"data row3 col10\" >-0.040200</td>\n",
       "                        <td id=\"T_f2fad5b8_be17_11eb_bf78_bce92f7ef13crow3_col11\" class=\"data row3 col11\" >-0.065420</td>\n",
       "                        <td id=\"T_f2fad5b8_be17_11eb_bf78_bce92f7ef13crow3_col12\" class=\"data row3 col12\" >0.012586</td>\n",
       "            </tr>\n",
       "            <tr>\n",
       "                        <th id=\"T_f2fad5b8_be17_11eb_bf78_bce92f7ef13clevel0_row4\" class=\"row_heading level0 row4\" >Carpet</th>\n",
       "                        <td id=\"T_f2fad5b8_be17_11eb_bf78_bce92f7ef13crow4_col0\" class=\"data row4 col0\" >-0.063215</td>\n",
       "                        <td id=\"T_f2fad5b8_be17_11eb_bf78_bce92f7ef13crow4_col1\" class=\"data row4 col1\" >0.010013</td>\n",
       "                        <td id=\"T_f2fad5b8_be17_11eb_bf78_bce92f7ef13crow4_col2\" class=\"data row4 col2\" >-0.018623</td>\n",
       "                        <td id=\"T_f2fad5b8_be17_11eb_bf78_bce92f7ef13crow4_col3\" class=\"data row4 col3\" >0.010834</td>\n",
       "                        <td id=\"T_f2fad5b8_be17_11eb_bf78_bce92f7ef13crow4_col4\" class=\"data row4 col4\" >1.000000</td>\n",
       "                        <td id=\"T_f2fad5b8_be17_11eb_bf78_bce92f7ef13crow4_col5\" class=\"data row4 col5\" >0.691174</td>\n",
       "                        <td id=\"T_f2fad5b8_be17_11eb_bf78_bce92f7ef13crow4_col6\" class=\"data row4 col6\" >-0.044853</td>\n",
       "                        <td id=\"T_f2fad5b8_be17_11eb_bf78_bce92f7ef13crow4_col7\" class=\"data row4 col7\" >0.099976</td>\n",
       "                        <td id=\"T_f2fad5b8_be17_11eb_bf78_bce92f7ef13crow4_col8\" class=\"data row4 col8\" >0.011586</td>\n",
       "                        <td id=\"T_f2fad5b8_be17_11eb_bf78_bce92f7ef13crow4_col9\" class=\"data row4 col9\" >-0.045323</td>\n",
       "                        <td id=\"T_f2fad5b8_be17_11eb_bf78_bce92f7ef13crow4_col10\" class=\"data row4 col10\" >-0.027038</td>\n",
       "                        <td id=\"T_f2fad5b8_be17_11eb_bf78_bce92f7ef13crow4_col11\" class=\"data row4 col11\" >0.049683</td>\n",
       "                        <td id=\"T_f2fad5b8_be17_11eb_bf78_bce92f7ef13crow4_col12\" class=\"data row4 col12\" >-0.004059</td>\n",
       "            </tr>\n",
       "            <tr>\n",
       "                        <th id=\"T_f2fad5b8_be17_11eb_bf78_bce92f7ef13clevel0_row5\" class=\"row_heading level0 row5\" >Builtup</th>\n",
       "                        <td id=\"T_f2fad5b8_be17_11eb_bf78_bce92f7ef13crow5_col0\" class=\"data row5 col0\" >-0.010417</td>\n",
       "                        <td id=\"T_f2fad5b8_be17_11eb_bf78_bce92f7ef13crow5_col1\" class=\"data row5 col1\" >0.004363</td>\n",
       "                        <td id=\"T_f2fad5b8_be17_11eb_bf78_bce92f7ef13crow5_col2\" class=\"data row5 col2\" >-0.014219</td>\n",
       "                        <td id=\"T_f2fad5b8_be17_11eb_bf78_bce92f7ef13crow5_col3\" class=\"data row5 col3\" >0.005979</td>\n",
       "                        <td id=\"T_f2fad5b8_be17_11eb_bf78_bce92f7ef13crow5_col4\" class=\"data row5 col4\" >0.691174</td>\n",
       "                        <td id=\"T_f2fad5b8_be17_11eb_bf78_bce92f7ef13crow5_col5\" class=\"data row5 col5\" >1.000000</td>\n",
       "                        <td id=\"T_f2fad5b8_be17_11eb_bf78_bce92f7ef13crow5_col6\" class=\"data row5 col6\" >-0.059825</td>\n",
       "                        <td id=\"T_f2fad5b8_be17_11eb_bf78_bce92f7ef13crow5_col7\" class=\"data row5 col7\" >-0.014925</td>\n",
       "                        <td id=\"T_f2fad5b8_be17_11eb_bf78_bce92f7ef13crow5_col8\" class=\"data row5 col8\" >-0.001118</td>\n",
       "                        <td id=\"T_f2fad5b8_be17_11eb_bf78_bce92f7ef13crow5_col9\" class=\"data row5 col9\" >-0.045645</td>\n",
       "                        <td id=\"T_f2fad5b8_be17_11eb_bf78_bce92f7ef13crow5_col10\" class=\"data row5 col10\" >0.015257</td>\n",
       "                        <td id=\"T_f2fad5b8_be17_11eb_bf78_bce92f7ef13crow5_col11\" class=\"data row5 col11\" >0.013909</td>\n",
       "                        <td id=\"T_f2fad5b8_be17_11eb_bf78_bce92f7ef13crow5_col12\" class=\"data row5 col12\" >-0.012211</td>\n",
       "            </tr>\n",
       "            <tr>\n",
       "                        <th id=\"T_f2fad5b8_be17_11eb_bf78_bce92f7ef13clevel0_row6\" class=\"row_heading level0 row6\" >Rainfall</th>\n",
       "                        <td id=\"T_f2fad5b8_be17_11eb_bf78_bce92f7ef13crow6_col0\" class=\"data row6 col0\" >-0.004840</td>\n",
       "                        <td id=\"T_f2fad5b8_be17_11eb_bf78_bce92f7ef13crow6_col1\" class=\"data row6 col1\" >0.020427</td>\n",
       "                        <td id=\"T_f2fad5b8_be17_11eb_bf78_bce92f7ef13crow6_col2\" class=\"data row6 col2\" >0.069186</td>\n",
       "                        <td id=\"T_f2fad5b8_be17_11eb_bf78_bce92f7ef13crow6_col3\" class=\"data row6 col3\" >0.050696</td>\n",
       "                        <td id=\"T_f2fad5b8_be17_11eb_bf78_bce92f7ef13crow6_col4\" class=\"data row6 col4\" >-0.044853</td>\n",
       "                        <td id=\"T_f2fad5b8_be17_11eb_bf78_bce92f7ef13crow6_col5\" class=\"data row6 col5\" >-0.059825</td>\n",
       "                        <td id=\"T_f2fad5b8_be17_11eb_bf78_bce92f7ef13crow6_col6\" class=\"data row6 col6\" >1.000000</td>\n",
       "                        <td id=\"T_f2fad5b8_be17_11eb_bf78_bce92f7ef13crow6_col7\" class=\"data row6 col7\" >0.013430</td>\n",
       "                        <td id=\"T_f2fad5b8_be17_11eb_bf78_bce92f7ef13crow6_col8\" class=\"data row6 col8\" >-0.058006</td>\n",
       "                        <td id=\"T_f2fad5b8_be17_11eb_bf78_bce92f7ef13crow6_col9\" class=\"data row6 col9\" >-0.029913</td>\n",
       "                        <td id=\"T_f2fad5b8_be17_11eb_bf78_bce92f7ef13crow6_col10\" class=\"data row6 col10\" >0.054488</td>\n",
       "                        <td id=\"T_f2fad5b8_be17_11eb_bf78_bce92f7ef13crow6_col11\" class=\"data row6 col11\" >-0.009676</td>\n",
       "                        <td id=\"T_f2fad5b8_be17_11eb_bf78_bce92f7ef13crow6_col12\" class=\"data row6 col12\" >-0.022180</td>\n",
       "            </tr>\n",
       "            <tr>\n",
       "                        <th id=\"T_f2fad5b8_be17_11eb_bf78_bce92f7ef13clevel0_row7\" class=\"row_heading level0 row7\" >House_Price</th>\n",
       "                        <td id=\"T_f2fad5b8_be17_11eb_bf78_bce92f7ef13crow7_col0\" class=\"data row7 col0\" >0.060016</td>\n",
       "                        <td id=\"T_f2fad5b8_be17_11eb_bf78_bce92f7ef13crow7_col1\" class=\"data row7 col1\" >0.108651</td>\n",
       "                        <td id=\"T_f2fad5b8_be17_11eb_bf78_bce92f7ef13crow7_col2\" class=\"data row7 col2\" >0.117713</td>\n",
       "                        <td id=\"T_f2fad5b8_be17_11eb_bf78_bce92f7ef13crow7_col3\" class=\"data row7 col3\" >0.129685</td>\n",
       "                        <td id=\"T_f2fad5b8_be17_11eb_bf78_bce92f7ef13crow7_col4\" class=\"data row7 col4\" >0.099976</td>\n",
       "                        <td id=\"T_f2fad5b8_be17_11eb_bf78_bce92f7ef13crow7_col5\" class=\"data row7 col5\" >-0.014925</td>\n",
       "                        <td id=\"T_f2fad5b8_be17_11eb_bf78_bce92f7ef13crow7_col6\" class=\"data row7 col6\" >0.013430</td>\n",
       "                        <td id=\"T_f2fad5b8_be17_11eb_bf78_bce92f7ef13crow7_col7\" class=\"data row7 col7\" >1.000000</td>\n",
       "                        <td id=\"T_f2fad5b8_be17_11eb_bf78_bce92f7ef13crow7_col8\" class=\"data row7 col8\" >-0.057352</td>\n",
       "                        <td id=\"T_f2fad5b8_be17_11eb_bf78_bce92f7ef13crow7_col9\" class=\"data row7 col9\" >-0.051088</td>\n",
       "                        <td id=\"T_f2fad5b8_be17_11eb_bf78_bce92f7ef13crow7_col10\" class=\"data row7 col10\" >-0.003172</td>\n",
       "                        <td id=\"T_f2fad5b8_be17_11eb_bf78_bce92f7ef13crow7_col11\" class=\"data row7 col11\" >-0.188691</td>\n",
       "                        <td id=\"T_f2fad5b8_be17_11eb_bf78_bce92f7ef13crow7_col12\" class=\"data row7 col12\" >-0.478217</td>\n",
       "            </tr>\n",
       "            <tr>\n",
       "                        <th id=\"T_f2fad5b8_be17_11eb_bf78_bce92f7ef13clevel0_row8\" class=\"row_heading level0 row8\" >Parking_No Parking</th>\n",
       "                        <td id=\"T_f2fad5b8_be17_11eb_bf78_bce92f7ef13crow8_col0\" class=\"data row8 col0\" >0.012458</td>\n",
       "                        <td id=\"T_f2fad5b8_be17_11eb_bf78_bce92f7ef13crow8_col1\" class=\"data row8 col1\" >0.071126</td>\n",
       "                        <td id=\"T_f2fad5b8_be17_11eb_bf78_bce92f7ef13crow8_col2\" class=\"data row8 col2\" >0.036460</td>\n",
       "                        <td id=\"T_f2fad5b8_be17_11eb_bf78_bce92f7ef13crow8_col3\" class=\"data row8 col3\" >0.084149</td>\n",
       "                        <td id=\"T_f2fad5b8_be17_11eb_bf78_bce92f7ef13crow8_col4\" class=\"data row8 col4\" >0.011586</td>\n",
       "                        <td id=\"T_f2fad5b8_be17_11eb_bf78_bce92f7ef13crow8_col5\" class=\"data row8 col5\" >-0.001118</td>\n",
       "                        <td id=\"T_f2fad5b8_be17_11eb_bf78_bce92f7ef13crow8_col6\" class=\"data row8 col6\" >-0.058006</td>\n",
       "                        <td id=\"T_f2fad5b8_be17_11eb_bf78_bce92f7ef13crow8_col7\" class=\"data row8 col7\" >-0.057352</td>\n",
       "                        <td id=\"T_f2fad5b8_be17_11eb_bf78_bce92f7ef13crow8_col8\" class=\"data row8 col8\" >1.000000</td>\n",
       "                        <td id=\"T_f2fad5b8_be17_11eb_bf78_bce92f7ef13crow8_col9\" class=\"data row8 col9\" >-0.243893</td>\n",
       "                        <td id=\"T_f2fad5b8_be17_11eb_bf78_bce92f7ef13crow8_col10\" class=\"data row8 col10\" >-0.350379</td>\n",
       "                        <td id=\"T_f2fad5b8_be17_11eb_bf78_bce92f7ef13crow8_col11\" class=\"data row8 col11\" >-0.022410</td>\n",
       "                        <td id=\"T_f2fad5b8_be17_11eb_bf78_bce92f7ef13crow8_col12\" class=\"data row8 col12\" >0.026702</td>\n",
       "            </tr>\n",
       "            <tr>\n",
       "                        <th id=\"T_f2fad5b8_be17_11eb_bf78_bce92f7ef13clevel0_row9\" class=\"row_heading level0 row9\" >Parking_Not Provided</th>\n",
       "                        <td id=\"T_f2fad5b8_be17_11eb_bf78_bce92f7ef13crow9_col0\" class=\"data row9 col0\" >-0.030736</td>\n",
       "                        <td id=\"T_f2fad5b8_be17_11eb_bf78_bce92f7ef13crow9_col1\" class=\"data row9 col1\" >0.039667</td>\n",
       "                        <td id=\"T_f2fad5b8_be17_11eb_bf78_bce92f7ef13crow9_col2\" class=\"data row9 col2\" >0.022093</td>\n",
       "                        <td id=\"T_f2fad5b8_be17_11eb_bf78_bce92f7ef13crow9_col3\" class=\"data row9 col3\" >0.026815</td>\n",
       "                        <td id=\"T_f2fad5b8_be17_11eb_bf78_bce92f7ef13crow9_col4\" class=\"data row9 col4\" >-0.045323</td>\n",
       "                        <td id=\"T_f2fad5b8_be17_11eb_bf78_bce92f7ef13crow9_col5\" class=\"data row9 col5\" >-0.045645</td>\n",
       "                        <td id=\"T_f2fad5b8_be17_11eb_bf78_bce92f7ef13crow9_col6\" class=\"data row9 col6\" >-0.029913</td>\n",
       "                        <td id=\"T_f2fad5b8_be17_11eb_bf78_bce92f7ef13crow9_col7\" class=\"data row9 col7\" >-0.051088</td>\n",
       "                        <td id=\"T_f2fad5b8_be17_11eb_bf78_bce92f7ef13crow9_col8\" class=\"data row9 col8\" >-0.243893</td>\n",
       "                        <td id=\"T_f2fad5b8_be17_11eb_bf78_bce92f7ef13crow9_col9\" class=\"data row9 col9\" >1.000000</td>\n",
       "                        <td id=\"T_f2fad5b8_be17_11eb_bf78_bce92f7ef13crow9_col10\" class=\"data row9 col10\" >-0.463225</td>\n",
       "                        <td id=\"T_f2fad5b8_be17_11eb_bf78_bce92f7ef13crow9_col11\" class=\"data row9 col11\" >0.001272</td>\n",
       "                        <td id=\"T_f2fad5b8_be17_11eb_bf78_bce92f7ef13crow9_col12\" class=\"data row9 col12\" >-0.011641</td>\n",
       "            </tr>\n",
       "            <tr>\n",
       "                        <th id=\"T_f2fad5b8_be17_11eb_bf78_bce92f7ef13clevel0_row10\" class=\"row_heading level0 row10\" >Parking_Open</th>\n",
       "                        <td id=\"T_f2fad5b8_be17_11eb_bf78_bce92f7ef13crow10_col0\" class=\"data row10 col0\" >0.011095</td>\n",
       "                        <td id=\"T_f2fad5b8_be17_11eb_bf78_bce92f7ef13crow10_col1\" class=\"data row10 col1\" >-0.034390</td>\n",
       "                        <td id=\"T_f2fad5b8_be17_11eb_bf78_bce92f7ef13crow10_col2\" class=\"data row10 col2\" >-0.020818</td>\n",
       "                        <td id=\"T_f2fad5b8_be17_11eb_bf78_bce92f7ef13crow10_col3\" class=\"data row10 col3\" >-0.040200</td>\n",
       "                        <td id=\"T_f2fad5b8_be17_11eb_bf78_bce92f7ef13crow10_col4\" class=\"data row10 col4\" >-0.027038</td>\n",
       "                        <td id=\"T_f2fad5b8_be17_11eb_bf78_bce92f7ef13crow10_col5\" class=\"data row10 col5\" >0.015257</td>\n",
       "                        <td id=\"T_f2fad5b8_be17_11eb_bf78_bce92f7ef13crow10_col6\" class=\"data row10 col6\" >0.054488</td>\n",
       "                        <td id=\"T_f2fad5b8_be17_11eb_bf78_bce92f7ef13crow10_col7\" class=\"data row10 col7\" >-0.003172</td>\n",
       "                        <td id=\"T_f2fad5b8_be17_11eb_bf78_bce92f7ef13crow10_col8\" class=\"data row10 col8\" >-0.350379</td>\n",
       "                        <td id=\"T_f2fad5b8_be17_11eb_bf78_bce92f7ef13crow10_col9\" class=\"data row10 col9\" >-0.463225</td>\n",
       "                        <td id=\"T_f2fad5b8_be17_11eb_bf78_bce92f7ef13crow10_col10\" class=\"data row10 col10\" >1.000000</td>\n",
       "                        <td id=\"T_f2fad5b8_be17_11eb_bf78_bce92f7ef13crow10_col11\" class=\"data row10 col11\" >0.060922</td>\n",
       "                        <td id=\"T_f2fad5b8_be17_11eb_bf78_bce92f7ef13crow10_col12\" class=\"data row10 col12\" >-0.015573</td>\n",
       "            </tr>\n",
       "            <tr>\n",
       "                        <th id=\"T_f2fad5b8_be17_11eb_bf78_bce92f7ef13clevel0_row11\" class=\"row_heading level0 row11\" >City_Category_CAT B</th>\n",
       "                        <td id=\"T_f2fad5b8_be17_11eb_bf78_bce92f7ef13crow11_col0\" class=\"data row11 col0\" >-0.031110</td>\n",
       "                        <td id=\"T_f2fad5b8_be17_11eb_bf78_bce92f7ef13crow11_col1\" class=\"data row11 col1\" >-0.047013</td>\n",
       "                        <td id=\"T_f2fad5b8_be17_11eb_bf78_bce92f7ef13crow11_col2\" class=\"data row11 col2\" >-0.101282</td>\n",
       "                        <td id=\"T_f2fad5b8_be17_11eb_bf78_bce92f7ef13crow11_col3\" class=\"data row11 col3\" >-0.065420</td>\n",
       "                        <td id=\"T_f2fad5b8_be17_11eb_bf78_bce92f7ef13crow11_col4\" class=\"data row11 col4\" >0.049683</td>\n",
       "                        <td id=\"T_f2fad5b8_be17_11eb_bf78_bce92f7ef13crow11_col5\" class=\"data row11 col5\" >0.013909</td>\n",
       "                        <td id=\"T_f2fad5b8_be17_11eb_bf78_bce92f7ef13crow11_col6\" class=\"data row11 col6\" >-0.009676</td>\n",
       "                        <td id=\"T_f2fad5b8_be17_11eb_bf78_bce92f7ef13crow11_col7\" class=\"data row11 col7\" >-0.188691</td>\n",
       "                        <td id=\"T_f2fad5b8_be17_11eb_bf78_bce92f7ef13crow11_col8\" class=\"data row11 col8\" >-0.022410</td>\n",
       "                        <td id=\"T_f2fad5b8_be17_11eb_bf78_bce92f7ef13crow11_col9\" class=\"data row11 col9\" >0.001272</td>\n",
       "                        <td id=\"T_f2fad5b8_be17_11eb_bf78_bce92f7ef13crow11_col10\" class=\"data row11 col10\" >0.060922</td>\n",
       "                        <td id=\"T_f2fad5b8_be17_11eb_bf78_bce92f7ef13crow11_col11\" class=\"data row11 col11\" >1.000000</td>\n",
       "                        <td id=\"T_f2fad5b8_be17_11eb_bf78_bce92f7ef13crow11_col12\" class=\"data row11 col12\" >-0.469549</td>\n",
       "            </tr>\n",
       "            <tr>\n",
       "                        <th id=\"T_f2fad5b8_be17_11eb_bf78_bce92f7ef13clevel0_row12\" class=\"row_heading level0 row12\" >City_Category_CAT C</th>\n",
       "                        <td id=\"T_f2fad5b8_be17_11eb_bf78_bce92f7ef13crow12_col0\" class=\"data row12 col0\" >0.006312</td>\n",
       "                        <td id=\"T_f2fad5b8_be17_11eb_bf78_bce92f7ef13crow12_col1\" class=\"data row12 col1\" >0.021940</td>\n",
       "                        <td id=\"T_f2fad5b8_be17_11eb_bf78_bce92f7ef13crow12_col2\" class=\"data row12 col2\" >0.009914</td>\n",
       "                        <td id=\"T_f2fad5b8_be17_11eb_bf78_bce92f7ef13crow12_col3\" class=\"data row12 col3\" >0.012586</td>\n",
       "                        <td id=\"T_f2fad5b8_be17_11eb_bf78_bce92f7ef13crow12_col4\" class=\"data row12 col4\" >-0.004059</td>\n",
       "                        <td id=\"T_f2fad5b8_be17_11eb_bf78_bce92f7ef13crow12_col5\" class=\"data row12 col5\" >-0.012211</td>\n",
       "                        <td id=\"T_f2fad5b8_be17_11eb_bf78_bce92f7ef13crow12_col6\" class=\"data row12 col6\" >-0.022180</td>\n",
       "                        <td id=\"T_f2fad5b8_be17_11eb_bf78_bce92f7ef13crow12_col7\" class=\"data row12 col7\" >-0.478217</td>\n",
       "                        <td id=\"T_f2fad5b8_be17_11eb_bf78_bce92f7ef13crow12_col8\" class=\"data row12 col8\" >0.026702</td>\n",
       "                        <td id=\"T_f2fad5b8_be17_11eb_bf78_bce92f7ef13crow12_col9\" class=\"data row12 col9\" >-0.011641</td>\n",
       "                        <td id=\"T_f2fad5b8_be17_11eb_bf78_bce92f7ef13crow12_col10\" class=\"data row12 col10\" >-0.015573</td>\n",
       "                        <td id=\"T_f2fad5b8_be17_11eb_bf78_bce92f7ef13crow12_col11\" class=\"data row12 col11\" >-0.469549</td>\n",
       "                        <td id=\"T_f2fad5b8_be17_11eb_bf78_bce92f7ef13crow12_col12\" class=\"data row12 col12\" >1.000000</td>\n",
       "            </tr>\n",
       "    </tbody></table>"
      ],
      "text/plain": [
       "<pandas.io.formats.style.Styler at 0x185f9fcef10>"
      ]
     },
     "execution_count": 131,
     "metadata": {},
     "output_type": "execute_result"
    }
   ],
   "source": [
    "corr = corr_data1.corr()\n",
    "corr.style.background_gradient()"
   ]
  },
  {
   "cell_type": "code",
   "execution_count": 133,
   "metadata": {},
   "outputs": [
    {
     "data": {
      "text/html": [
       "<div>\n",
       "<style scoped>\n",
       "    .dataframe tbody tr th:only-of-type {\n",
       "        vertical-align: middle;\n",
       "    }\n",
       "\n",
       "    .dataframe tbody tr th {\n",
       "        vertical-align: top;\n",
       "    }\n",
       "\n",
       "    .dataframe thead th {\n",
       "        text-align: right;\n",
       "    }\n",
       "</style>\n",
       "<table border=\"1\" class=\"dataframe\">\n",
       "  <thead>\n",
       "    <tr style=\"text-align: right;\">\n",
       "      <th></th>\n",
       "      <th>House_Number</th>\n",
       "      <th>Dist_Taxi</th>\n",
       "      <th>Dist_Market</th>\n",
       "      <th>Dist_Hospital</th>\n",
       "      <th>Carpet</th>\n",
       "      <th>Builtup</th>\n",
       "      <th>Rainfall</th>\n",
       "      <th>House_Price</th>\n",
       "      <th>Parking_No Parking</th>\n",
       "      <th>Parking_Not Provided</th>\n",
       "      <th>Parking_Open</th>\n",
       "      <th>City_Category_CAT B</th>\n",
       "      <th>City_Category_CAT C</th>\n",
       "    </tr>\n",
       "  </thead>\n",
       "  <tbody>\n",
       "    <tr>\n",
       "      <th>0</th>\n",
       "      <td>1</td>\n",
       "      <td>9796</td>\n",
       "      <td>5250.0</td>\n",
       "      <td>10703</td>\n",
       "      <td>1659</td>\n",
       "      <td>1961.0</td>\n",
       "      <td>530</td>\n",
       "      <td>6649000</td>\n",
       "      <td>0</td>\n",
       "      <td>0</td>\n",
       "      <td>1</td>\n",
       "      <td>1</td>\n",
       "      <td>0</td>\n",
       "    </tr>\n",
       "    <tr>\n",
       "      <th>1</th>\n",
       "      <td>2</td>\n",
       "      <td>8294</td>\n",
       "      <td>8186.0</td>\n",
       "      <td>12694</td>\n",
       "      <td>1461</td>\n",
       "      <td>1752.0</td>\n",
       "      <td>210</td>\n",
       "      <td>3982000</td>\n",
       "      <td>0</td>\n",
       "      <td>1</td>\n",
       "      <td>0</td>\n",
       "      <td>1</td>\n",
       "      <td>0</td>\n",
       "    </tr>\n",
       "    <tr>\n",
       "      <th>2</th>\n",
       "      <td>3</td>\n",
       "      <td>11001</td>\n",
       "      <td>14399.0</td>\n",
       "      <td>16991</td>\n",
       "      <td>1340</td>\n",
       "      <td>1609.0</td>\n",
       "      <td>720</td>\n",
       "      <td>5401000</td>\n",
       "      <td>0</td>\n",
       "      <td>1</td>\n",
       "      <td>0</td>\n",
       "      <td>0</td>\n",
       "      <td>0</td>\n",
       "    </tr>\n",
       "    <tr>\n",
       "      <th>3</th>\n",
       "      <td>4</td>\n",
       "      <td>8301</td>\n",
       "      <td>11188.0</td>\n",
       "      <td>12289</td>\n",
       "      <td>1451</td>\n",
       "      <td>1748.0</td>\n",
       "      <td>620</td>\n",
       "      <td>5373000</td>\n",
       "      <td>0</td>\n",
       "      <td>0</td>\n",
       "      <td>0</td>\n",
       "      <td>1</td>\n",
       "      <td>0</td>\n",
       "    </tr>\n",
       "    <tr>\n",
       "      <th>4</th>\n",
       "      <td>5</td>\n",
       "      <td>10510</td>\n",
       "      <td>12629.0</td>\n",
       "      <td>13921</td>\n",
       "      <td>1770</td>\n",
       "      <td>2111.0</td>\n",
       "      <td>450</td>\n",
       "      <td>4662000</td>\n",
       "      <td>0</td>\n",
       "      <td>1</td>\n",
       "      <td>0</td>\n",
       "      <td>1</td>\n",
       "      <td>0</td>\n",
       "    </tr>\n",
       "  </tbody>\n",
       "</table>\n",
       "</div>"
      ],
      "text/plain": [
       "   House_Number  Dist_Taxi  Dist_Market  Dist_Hospital  Carpet  Builtup  \\\n",
       "0             1       9796       5250.0          10703    1659   1961.0   \n",
       "1             2       8294       8186.0          12694    1461   1752.0   \n",
       "2             3      11001      14399.0          16991    1340   1609.0   \n",
       "3             4       8301      11188.0          12289    1451   1748.0   \n",
       "4             5      10510      12629.0          13921    1770   2111.0   \n",
       "\n",
       "   Rainfall  House_Price  Parking_No Parking  Parking_Not Provided  \\\n",
       "0       530      6649000                   0                     0   \n",
       "1       210      3982000                   0                     1   \n",
       "2       720      5401000                   0                     1   \n",
       "3       620      5373000                   0                     0   \n",
       "4       450      4662000                   0                     1   \n",
       "\n",
       "   Parking_Open  City_Category_CAT B  City_Category_CAT C  \n",
       "0             1                    1                    0  \n",
       "1             0                    1                    0  \n",
       "2             0                    0                    0  \n",
       "3             0                    1                    0  \n",
       "4             0                    1                    0  "
      ]
     },
     "execution_count": 133,
     "metadata": {},
     "output_type": "execute_result"
    }
   ],
   "source": [
    "final_dataset.head()"
   ]
  },
  {
   "cell_type": "code",
   "execution_count": 154,
   "metadata": {},
   "outputs": [],
   "source": [
    "final_dataset =df_clean2"
   ]
  },
  {
   "cell_type": "code",
   "execution_count": 171,
   "metadata": {},
   "outputs": [],
   "source": [
    "X = final_dataset[final_dataset.columns]\n",
    "y = final_dataset.iloc[:,7:8]"
   ]
  },
  {
   "cell_type": "code",
   "execution_count": 172,
   "metadata": {},
   "outputs": [
    {
     "data": {
      "text/html": [
       "<div>\n",
       "<style scoped>\n",
       "    .dataframe tbody tr th:only-of-type {\n",
       "        vertical-align: middle;\n",
       "    }\n",
       "\n",
       "    .dataframe tbody tr th {\n",
       "        vertical-align: top;\n",
       "    }\n",
       "\n",
       "    .dataframe thead th {\n",
       "        text-align: right;\n",
       "    }\n",
       "</style>\n",
       "<table border=\"1\" class=\"dataframe\">\n",
       "  <thead>\n",
       "    <tr style=\"text-align: right;\">\n",
       "      <th></th>\n",
       "      <th>Dist_Taxi</th>\n",
       "      <th>Dist_Market</th>\n",
       "      <th>Dist_Hospital</th>\n",
       "      <th>Carpet</th>\n",
       "      <th>Builtup</th>\n",
       "      <th>Rainfall</th>\n",
       "      <th>Parking_No Parking</th>\n",
       "      <th>Parking_Not Provided</th>\n",
       "      <th>Parking_Open</th>\n",
       "      <th>City_Category_CAT B</th>\n",
       "      <th>City_Category_CAT C</th>\n",
       "    </tr>\n",
       "  </thead>\n",
       "  <tbody>\n",
       "    <tr>\n",
       "      <th>0</th>\n",
       "      <td>9796</td>\n",
       "      <td>5250.0</td>\n",
       "      <td>10703</td>\n",
       "      <td>1659</td>\n",
       "      <td>1961.0</td>\n",
       "      <td>530</td>\n",
       "      <td>0</td>\n",
       "      <td>0</td>\n",
       "      <td>1</td>\n",
       "      <td>1</td>\n",
       "      <td>0</td>\n",
       "    </tr>\n",
       "    <tr>\n",
       "      <th>1</th>\n",
       "      <td>8294</td>\n",
       "      <td>8186.0</td>\n",
       "      <td>12694</td>\n",
       "      <td>1461</td>\n",
       "      <td>1752.0</td>\n",
       "      <td>210</td>\n",
       "      <td>0</td>\n",
       "      <td>1</td>\n",
       "      <td>0</td>\n",
       "      <td>1</td>\n",
       "      <td>0</td>\n",
       "    </tr>\n",
       "    <tr>\n",
       "      <th>2</th>\n",
       "      <td>11001</td>\n",
       "      <td>14399.0</td>\n",
       "      <td>16991</td>\n",
       "      <td>1340</td>\n",
       "      <td>1609.0</td>\n",
       "      <td>720</td>\n",
       "      <td>0</td>\n",
       "      <td>1</td>\n",
       "      <td>0</td>\n",
       "      <td>0</td>\n",
       "      <td>0</td>\n",
       "    </tr>\n",
       "    <tr>\n",
       "      <th>3</th>\n",
       "      <td>8301</td>\n",
       "      <td>11188.0</td>\n",
       "      <td>12289</td>\n",
       "      <td>1451</td>\n",
       "      <td>1748.0</td>\n",
       "      <td>620</td>\n",
       "      <td>0</td>\n",
       "      <td>0</td>\n",
       "      <td>0</td>\n",
       "      <td>1</td>\n",
       "      <td>0</td>\n",
       "    </tr>\n",
       "    <tr>\n",
       "      <th>4</th>\n",
       "      <td>10510</td>\n",
       "      <td>12629.0</td>\n",
       "      <td>13921</td>\n",
       "      <td>1770</td>\n",
       "      <td>2111.0</td>\n",
       "      <td>450</td>\n",
       "      <td>0</td>\n",
       "      <td>1</td>\n",
       "      <td>0</td>\n",
       "      <td>1</td>\n",
       "      <td>0</td>\n",
       "    </tr>\n",
       "  </tbody>\n",
       "</table>\n",
       "</div>"
      ],
      "text/plain": [
       "   Dist_Taxi  Dist_Market  Dist_Hospital  Carpet  Builtup  Rainfall  \\\n",
       "0       9796       5250.0          10703    1659   1961.0       530   \n",
       "1       8294       8186.0          12694    1461   1752.0       210   \n",
       "2      11001      14399.0          16991    1340   1609.0       720   \n",
       "3       8301      11188.0          12289    1451   1748.0       620   \n",
       "4      10510      12629.0          13921    1770   2111.0       450   \n",
       "\n",
       "   Parking_No Parking  Parking_Not Provided  Parking_Open  \\\n",
       "0                   0                     0             1   \n",
       "1                   0                     1             0   \n",
       "2                   0                     1             0   \n",
       "3                   0                     0             0   \n",
       "4                   0                     1             0   \n",
       "\n",
       "   City_Category_CAT B  City_Category_CAT C  \n",
       "0                    1                    0  \n",
       "1                    1                    0  \n",
       "2                    0                    0  \n",
       "3                    1                    0  \n",
       "4                    1                    0  "
      ]
     },
     "execution_count": 172,
     "metadata": {},
     "output_type": "execute_result"
    }
   ],
   "source": [
    "X.drop(columns = ['House_Price', 'House_Number'], inplace = True)\n",
    "X.head()"
   ]
  },
  {
   "cell_type": "code",
   "execution_count": 173,
   "metadata": {},
   "outputs": [
    {
     "data": {
      "text/html": [
       "<div>\n",
       "<style scoped>\n",
       "    .dataframe tbody tr th:only-of-type {\n",
       "        vertical-align: middle;\n",
       "    }\n",
       "\n",
       "    .dataframe tbody tr th {\n",
       "        vertical-align: top;\n",
       "    }\n",
       "\n",
       "    .dataframe thead th {\n",
       "        text-align: right;\n",
       "    }\n",
       "</style>\n",
       "<table border=\"1\" class=\"dataframe\">\n",
       "  <thead>\n",
       "    <tr style=\"text-align: right;\">\n",
       "      <th></th>\n",
       "      <th>House_Price</th>\n",
       "    </tr>\n",
       "  </thead>\n",
       "  <tbody>\n",
       "    <tr>\n",
       "      <th>0</th>\n",
       "      <td>6649000</td>\n",
       "    </tr>\n",
       "    <tr>\n",
       "      <th>1</th>\n",
       "      <td>3982000</td>\n",
       "    </tr>\n",
       "    <tr>\n",
       "      <th>2</th>\n",
       "      <td>5401000</td>\n",
       "    </tr>\n",
       "    <tr>\n",
       "      <th>3</th>\n",
       "      <td>5373000</td>\n",
       "    </tr>\n",
       "    <tr>\n",
       "      <th>4</th>\n",
       "      <td>4662000</td>\n",
       "    </tr>\n",
       "  </tbody>\n",
       "</table>\n",
       "</div>"
      ],
      "text/plain": [
       "   House_Price\n",
       "0      6649000\n",
       "1      3982000\n",
       "2      5401000\n",
       "3      5373000\n",
       "4      4662000"
      ]
     },
     "execution_count": 173,
     "metadata": {},
     "output_type": "execute_result"
    }
   ],
   "source": [
    "y.head()"
   ]
  },
  {
   "cell_type": "code",
   "execution_count": 174,
   "metadata": {},
   "outputs": [
    {
     "data": {
      "text/plain": [
       "LinearRegression()"
      ]
     },
     "execution_count": 174,
     "metadata": {},
     "output_type": "execute_result"
    }
   ],
   "source": [
    "lreg.fit(X,y)"
   ]
  },
  {
   "cell_type": "code",
   "execution_count": 178,
   "metadata": {},
   "outputs": [],
   "source": [
    "from sklearn.model_selection import train_test_split\n",
    "x_train, X_test, y_train, y_test = train_test_split(X, y, test_size = 0.2)"
   ]
  },
  {
   "cell_type": "code",
   "execution_count": 179,
   "metadata": {},
   "outputs": [
    {
     "data": {
      "text/plain": [
       "(744, 11)"
      ]
     },
     "execution_count": 179,
     "metadata": {},
     "output_type": "execute_result"
    }
   ],
   "source": [
    "x_train.shape"
   ]
  },
  {
   "cell_type": "code",
   "execution_count": 181,
   "metadata": {},
   "outputs": [
    {
     "data": {
      "text/plain": [
       "LinearRegression()"
      ]
     },
     "execution_count": 181,
     "metadata": {},
     "output_type": "execute_result"
    }
   ],
   "source": [
    "lreg.fit(x_train,y_train)"
   ]
  },
  {
   "cell_type": "code",
   "execution_count": 185,
   "metadata": {
    "collapsed": true
   },
   "outputs": [
    {
     "name": "stdout",
     "output_type": "stream",
     "text": [
      "[[5577068.09842337]\n",
      " [4242948.44875178]\n",
      " [4643718.75261399]\n",
      " [5060430.50714804]\n",
      " [7348874.82761246]\n",
      " [5147752.24021164]\n",
      " [4767926.19029183]\n",
      " [4885774.55586273]\n",
      " [5673224.45485605]\n",
      " [4293622.68848426]\n",
      " [3992063.82472576]\n",
      " [7488868.52166575]\n",
      " [6031416.06449682]\n",
      " [6035701.3294096 ]\n",
      " [5716596.00751461]\n",
      " [7674557.9700115 ]\n",
      " [7097883.44110357]\n",
      " [5289258.19481012]\n",
      " [5409506.31570905]\n",
      " [7466099.37057883]\n",
      " [8037367.83178154]\n",
      " [6797628.98915264]\n",
      " [4571924.52088788]\n",
      " [7288552.36801752]\n",
      " [5013445.60041177]\n",
      " [4617574.85764558]\n",
      " [6717905.64533892]\n",
      " [4325337.19902022]\n",
      " [4118331.6619387 ]\n",
      " [4868642.54157484]\n",
      " [5727872.41226287]\n",
      " [4322494.0238366 ]\n",
      " [3883488.17180811]\n",
      " [4124066.74455202]\n",
      " [5566579.87116594]\n",
      " [5012955.0793536 ]\n",
      " [5437819.21615857]\n",
      " [5074106.38211142]\n",
      " [7227067.4207929 ]\n",
      " [4951818.76707736]\n",
      " [7262545.09837081]\n",
      " [7165286.91119328]\n",
      " [5412882.92605791]\n",
      " [7823611.20785812]\n",
      " [7237350.9768909 ]\n",
      " [6064314.57511058]\n",
      " [5303697.74379466]\n",
      " [4337851.59064901]\n",
      " [4588952.658236  ]\n",
      " [4475191.46099951]\n",
      " [6443168.10403845]\n",
      " [4568112.16283532]\n",
      " [4788845.01630893]\n",
      " [4144316.27948997]\n",
      " [7168433.47047503]\n",
      " [3891667.12885966]\n",
      " [7728453.03023963]\n",
      " [5682376.00660829]\n",
      " [5082721.58964141]\n",
      " [4914437.79356145]\n",
      " [5408135.09887818]\n",
      " [4307643.48591066]\n",
      " [4321110.49076439]\n",
      " [7613988.95086035]\n",
      " [4298339.18298466]\n",
      " [7149771.03964086]\n",
      " [4711392.89936963]\n",
      " [4979891.2067544 ]\n",
      " [7595269.65821172]\n",
      " [5524165.08018419]\n",
      " [7486292.35013381]\n",
      " [5710620.11960222]\n",
      " [4364428.20547345]\n",
      " [5719804.50663589]\n",
      " [3489140.23583049]\n",
      " [5759977.49851063]\n",
      " [5658144.41943418]\n",
      " [5349208.9957546 ]\n",
      " [5075073.03443616]\n",
      " [4886153.47015143]\n",
      " [4771730.40551113]\n",
      " [4322878.65993257]\n",
      " [7301130.83114111]\n",
      " [4959724.10338719]\n",
      " [5909403.88490689]\n",
      " [5495604.38447456]\n",
      " [5546540.23784653]\n",
      " [5507904.52781276]\n",
      " [4873933.02586863]\n",
      " [6218917.45175145]\n",
      " [8290816.91784079]\n",
      " [7519295.8070934 ]\n",
      " [7370901.67262389]\n",
      " [6957675.82991804]\n",
      " [7172843.58019992]\n",
      " [3900737.60891929]\n",
      " [7082208.70567976]\n",
      " [7876636.78032962]\n",
      " [7269851.29244062]\n",
      " [4154059.06350037]\n",
      " [7238441.77376038]\n",
      " [7238137.40631855]\n",
      " [7162648.95910996]\n",
      " [4610341.01039203]\n",
      " [7632873.32907925]\n",
      " [6625440.6101167 ]\n",
      " [5053507.03871506]\n",
      " [4666397.31496713]\n",
      " [6838166.90536556]\n",
      " [7170008.38661336]\n",
      " [7410269.33006748]\n",
      " [7710559.21016299]\n",
      " [5548388.89483726]\n",
      " [7459547.86087809]\n",
      " [5101862.61058243]\n",
      " [4618102.66002391]\n",
      " [7888156.97599124]\n",
      " [4950810.68267228]\n",
      " [7903493.41796027]\n",
      " [7842877.35589522]\n",
      " [4633446.88659412]\n",
      " [5231867.4290972 ]\n",
      " [7819504.05516439]\n",
      " [4202050.6572603 ]\n",
      " [7451380.38447286]\n",
      " [4329181.19638408]\n",
      " [4757366.03103552]\n",
      " [7483140.93360663]\n",
      " [4394977.06664158]\n",
      " [6877786.32845571]\n",
      " [7880161.19132151]\n",
      " [7362289.03520168]\n",
      " [4796124.07265303]\n",
      " [5827734.53314024]\n",
      " [5437234.88000908]\n",
      " [6068957.44616186]\n",
      " [5125963.46546703]\n",
      " [7106654.35431043]\n",
      " [7486297.38029475]\n",
      " [7669154.5273779 ]\n",
      " [4435818.33752077]\n",
      " [4451282.97868424]\n",
      " [6884616.42871318]\n",
      " [5264421.41971668]\n",
      " [5975684.95599508]\n",
      " [6039990.07327936]\n",
      " [5287242.13163537]\n",
      " [5639506.24574253]\n",
      " [5814681.49222638]\n",
      " [5647561.95476113]\n",
      " [4716201.36761634]\n",
      " [5517189.09025921]\n",
      " [7274003.26660803]\n",
      " [5869810.0007519 ]\n",
      " [4686783.96281295]\n",
      " [4112395.06255923]\n",
      " [4253465.48028305]\n",
      " [5084525.39183835]\n",
      " [5043079.30075391]\n",
      " [5648981.71352757]\n",
      " [3612527.00646425]\n",
      " [6314895.76784362]\n",
      " [5506270.20167928]\n",
      " [5981956.63637469]\n",
      " [4064250.88519963]\n",
      " [4616695.77450292]\n",
      " [4745918.76937446]\n",
      " [5694670.80856734]\n",
      " [7175923.02646625]\n",
      " [7954411.82016359]\n",
      " [5314941.75434851]\n",
      " [7673943.06578532]\n",
      " [5376928.62627571]\n",
      " [7198036.58950329]\n",
      " [5149745.83397435]\n",
      " [4840715.55968458]\n",
      " [5424736.59069492]\n",
      " [7021144.05080341]\n",
      " [4831166.56561827]\n",
      " [7143019.28622023]\n",
      " [7688329.29472259]\n",
      " [5896050.12951738]\n",
      " [5298062.69256015]\n",
      " [5658411.05727207]\n",
      " [7665553.50483759]\n",
      " [7272806.18940917]\n",
      " [5541617.83882677]]\n"
     ]
    }
   ],
   "source": [
    "pred = lreg.predict(X_test)\n",
    "print(pred)"
   ]
  },
  {
   "cell_type": "code",
   "execution_count": 189,
   "metadata": {},
   "outputs": [
    {
     "data": {
      "text/plain": [
       "<matplotlib.axes._subplots.AxesSubplot at 0x185fb4f26a0>"
      ]
     },
     "execution_count": 189,
     "metadata": {},
     "output_type": "execute_result"
    },
    {
     "data": {
      "image/png": "[encoded data removed]",
      "text/plain": [
       "<Figure size 432x288 with 1 Axes>"
      ]
     },
     "metadata": {
      "needs_background": "light"
     },
     "output_type": "display_data"
    }
   ],
   "source": [
    "import seaborn as sns\n",
    "sns.distplot(y_test-pred)"
   ]
  },
  {
   "cell_type": "code",
   "execution_count": 191,
   "metadata": {},
   "outputs": [],
   "source": [
    "# import pickle\n",
    "# file = open('House_Price_prediction.pkl', 'wb')\n",
    "# pickle.dump(lreg, file)"
   ]
  },
  {
   "cell_type": "code",
   "execution_count": null,
   "metadata": {},
   "outputs": [],
   "source": []
  }
 ],
 "metadata": {
  "kernelspec": {
   "display_name": "Python 3",
   "language": "python",
   "name": "python3"
  },
  "language_info": {
   "codemirror_mode": {
    "name": "ipython",
    "version": 3
   },
   "file_extension": ".py",
   "mimetype": "text/x-python",
   "name": "python",
   "nbconvert_exporter": "python",
   "pygments_lexer": "ipython3",
   "version": "3.8.3"
  }
 },
 "nbformat": 4,
 "nbformat_minor": 2
}
